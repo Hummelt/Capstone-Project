{
 "cells": [
  {
   "cell_type": "code",
   "execution_count": 4,
   "metadata": {},
   "outputs": [
    {
     "data": {
      "text/html": "        <script type=\"text/javascript\">\n        window.PlotlyConfig = {MathJaxConfig: 'local'};\n        if (window.MathJax) {MathJax.Hub.Config({SVG: {font: \"STIX-Web\"}});}\n        if (typeof require !== 'undefined') {\n        require.undef(\"plotly\");\n        requirejs.config({\n            paths: {\n                'plotly': ['https://cdn.plot.ly/plotly-latest.min']\n            }\n        });\n        require(['plotly'], function(Plotly) {\n            window._Plotly = Plotly;\n        });\n        }\n        </script>\n        "
     },
     "metadata": {},
     "output_type": "display_data"
    }
   ],
   "source": [
    "import pandas as pd\r\n",
    "import numpy as np\r\n",
    "\r\n",
    "from datetime import datetime as dt\r\n",
    "from datetime import timedelta\r\n",
    "import re\r\n",
    "from sklearn.preprocessing import StandardScaler\r\n",
    "\r\n",
    "import matplotlib.pyplot as plt\r\n",
    "import matplotlib.dates as mdates\r\n",
    "import seaborn as sns\r\n",
    "\r\n",
    "import plotly as py\r\n",
    "import plotly.offline as offline\r\n",
    "import plotly.graph_objs as go\r\n",
    "from plotly.offline import download_plotlyjs, init_notebook_mode, plot, iplot\r\n",
    "from plotly.graph_objs import Scatter, Figure, Layout\r\n",
    "from plotly import tools\r\n",
    "import matplotlib.pyplot as plt\r\n",
    "import plotly.graph_objs as go\r\n",
    "from plotly.offline import iplot\r\n",
    "\r\n",
    "init_notebook_mode(connected=True)\r\n",
    "%matplotlib inline"
   ]
  },
  {
   "cell_type": "code",
   "execution_count": 5,
   "metadata": {},
   "outputs": [],
   "source": [
    "class Olist_analysis():\r\n",
    "\r\n",
    "    def __init__(self):\r\n",
    "\r\n",
    "        print('Olist analysis class initialized')\r\n",
    "\r\n",
    "    def convert_to_dt(dat, cols):\r\n",
    "        '''\r\n",
    "        Function takes in a dataframe name and date\r\n",
    "        columns for conversion into datetime format\r\n",
    "        Input:\r\n",
    "        - Dataframe\r\n",
    "        Output:\r\n",
    "        - None (Converts the format of the column into datetime)\r\n",
    "        '''\r\n",
    "        for col in cols:\r\n",
    "            dat[col] = pd.to_datetime(dat[col]).dt.date\r\n",
    "\r\n",
    "    def plot_waffle_chart(dat, metric, agg, title_txt, group='sub_segment'):\r\n",
    "        '''\r\n",
    "        Funtion to create a waffle chart. The visualization shows how the\r\n",
    "        customer sub-segments are distributed according defined metrics.\r\n",
    "        Input:\r\n",
    "        - dat - dataframe\r\n",
    "        - metric - feature/ kpi metric to visualize\r\n",
    "        - agg - method to aggregate\r\n",
    "        - title_txt - text to display as chart title\r\n",
    "        Outout:\r\n",
    "        - waffle chart\r\n",
    "        '''\r\n",
    "        data_revenue = dict(round(\r\n",
    "            dat.groupby(group).agg({metric: agg}))[metric])\r\n",
    "\r\n",
    "        plt.figure(\r\n",
    "            FigureClass=Waffle,\r\n",
    "            rows=5,\r\n",
    "            columns=10,\r\n",
    "            values=data_revenue,\r\n",
    "            labels=[f\"{k, v}\" for k, v in data_revenue.items()],\r\n",
    "            legend={'loc': 'lower left', 'bbox_to_anchor': (1, 0)},\r\n",
    "            figsize=(8, 5)\r\n",
    "            )\r\n",
    "\r\n",
    "        plt.title(title_txt)\r\n",
    "\r\n",
    "    def plot_map(\r\n",
    "                df,\r\n",
    "                title,\r\n",
    "                lower_bound,\r\n",
    "                upper_bound,\r\n",
    "                metric,\r\n",
    "                maker_size=3,\r\n",
    "                sub_segment_y_n=False\r\n",
    "                ):\r\n",
    "        '''\r\n",
    "        Funtion for geographic data visualization of demographic metrics.\r\n",
    "        Input:\r\n",
    "        - df - dataframe with target feature\r\n",
    "            (metric; color-code field needed if sub_segment to visualize\r\n",
    "        - title - text to display as chart title\r\n",
    "        - lower_bound - lower threshold for color scale\r\n",
    "        - upper_bound - upper threshold for color scale\r\n",
    "        - metric - feature/ kpi metric to visualize\r\n",
    "        - sub_sement_y_n - boolean,\r\n",
    "            if \"True\": sub-segment will be visualized with color-code,\r\n",
    "            if no, color acording value\r\n",
    "        - marker_size - size of the marker\r\n",
    "        Outout:\r\n",
    "        - geographic data visualization\r\n",
    "        '''\r\n",
    "\r\n",
    "        if sub_segment_y_n is True:\r\n",
    "            dict_marker = dict(\r\n",
    "                size=maker_size,\r\n",
    "                color=df.color,\r\n",
    "                )\r\n",
    "        else:\r\n",
    "            dict_marker = dict(\r\n",
    "                size=maker_size,\r\n",
    "                color=df[metric],\r\n",
    "                showscale=True,\r\n",
    "                colorscale=[[0, 'blue'],\r\n",
    "                            [1, 'red']],\r\n",
    "                cmin=lower_bound,\r\n",
    "                cmax=upper_bound\r\n",
    "                )\r\n",
    "\r\n",
    "        data_geo = [go.Scattermapbox(\r\n",
    "            lon=df['geolocation_lng'],\r\n",
    "            lat=df['geolocation_lat'],\r\n",
    "            marker=dict_marker\r\n",
    "            )]\r\n",
    "\r\n",
    "        layout = dict(\r\n",
    "                title=title,\r\n",
    "                showlegend=False,\r\n",
    "                mapbox=dict(\r\n",
    "                    accesstoken='pk.eyJ1IjoiaG9vbmtlbmc5MyIsImEiOiJjam43cGhpNng2ZmpxM3JxY3Z4ODl2NWo3In0.SGRvJlToMtgRxw9ZWzPFrA',\r\n",
    "                    center=dict(lat=-23.5, lon=-46.6),\r\n",
    "                    bearing=10,\r\n",
    "                    pitch=0,\r\n",
    "                    zoom=2,\r\n",
    "                )\r\n",
    "            )\r\n",
    "        fig = dict(data=data_geo, layout=layout)\r\n",
    "        iplot(fig, validate=False)"
   ]
  },
  {
   "cell_type": "code",
   "execution_count": 6,
   "metadata": {},
   "outputs": [],
   "source": [
    "# Customer lookup table\r\n",
    "df_customer = pd.read_csv(\"../0 - data/olist_customers_dataset.csv\")"
   ]
  },
  {
   "cell_type": "code",
   "execution_count": 7,
   "metadata": {},
   "outputs": [
    {
     "data": {
      "text/html": "<div>\n<style scoped>\n    .dataframe tbody tr th:only-of-type {\n        vertical-align: middle;\n    }\n\n    .dataframe tbody tr th {\n        vertical-align: top;\n    }\n\n    .dataframe thead th {\n        text-align: right;\n    }\n</style>\n<table border=\"1\" class=\"dataframe\">\n  <thead>\n    <tr style=\"text-align: right;\">\n      <th></th>\n      <th>customer_id</th>\n      <th>customer_unique_id</th>\n      <th>customer_zip_code_prefix</th>\n      <th>customer_city</th>\n      <th>customer_state</th>\n    </tr>\n  </thead>\n  <tbody>\n    <tr>\n      <th>0</th>\n      <td>06b8999e2fba1a1fbc88172c00ba8bc7</td>\n      <td>861eff4711a542e4b93843c6dd7febb0</td>\n      <td>14409</td>\n      <td>franca</td>\n      <td>SP</td>\n    </tr>\n    <tr>\n      <th>1</th>\n      <td>18955e83d337fd6b2def6b18a428ac77</td>\n      <td>290c77bc529b7ac935b93aa66c333dc3</td>\n      <td>9790</td>\n      <td>sao bernardo do campo</td>\n      <td>SP</td>\n    </tr>\n    <tr>\n      <th>2</th>\n      <td>4e7b3e00288586ebd08712fdd0374a03</td>\n      <td>060e732b5b29e8181a18229c7b0b2b5e</td>\n      <td>1151</td>\n      <td>sao paulo</td>\n      <td>SP</td>\n    </tr>\n    <tr>\n      <th>3</th>\n      <td>b2b6027bc5c5109e529d4dc6358b12c3</td>\n      <td>259dac757896d24d7702b9acbbff3f3c</td>\n      <td>8775</td>\n      <td>mogi das cruzes</td>\n      <td>SP</td>\n    </tr>\n    <tr>\n      <th>4</th>\n      <td>4f2d8ab171c80ec8364f7c12e35b23ad</td>\n      <td>345ecd01c38d18a9036ed96c73b8d066</td>\n      <td>13056</td>\n      <td>campinas</td>\n      <td>SP</td>\n    </tr>\n  </tbody>\n</table>\n</div>",
      "text/plain": "                        customer_id                customer_unique_id  \\\n0  06b8999e2fba1a1fbc88172c00ba8bc7  861eff4711a542e4b93843c6dd7febb0   \n1  18955e83d337fd6b2def6b18a428ac77  290c77bc529b7ac935b93aa66c333dc3   \n2  4e7b3e00288586ebd08712fdd0374a03  060e732b5b29e8181a18229c7b0b2b5e   \n3  b2b6027bc5c5109e529d4dc6358b12c3  259dac757896d24d7702b9acbbff3f3c   \n4  4f2d8ab171c80ec8364f7c12e35b23ad  345ecd01c38d18a9036ed96c73b8d066   \n\n   customer_zip_code_prefix          customer_city customer_state  \n0                     14409                 franca             SP  \n1                      9790  sao bernardo do campo             SP  \n2                      1151              sao paulo             SP  \n3                      8775        mogi das cruzes             SP  \n4                     13056               campinas             SP  "
     },
     "execution_count": 7,
     "metadata": {},
     "output_type": "execute_result"
    }
   ],
   "source": [
    "# Taking a peek\r\n",
    "df_customer.head()"
   ]
  },
  {
   "cell_type": "code",
   "execution_count": 8,
   "metadata": {},
   "outputs": [
    {
     "name": "stdout",
     "output_type": "stream",
     "text": [
      "<class 'pandas.core.frame.DataFrame'>\n",
      "RangeIndex: 99441 entries, 0 to 99440\n",
      "Data columns (total 5 columns):\n",
      " #   Column                    Non-Null Count  Dtype \n",
      "---  ------                    --------------  ----- \n",
      " 0   customer_id               99441 non-null  object\n",
      " 1   customer_unique_id        99441 non-null  object\n",
      " 2   customer_zip_code_prefix  99441 non-null  int64 \n",
      " 3   customer_city             99441 non-null  object\n",
      " 4   customer_state            99441 non-null  object\n",
      "dtypes: int64(1), object(4)\n",
      "memory usage: 3.8+ MB\n"
     ]
    }
   ],
   "source": [
    "df_customer.info()"
   ]
  },
  {
   "cell_type": "code",
   "execution_count": 9,
   "metadata": {},
   "outputs": [
    {
     "data": {
      "text/plain": "customer_id                 0\ncustomer_unique_id          0\ncustomer_zip_code_prefix    0\ncustomer_city               0\ncustomer_state              0\ndtype: int64"
     },
     "execution_count": 9,
     "metadata": {},
     "output_type": "execute_result"
    }
   ],
   "source": [
    "df_customer.isna().sum()"
   ]
  },
  {
   "cell_type": "code",
   "execution_count": 10,
   "metadata": {},
   "outputs": [
    {
     "data": {
      "text/plain": "0"
     },
     "execution_count": 10,
     "metadata": {},
     "output_type": "execute_result"
    }
   ],
   "source": [
    "# Finding duplicates\r\n",
    "df_customer.duplicated().sum()"
   ]
  },
  {
   "cell_type": "code",
   "execution_count": null,
   "metadata": {},
   "outputs": [],
   "source": [
    "## Order Datab"
   ]
  },
  {
   "cell_type": "code",
   "execution_count": null,
   "metadata": {},
   "outputs": [],
   "source": []
  }
 ],
 "metadata": {
  "kernelspec": {
   "display_name": "Python 3.7.6 64-bit ('base': conda)",
   "name": "python376jvsc74a57bd0030847d411e36e540a334fb57dfac4e8fa9ee3ff53a789bd52207a333d67df0a"
  },
  "language_info": {
   "codemirror_mode": {
    "name": "ipython",
    "version": 3
   },
   "file_extension": ".py",
   "mimetype": "text/x-python",
   "name": "python",
   "nbconvert_exporter": "python",
   "pygments_lexer": "ipython3",
   "version": "3.7.6"
  },
  "orig_nbformat": 2
 },
 "nbformat": 4,
 "nbformat_minor": 2
}