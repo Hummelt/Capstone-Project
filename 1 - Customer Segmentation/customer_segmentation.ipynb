{
 "cells": [
  {
   "cell_type": "markdown",
   "metadata": {},
   "source": [
    "# Customer Segmentation\r\n",
    "\r\n",
    "Questions to answer\r\n",
    "1. Demographic relationship between customers\r\n",
    "2. Geographic relationship in view of customer characteristics\r\n",
    "\r\n",
    "\r\n",
    "\r\n",
    "## Table of Contents\r\n",
    "\r\n",
    "I. Data Import and Wrangling\r\n",
    "\r\n",
    "II. Exploratory Analysis\r\n",
    "\r\n",
    "III. Customer Segmentation\r\n",
    "\r\n",
    "IV. Geodemographic Segmentation\r\n"
   ]
  },
  {
   "cell_type": "markdown",
   "metadata": {},
   "source": [
    "# I. Data Import and Wrangling\r\n",
    "\r\n",
    "## 1. Libraries"
   ]
  },
  {
   "cell_type": "code",
   "execution_count": 4,
   "metadata": {},
   "outputs": [
    {
     "data": {
      "text/html": "        <script type=\"text/javascript\">\n        window.PlotlyConfig = {MathJaxConfig: 'local'};\n        if (window.MathJax) {MathJax.Hub.Config({SVG: {font: \"STIX-Web\"}});}\n        if (typeof require !== 'undefined') {\n        require.undef(\"plotly\");\n        requirejs.config({\n            paths: {\n                'plotly': ['https://cdn.plot.ly/plotly-latest.min']\n            }\n        });\n        require(['plotly'], function(Plotly) {\n            window._Plotly = Plotly;\n        });\n        }\n        </script>\n        "
     },
     "metadata": {},
     "output_type": "display_data"
    }
   ],
   "source": [
    "import pandas as pd\r\n",
    "import numpy as np\r\n",
    "\r\n",
    "from datetime import datetime as dt\r\n",
    "from datetime import timedelta\r\n",
    "import re\r\n",
    "from sklearn.preprocessing import StandardScaler\r\n",
    "\r\n",
    "import matplotlib.pyplot as plt\r\n",
    "import matplotlib.dates as mdates\r\n",
    "import seaborn as sns\r\n",
    "\r\n",
    "import plotly as py\r\n",
    "import plotly.offline as offline\r\n",
    "import plotly.graph_objs as go\r\n",
    "from plotly.offline import download_plotlyjs, init_notebook_mode, plot, iplot\r\n",
    "from plotly.graph_objs import Scatter, Figure, Layout\r\n",
    "from plotly import tools\r\n",
    "import matplotlib.pyplot as plt\r\n",
    "import plotly.graph_objs as go\r\n",
    "from plotly.offline import iplot\r\n",
    "\r\n",
    "\r\n",
    "pip install pywaffle\r\n",
    "import matplotlib.pyplot as plt\r\n",
    "from pywaffle import Waffle\r\n",
    "\r\n",
    "init_notebook_mode(connected=True)\r\n",
    "%matplotlib inline"
   ]
  },
  {
   "cell_type": "markdown",
   "metadata": {},
   "source": [
    "## Olist Classes Function"
   ]
  },
  {
   "cell_type": "code",
   "execution_count": 5,
   "metadata": {},
   "outputs": [],
   "source": [
    "class Olist_analysis():\r\n",
    "\r\n",
    "    def __init__(self):\r\n",
    "\r\n",
    "        print('Olist analysis class initialized')\r\n",
    "\r\n",
    "    def convert_to_dt(dat, cols):\r\n",
    "        '''\r\n",
    "        Function takes in a dataframe name and date\r\n",
    "        columns for conversion into datetime format\r\n",
    "        Input:\r\n",
    "        - Dataframe\r\n",
    "        Output:\r\n",
    "        - None (Converts the format of the column into datetime)\r\n",
    "        '''\r\n",
    "        for col in cols:\r\n",
    "            dat[col] = pd.to_datetime(dat[col]).dt.date\r\n",
    "\r\n",
    "    def plot_waffle_chart(dat, metric, agg, title_txt, group='sub_segment'):\r\n",
    "        '''\r\n",
    "        Funtion to create a waffle chart. The visualization shows how the\r\n",
    "        customer sub-segments are distributed according defined metrics.\r\n",
    "        Input:\r\n",
    "        - dat - dataframe\r\n",
    "        - metric - feature/ kpi metric to visualize\r\n",
    "        - agg - method to aggregate\r\n",
    "        - title_txt - text to display as chart title\r\n",
    "        Outout:\r\n",
    "        - waffle chart\r\n",
    "        '''\r\n",
    "        data_revenue = dict(round(\r\n",
    "            dat.groupby(group).agg({metric: agg}))[metric])\r\n",
    "\r\n",
    "        plt.figure(\r\n",
    "            FigureClass=Waffle,\r\n",
    "            rows=5,\r\n",
    "            columns=10,\r\n",
    "            values=data_revenue,\r\n",
    "            labels=[f\"{k, v}\" for k, v in data_revenue.items()],\r\n",
    "            legend={'loc': 'lower left', 'bbox_to_anchor': (1, 0)},\r\n",
    "            figsize=(8, 5)\r\n",
    "            )\r\n",
    "\r\n",
    "        plt.title(title_txt)\r\n",
    "\r\n",
    "    def plot_map(\r\n",
    "                df,\r\n",
    "                title,\r\n",
    "                lower_bound,\r\n",
    "                upper_bound,\r\n",
    "                metric,\r\n",
    "                maker_size=3,\r\n",
    "                sub_segment_y_n=False\r\n",
    "                ):\r\n",
    "        '''\r\n",
    "        Funtion for geographic data visualization of demographic metrics.\r\n",
    "        Input:\r\n",
    "        - df - dataframe with target feature\r\n",
    "            (metric; color-code field needed if sub_segment to visualize\r\n",
    "        - title - text to display as chart title\r\n",
    "        - lower_bound - lower threshold for color scale\r\n",
    "        - upper_bound - upper threshold for color scale\r\n",
    "        - metric - feature/ kpi metric to visualize\r\n",
    "        - sub_sement_y_n - boolean,\r\n",
    "            if \"True\": sub-segment will be visualized with color-code,\r\n",
    "            if no, color acording value\r\n",
    "        - marker_size - size of the marker\r\n",
    "        Outout:\r\n",
    "        - geographic data visualization\r\n",
    "        '''\r\n",
    "\r\n",
    "        if sub_segment_y_n is True:\r\n",
    "            dict_marker = dict(\r\n",
    "                size=maker_size,\r\n",
    "                color=df.color,\r\n",
    "                )\r\n",
    "        else:\r\n",
    "            dict_marker = dict(\r\n",
    "                size=maker_size,\r\n",
    "                color=df[metric],\r\n",
    "                showscale=True,\r\n",
    "                colorscale=[[0, 'blue'],\r\n",
    "                            [1, 'red']],\r\n",
    "                cmin=lower_bound,\r\n",
    "                cmax=upper_bound\r\n",
    "                )\r\n",
    "\r\n",
    "        data_geo = [go.Scattermapbox(\r\n",
    "            lon=df['geolocation_lng'],\r\n",
    "            lat=df['geolocation_lat'],\r\n",
    "            marker=dict_marker\r\n",
    "            )]\r\n",
    "\r\n",
    "        layout = dict(\r\n",
    "                title=title,\r\n",
    "                showlegend=False,\r\n",
    "                mapbox=dict(\r\n",
    "                    accesstoken='pk.eyJ1IjoiaG9vbmtlbmc5MyIsImEiOiJjam43cGhpNng2ZmpxM3JxY3Z4ODl2NWo3In0.SGRvJlToMtgRxw9ZWzPFrA',\r\n",
    "                    center=dict(lat=-23.5, lon=-46.6),\r\n",
    "                    bearing=10,\r\n",
    "                    pitch=0,\r\n",
    "                    zoom=2,\r\n",
    "                )\r\n",
    "            )\r\n",
    "        fig = dict(data=data_geo, layout=layout)\r\n",
    "        iplot(fig, validate=False)"
   ]
  },
  {
   "cell_type": "code",
   "execution_count": 6,
   "metadata": {},
   "outputs": [],
   "source": [
    "# Customer lookup table\r\n",
    "df_customer = pd.read_csv(\"../0 - data/olist_customers_dataset.csv\")"
   ]
  },
  {
   "cell_type": "code",
   "execution_count": 7,
   "metadata": {},
   "outputs": [
    {
     "data": {
      "text/html": "<div>\n<style scoped>\n    .dataframe tbody tr th:only-of-type {\n        vertical-align: middle;\n    }\n\n    .dataframe tbody tr th {\n        vertical-align: top;\n    }\n\n    .dataframe thead th {\n        text-align: right;\n    }\n</style>\n<table border=\"1\" class=\"dataframe\">\n  <thead>\n    <tr style=\"text-align: right;\">\n      <th></th>\n      <th>customer_id</th>\n      <th>customer_unique_id</th>\n      <th>customer_zip_code_prefix</th>\n      <th>customer_city</th>\n      <th>customer_state</th>\n    </tr>\n  </thead>\n  <tbody>\n    <tr>\n      <th>0</th>\n      <td>06b8999e2fba1a1fbc88172c00ba8bc7</td>\n      <td>861eff4711a542e4b93843c6dd7febb0</td>\n      <td>14409</td>\n      <td>franca</td>\n      <td>SP</td>\n    </tr>\n    <tr>\n      <th>1</th>\n      <td>18955e83d337fd6b2def6b18a428ac77</td>\n      <td>290c77bc529b7ac935b93aa66c333dc3</td>\n      <td>9790</td>\n      <td>sao bernardo do campo</td>\n      <td>SP</td>\n    </tr>\n    <tr>\n      <th>2</th>\n      <td>4e7b3e00288586ebd08712fdd0374a03</td>\n      <td>060e732b5b29e8181a18229c7b0b2b5e</td>\n      <td>1151</td>\n      <td>sao paulo</td>\n      <td>SP</td>\n    </tr>\n    <tr>\n      <th>3</th>\n      <td>b2b6027bc5c5109e529d4dc6358b12c3</td>\n      <td>259dac757896d24d7702b9acbbff3f3c</td>\n      <td>8775</td>\n      <td>mogi das cruzes</td>\n      <td>SP</td>\n    </tr>\n    <tr>\n      <th>4</th>\n      <td>4f2d8ab171c80ec8364f7c12e35b23ad</td>\n      <td>345ecd01c38d18a9036ed96c73b8d066</td>\n      <td>13056</td>\n      <td>campinas</td>\n      <td>SP</td>\n    </tr>\n  </tbody>\n</table>\n</div>",
      "text/plain": "                        customer_id                customer_unique_id  \\\n0  06b8999e2fba1a1fbc88172c00ba8bc7  861eff4711a542e4b93843c6dd7febb0   \n1  18955e83d337fd6b2def6b18a428ac77  290c77bc529b7ac935b93aa66c333dc3   \n2  4e7b3e00288586ebd08712fdd0374a03  060e732b5b29e8181a18229c7b0b2b5e   \n3  b2b6027bc5c5109e529d4dc6358b12c3  259dac757896d24d7702b9acbbff3f3c   \n4  4f2d8ab171c80ec8364f7c12e35b23ad  345ecd01c38d18a9036ed96c73b8d066   \n\n   customer_zip_code_prefix          customer_city customer_state  \n0                     14409                 franca             SP  \n1                      9790  sao bernardo do campo             SP  \n2                      1151              sao paulo             SP  \n3                      8775        mogi das cruzes             SP  \n4                     13056               campinas             SP  "
     },
     "execution_count": 7,
     "metadata": {},
     "output_type": "execute_result"
    }
   ],
   "source": [
    "# Taking a peek\r\n",
    "df_customer.head()"
   ]
  },
  {
   "cell_type": "code",
   "execution_count": 8,
   "metadata": {},
   "outputs": [
    {
     "name": "stdout",
     "output_type": "stream",
     "text": [
      "<class 'pandas.core.frame.DataFrame'>\n",
      "RangeIndex: 99441 entries, 0 to 99440\n",
      "Data columns (total 5 columns):\n",
      " #   Column                    Non-Null Count  Dtype \n",
      "---  ------                    --------------  ----- \n",
      " 0   customer_id               99441 non-null  object\n",
      " 1   customer_unique_id        99441 non-null  object\n",
      " 2   customer_zip_code_prefix  99441 non-null  int64 \n",
      " 3   customer_city             99441 non-null  object\n",
      " 4   customer_state            99441 non-null  object\n",
      "dtypes: int64(1), object(4)\n",
      "memory usage: 3.8+ MB\n"
     ]
    }
   ],
   "source": [
    "df_customer.info()"
   ]
  },
  {
   "cell_type": "code",
   "execution_count": 9,
   "metadata": {},
   "outputs": [
    {
     "data": {
      "text/plain": "customer_id                 0\ncustomer_unique_id          0\ncustomer_zip_code_prefix    0\ncustomer_city               0\ncustomer_state              0\ndtype: int64"
     },
     "execution_count": 9,
     "metadata": {},
     "output_type": "execute_result"
    }
   ],
   "source": [
    "df_customer.isna().sum()"
   ]
  },
  {
   "cell_type": "code",
   "execution_count": 10,
   "metadata": {},
   "outputs": [
    {
     "data": {
      "text/plain": "0"
     },
     "execution_count": 10,
     "metadata": {},
     "output_type": "execute_result"
    }
   ],
   "source": [
    "# Finding duplicates\r\n",
    "df_customer.duplicated().sum()"
   ]
  },
  {
   "cell_type": "markdown",
   "metadata": {},
   "source": [
    "# Order Data"
   ]
  },
  {
   "cell_type": "code",
   "execution_count": 12,
   "metadata": {},
   "outputs": [],
   "source": [
    "df_orders = pd.read_csv('../0 - data/df_orders_consolidated.csv')"
   ]
  },
  {
   "cell_type": "code",
   "execution_count": 13,
   "metadata": {},
   "outputs": [
    {
     "data": {
      "text/html": "<div>\n<style scoped>\n    .dataframe tbody tr th:only-of-type {\n        vertical-align: middle;\n    }\n\n    .dataframe tbody tr th {\n        vertical-align: top;\n    }\n\n    .dataframe thead th {\n        text-align: right;\n    }\n</style>\n<table border=\"1\" class=\"dataframe\">\n  <thead>\n    <tr style=\"text-align: right;\">\n      <th></th>\n      <th>Unnamed: 0</th>\n      <th>order_id</th>\n      <th>customer_id</th>\n      <th>order_status</th>\n      <th>order_purchase_timestamp</th>\n      <th>order_approved_at</th>\n      <th>order_delivered_carrier_date</th>\n      <th>order_delivered_customer_date</th>\n      <th>order_estimated_delivery_date</th>\n      <th>order_time</th>\n      <th>...</th>\n      <th>product_category_name</th>\n      <th>product_name_lenght</th>\n      <th>product_description_lenght</th>\n      <th>product_photos_qty</th>\n      <th>product_weight_g</th>\n      <th>product_length_cm</th>\n      <th>product_height_cm</th>\n      <th>product_width_cm</th>\n      <th>order_line_cube_in_ltr</th>\n      <th>price_round</th>\n    </tr>\n  </thead>\n  <tbody>\n    <tr>\n      <th>0</th>\n      <td>0</td>\n      <td>2e7a8482f6fb09756ca50c10d7bfc047</td>\n      <td>08c5351a6aca1c1589a38f244edeee9d</td>\n      <td>shipped</td>\n      <td>2016-09-04</td>\n      <td>2016-10-07</td>\n      <td>2016-10-18</td>\n      <td>2016-11-09</td>\n      <td>2016-10-20</td>\n      <td>21:15:19</td>\n      <td>...</td>\n      <td>moveis_decoracao</td>\n      <td>59.0</td>\n      <td>426.0</td>\n      <td>2.0</td>\n      <td>1400.0</td>\n      <td>32.0</td>\n      <td>6.0</td>\n      <td>28.0</td>\n      <td>5.376</td>\n      <td>40.0</td>\n    </tr>\n    <tr>\n      <th>1</th>\n      <td>1</td>\n      <td>35d3a51724a47ef1d0b89911e39cc4ff</td>\n      <td>27ab53f26192510ff85872aeb3759dcc</td>\n      <td>delivered</td>\n      <td>2016-10-04</td>\n      <td>2016-10-05</td>\n      <td>2016-10-14</td>\n      <td>2016-10-26</td>\n      <td>2016-12-20</td>\n      <td>14:23:50</td>\n      <td>...</td>\n      <td>moveis_decoracao</td>\n      <td>59.0</td>\n      <td>426.0</td>\n      <td>2.0</td>\n      <td>1400.0</td>\n      <td>32.0</td>\n      <td>6.0</td>\n      <td>28.0</td>\n      <td>5.376</td>\n      <td>40.0</td>\n    </tr>\n    <tr>\n      <th>2</th>\n      <td>2</td>\n      <td>c4f710df20f7d1500da1aef81a993f65</td>\n      <td>4b671f05b6eb9dc1d2c1bae9c8c78536</td>\n      <td>delivered</td>\n      <td>2016-10-10</td>\n      <td>2016-10-10</td>\n      <td>2016-10-18</td>\n      <td>2016-10-26</td>\n      <td>2016-12-14</td>\n      <td>15:50:01</td>\n      <td>...</td>\n      <td>moveis_decoracao</td>\n      <td>59.0</td>\n      <td>426.0</td>\n      <td>2.0</td>\n      <td>1400.0</td>\n      <td>32.0</td>\n      <td>6.0</td>\n      <td>28.0</td>\n      <td>5.376</td>\n      <td>40.0</td>\n    </tr>\n    <tr>\n      <th>3</th>\n      <td>3</td>\n      <td>81e5043198a44ddeb226002ff55d8ad4</td>\n      <td>ddd15ef77c83eea8c534d2896173a927</td>\n      <td>delivered</td>\n      <td>2017-01-09</td>\n      <td>2017-01-09</td>\n      <td>2017-01-09</td>\n      <td>2017-02-24</td>\n      <td>2017-02-24</td>\n      <td>00:37:18</td>\n      <td>...</td>\n      <td>moveis_decoracao</td>\n      <td>59.0</td>\n      <td>426.0</td>\n      <td>2.0</td>\n      <td>1400.0</td>\n      <td>32.0</td>\n      <td>6.0</td>\n      <td>28.0</td>\n      <td>10.752</td>\n      <td>40.0</td>\n    </tr>\n    <tr>\n      <th>4</th>\n      <td>4</td>\n      <td>03b218d39c422c250f389120c531b61f</td>\n      <td>db857a86c685a6a3a02a705961ec1ff1</td>\n      <td>delivered</td>\n      <td>2017-01-14</td>\n      <td>2017-01-14</td>\n      <td>2017-01-16</td>\n      <td>2017-01-18</td>\n      <td>2017-03-01</td>\n      <td>14:20:01</td>\n      <td>...</td>\n      <td>moveis_decoracao</td>\n      <td>59.0</td>\n      <td>426.0</td>\n      <td>2.0</td>\n      <td>1400.0</td>\n      <td>32.0</td>\n      <td>6.0</td>\n      <td>28.0</td>\n      <td>5.376</td>\n      <td>40.0</td>\n    </tr>\n  </tbody>\n</table>\n<p>5 rows × 31 columns</p>\n</div>",
      "text/plain": "   Unnamed: 0                          order_id  \\\n0           0  2e7a8482f6fb09756ca50c10d7bfc047   \n1           1  35d3a51724a47ef1d0b89911e39cc4ff   \n2           2  c4f710df20f7d1500da1aef81a993f65   \n3           3  81e5043198a44ddeb226002ff55d8ad4   \n4           4  03b218d39c422c250f389120c531b61f   \n\n                        customer_id order_status order_purchase_timestamp  \\\n0  08c5351a6aca1c1589a38f244edeee9d      shipped               2016-09-04   \n1  27ab53f26192510ff85872aeb3759dcc    delivered               2016-10-04   \n2  4b671f05b6eb9dc1d2c1bae9c8c78536    delivered               2016-10-10   \n3  ddd15ef77c83eea8c534d2896173a927    delivered               2017-01-09   \n4  db857a86c685a6a3a02a705961ec1ff1    delivered               2017-01-14   \n\n  order_approved_at order_delivered_carrier_date  \\\n0        2016-10-07                   2016-10-18   \n1        2016-10-05                   2016-10-14   \n2        2016-10-10                   2016-10-18   \n3        2017-01-09                   2017-01-09   \n4        2017-01-14                   2017-01-16   \n\n  order_delivered_customer_date order_estimated_delivery_date order_time  ...  \\\n0                    2016-11-09                    2016-10-20   21:15:19  ...   \n1                    2016-10-26                    2016-12-20   14:23:50  ...   \n2                    2016-10-26                    2016-12-14   15:50:01  ...   \n3                    2017-02-24                    2017-02-24   00:37:18  ...   \n4                    2017-01-18                    2017-03-01   14:20:01  ...   \n\n  product_category_name  product_name_lenght  product_description_lenght  \\\n0      moveis_decoracao                 59.0                       426.0   \n1      moveis_decoracao                 59.0                       426.0   \n2      moveis_decoracao                 59.0                       426.0   \n3      moveis_decoracao                 59.0                       426.0   \n4      moveis_decoracao                 59.0                       426.0   \n\n   product_photos_qty  product_weight_g product_length_cm  product_height_cm  \\\n0                 2.0            1400.0              32.0                6.0   \n1                 2.0            1400.0              32.0                6.0   \n2                 2.0            1400.0              32.0                6.0   \n3                 2.0            1400.0              32.0                6.0   \n4                 2.0            1400.0              32.0                6.0   \n\n  product_width_cm order_line_cube_in_ltr  price_round  \n0             28.0                  5.376         40.0  \n1             28.0                  5.376         40.0  \n2             28.0                  5.376         40.0  \n3             28.0                 10.752         40.0  \n4             28.0                  5.376         40.0  \n\n[5 rows x 31 columns]"
     },
     "execution_count": 13,
     "metadata": {},
     "output_type": "execute_result"
    }
   ],
   "source": [
    "df_orders.head()"
   ]
  },
  {
   "cell_type": "code",
   "execution_count": 14,
   "metadata": {},
   "outputs": [
    {
     "name": "stdout",
     "output_type": "stream",
     "text": [
      "<class 'pandas.core.frame.DataFrame'>\n",
      "RangeIndex: 102425 entries, 0 to 102424\n",
      "Data columns (total 31 columns):\n",
      " #   Column                         Non-Null Count   Dtype  \n",
      "---  ------                         --------------   -----  \n",
      " 0   Unnamed: 0                     102425 non-null  int64  \n",
      " 1   order_id                       102425 non-null  object \n",
      " 2   customer_id                    102425 non-null  object \n",
      " 3   order_status                   102425 non-null  object \n",
      " 4   order_purchase_timestamp       102425 non-null  object \n",
      " 5   order_approved_at              102425 non-null  object \n",
      " 6   order_delivered_carrier_date   102425 non-null  object \n",
      " 7   order_delivered_customer_date  102425 non-null  object \n",
      " 8   order_estimated_delivery_date  102425 non-null  object \n",
      " 9   order_time                     102425 non-null  object \n",
      " 10  delivery_time                  102425 non-null  object \n",
      " 11  date_ordinal                   102425 non-null  int64  \n",
      " 12  shipping_time_delta            102425 non-null  int64  \n",
      " 13  shipping_duration              102425 non-null  int64  \n",
      " 14  estimated_duration             102425 non-null  int64  \n",
      " 15  product_id                     102425 non-null  object \n",
      " 16  qty                            102425 non-null  int64  \n",
      " 17  seller_id                      102425 non-null  object \n",
      " 18  shipping_limit_date            102425 non-null  object \n",
      " 19  price                          102425 non-null  float64\n",
      " 20  freight_value                  102425 non-null  float64\n",
      " 21  product_category_name          100965 non-null  object \n",
      " 22  product_name_lenght            100965 non-null  float64\n",
      " 23  product_description_lenght     100965 non-null  float64\n",
      " 24  product_photos_qty             100965 non-null  float64\n",
      " 25  product_weight_g               102425 non-null  float64\n",
      " 26  product_length_cm              102425 non-null  float64\n",
      " 27  product_height_cm              102425 non-null  float64\n",
      " 28  product_width_cm               102425 non-null  float64\n",
      " 29  order_line_cube_in_ltr         102425 non-null  float64\n",
      " 30  price_round                    102425 non-null  float64\n",
      "dtypes: float64(11), int64(6), object(14)\n",
      "memory usage: 24.2+ MB\n"
     ]
    }
   ],
   "source": [
    "df_orders.info()"
   ]
  },
  {
   "cell_type": "markdown",
   "metadata": {},
   "source": [
    "This is a cleaned data table from a previous project. All missing values are added, all duplicates are removed and order lines are consolidated. We only need to format the date fields into datetime format."
   ]
  },
  {
   "cell_type": "code",
   "execution_count": 17,
   "metadata": {},
   "outputs": [],
   "source": [
    "Olist_analysis.convert_to_dt(df_orders, [\r\n",
    "    'order_purchase_timestamp',\r\n",
    "    'order_approved_at',\r\n",
    "    'order_delivered_carrier_date',\r\n",
    "    'order_delivered_customer_date',\r\n",
    "    'order_estimated_delivery_date'\r\n",
    "    ])"
   ]
  },
  {
   "cell_type": "code",
   "execution_count": 18,
   "metadata": {},
   "outputs": [],
   "source": [
    "df_orders.drop(['Unnamed: 0'], axis=1, inplace=True)"
   ]
  },
  {
   "cell_type": "markdown",
   "metadata": {},
   "source": [
    "# Geographic data"
   ]
  },
  {
   "cell_type": "code",
   "execution_count": 19,
   "metadata": {},
   "outputs": [],
   "source": [
    "df_geolocation = pd.read_csv('../0 - data/olist_geolocation_dataset.csv')"
   ]
  },
  {
   "cell_type": "code",
   "execution_count": 20,
   "metadata": {},
   "outputs": [
    {
     "data": {
      "text/html": "<div>\n<style scoped>\n    .dataframe tbody tr th:only-of-type {\n        vertical-align: middle;\n    }\n\n    .dataframe tbody tr th {\n        vertical-align: top;\n    }\n\n    .dataframe thead th {\n        text-align: right;\n    }\n</style>\n<table border=\"1\" class=\"dataframe\">\n  <thead>\n    <tr style=\"text-align: right;\">\n      <th></th>\n      <th>geolocation_zip_code_prefix</th>\n      <th>geolocation_lat</th>\n      <th>geolocation_lng</th>\n      <th>geolocation_city</th>\n      <th>geolocation_state</th>\n    </tr>\n  </thead>\n  <tbody>\n    <tr>\n      <th>0</th>\n      <td>1037</td>\n      <td>-23.545621</td>\n      <td>-46.639292</td>\n      <td>sao paulo</td>\n      <td>SP</td>\n    </tr>\n    <tr>\n      <th>1</th>\n      <td>1046</td>\n      <td>-23.546081</td>\n      <td>-46.644820</td>\n      <td>sao paulo</td>\n      <td>SP</td>\n    </tr>\n    <tr>\n      <th>2</th>\n      <td>1046</td>\n      <td>-23.546129</td>\n      <td>-46.642951</td>\n      <td>sao paulo</td>\n      <td>SP</td>\n    </tr>\n    <tr>\n      <th>3</th>\n      <td>1041</td>\n      <td>-23.544392</td>\n      <td>-46.639499</td>\n      <td>sao paulo</td>\n      <td>SP</td>\n    </tr>\n    <tr>\n      <th>4</th>\n      <td>1035</td>\n      <td>-23.541578</td>\n      <td>-46.641607</td>\n      <td>sao paulo</td>\n      <td>SP</td>\n    </tr>\n  </tbody>\n</table>\n</div>",
      "text/plain": "   geolocation_zip_code_prefix  geolocation_lat  geolocation_lng  \\\n0                         1037       -23.545621       -46.639292   \n1                         1046       -23.546081       -46.644820   \n2                         1046       -23.546129       -46.642951   \n3                         1041       -23.544392       -46.639499   \n4                         1035       -23.541578       -46.641607   \n\n  geolocation_city geolocation_state  \n0        sao paulo                SP  \n1        sao paulo                SP  \n2        sao paulo                SP  \n3        sao paulo                SP  \n4        sao paulo                SP  "
     },
     "execution_count": 20,
     "metadata": {},
     "output_type": "execute_result"
    }
   ],
   "source": [
    "df_geolocation.head()"
   ]
  },
  {
   "cell_type": "code",
   "execution_count": 21,
   "metadata": {},
   "outputs": [
    {
     "name": "stdout",
     "output_type": "stream",
     "text": [
      "<class 'pandas.core.frame.DataFrame'>\n",
      "RangeIndex: 1000163 entries, 0 to 1000162\n",
      "Data columns (total 5 columns):\n",
      " #   Column                       Non-Null Count    Dtype  \n",
      "---  ------                       --------------    -----  \n",
      " 0   geolocation_zip_code_prefix  1000163 non-null  int64  \n",
      " 1   geolocation_lat              1000163 non-null  float64\n",
      " 2   geolocation_lng              1000163 non-null  float64\n",
      " 3   geolocation_city             1000163 non-null  object \n",
      " 4   geolocation_state            1000163 non-null  object \n",
      "dtypes: float64(2), int64(1), object(2)\n",
      "memory usage: 38.2+ MB\n"
     ]
    }
   ],
   "source": [
    "df_geolocation.info()"
   ]
  },
  {
   "cell_type": "code",
   "execution_count": 22,
   "metadata": {},
   "outputs": [
    {
     "data": {
      "text/plain": "24220    1146\n24230    1102\n38400     965\n35500     907\n11680     879\n         ... \n73990       1\n87307       1\n72450       1\n24877       1\n38198       1\nName: geolocation_zip_code_prefix, Length: 19015, dtype: int64"
     },
     "execution_count": 22,
     "metadata": {},
     "output_type": "execute_result"
    }
   ],
   "source": [
    "df_geolocation['geolocation_zip_code_prefix'].value_counts()"
   ]
  },
  {
   "cell_type": "markdown",
   "metadata": {},
   "source": [
    "The zip code prefix's are not unique. That means we can not assign look up one distict coordinate for a customer but need to apply an aggregate function. I will use the mean for longitude and latitude. In that way a coordinate is in the middle of the neighbohood with this zip code. The downside is that for visualizations where will be overlapping dots on the with the upper most being the one which is visible. This will be solve this with aggregate functions."
   ]
  },
  {
   "cell_type": "markdown",
   "metadata": {},
   "source": [
    "# II. Exploratory Data Analysis\r\n",
    "\r\n",
    "The focus is on getting an understanding about the customers buying habits and their locations."
   ]
  },
  {
   "cell_type": "code",
   "execution_count": 23,
   "metadata": {},
   "outputs": [
    {
     "name": "stdout",
     "output_type": "stream",
     "text": [
      "Unique customers: 96096\n",
      "Unique cities: 4119\n"
     ]
    }
   ],
   "source": [
    "\r\n",
    "n_customers = df_customer['customer_unique_id'].nunique()\r\n",
    "print('Unique customers: {}'.format(n_customers))\r\n",
    "n_cities = df_customer['customer_city'].nunique()\r\n",
    "print('Unique cities: {}'.format(n_cities))"
   ]
  },
  {
   "cell_type": "markdown",
   "metadata": {},
   "source": [
    "Where are customers from?"
   ]
  },
  {
   "cell_type": "code",
   "execution_count": 24,
   "metadata": {},
   "outputs": [
    {
     "data": {
      "text/plain": "sao paulo                  15540\nrio de janeiro              6882\nbelo horizonte              2773\nbrasilia                    2131\ncuritiba                    1521\n                           ...  \nangelina                       1\nsao francisco do brejao        1\natilio vivacqua                1\nflorida                        1\nserio                          1\nName: customer_city, Length: 4119, dtype: int64"
     },
     "execution_count": 24,
     "metadata": {},
     "output_type": "execute_result"
    }
   ],
   "source": [
    "# City disctribution\r\n",
    "df_customer['customer_city'].value_counts().sort_values(ascending=False)"
   ]
  },
  {
   "cell_type": "code",
   "execution_count": 25,
   "metadata": {},
   "outputs": [
    {
     "data": {
      "image/png": "[encoded data removed]",
      "text/plain": "<Figure size 1080x360 with 1 Axes>"
     },
     "metadata": {
      "needs_background": "light"
     },
     "output_type": "display_data"
    }
   ],
   "source": [
    "(\r\n",
    "    df_customer['customer_city']\r\n",
    "    .value_counts()\r\n",
    "    .sort_values(ascending=False)\r\n",
    "    .head(50)\r\n",
    "    .plot(kind='bar', figsize=(15, 5))\r\n",
    ")\r\n",
    "\r\n",
    "plt.title('Top 50 customer cities')\r\n",
    "plt.ylabel('Count of customers');"
   ]
  },
  {
   "cell_type": "markdown",
   "metadata": {},
   "source": [
    "The customers come from 4119 different cities, whith Sao Paulo as the city where most of the customers live."
   ]
  },
  {
   "cell_type": "code",
   "execution_count": 26,
   "metadata": {},
   "outputs": [
    {
     "data": {
      "text/plain": "27"
     },
     "execution_count": 26,
     "metadata": {},
     "output_type": "execute_result"
    }
   ],
   "source": [
    "# How many states are the customers from?\r\n",
    "df_customer['customer_state'].nunique()"
   ]
  },
  {
   "cell_type": "code",
   "execution_count": 27,
   "metadata": {},
   "outputs": [
    {
     "data": {
      "image/png": "[encoded data removed]",
      "text/plain": "<Figure size 1080x360 with 1 Axes>"
     },
     "metadata": {
      "needs_background": "light"
     },
     "output_type": "display_data"
    }
   ],
   "source": [
    "# States disctribution\r\n",
    "(\r\n",
    "    df_customer['customer_state']\r\n",
    "    .value_counts()\r\n",
    "    .sort_values(ascending=False)\r\n",
    "    .plot(kind='bar', figsize=(15, 5))\r\n",
    ")\r\n",
    "\r\n",
    "plt.title('Customer states')\r\n",
    "plt.ylabel('Count of customers');"
   ]
  },
  {
   "cell_type": "markdown",
   "metadata": {},
   "source": [
    "The customers come from 27 different states whith Sao Paulo as the state where most of the customers live."
   ]
  },
  {
   "cell_type": "code",
   "execution_count": 28,
   "metadata": {},
   "outputs": [
    {
     "data": {
      "text/plain": "14994"
     },
     "execution_count": 28,
     "metadata": {},
     "output_type": "execute_result"
    }
   ],
   "source": [
    "# How many zip codes?\r\n",
    "df_customer['customer_zip_code_prefix'].nunique()"
   ]
  },
  {
   "cell_type": "code",
   "execution_count": 29,
   "metadata": {},
   "outputs": [
    {
     "data": {
      "text/plain": "Text(0, 0.5, 'Count of customers')"
     },
     "execution_count": 29,
     "metadata": {},
     "output_type": "execute_result"
    },
    {
     "data": {
      "image/png": "[encoded data removed]",
      "text/plain": "<Figure size 1080x360 with 1 Axes>"
     },
     "metadata": {
      "needs_background": "light"
     },
     "output_type": "display_data"
    }
   ],
   "source": [
    "# Top 50 zip codes\r\n",
    "(\r\n",
    "    df_customer['customer_zip_code_prefix']\r\n",
    "    .value_counts()\r\n",
    "    .sort_values(ascending=False)\r\n",
    "    .head(50)\r\n",
    "    .plot(kind='bar', figsize=(15, 5))\r\n",
    "    )\r\n",
    "\r\n",
    "plt.title('Top 50 zip codes')\r\n",
    "plt.ylabel('Count of customers');\r\n"
   ]
  },
  {
   "cell_type": "markdown",
   "metadata": {},
   "source": [
    "When did new customers placed their first order?"
   ]
  },
  {
   "cell_type": "code",
   "execution_count": 30,
   "metadata": {},
   "outputs": [
    {
     "data": {
      "text/html": "<div>\n<style scoped>\n    .dataframe tbody tr th:only-of-type {\n        vertical-align: middle;\n    }\n\n    .dataframe tbody tr th {\n        vertical-align: top;\n    }\n\n    .dataframe thead th {\n        text-align: right;\n    }\n</style>\n<table border=\"1\" class=\"dataframe\">\n  <thead>\n    <tr style=\"text-align: right;\">\n      <th></th>\n      <th>order_id</th>\n      <th>customer_id</th>\n      <th>order_status</th>\n      <th>order_purchase_timestamp</th>\n      <th>order_approved_at</th>\n      <th>order_delivered_carrier_date</th>\n      <th>order_delivered_customer_date</th>\n      <th>order_estimated_delivery_date</th>\n      <th>order_time</th>\n      <th>delivery_time</th>\n      <th>...</th>\n      <th>product_category_name</th>\n      <th>product_name_lenght</th>\n      <th>product_description_lenght</th>\n      <th>product_photos_qty</th>\n      <th>product_weight_g</th>\n      <th>product_length_cm</th>\n      <th>product_height_cm</th>\n      <th>product_width_cm</th>\n      <th>order_line_cube_in_ltr</th>\n      <th>price_round</th>\n    </tr>\n  </thead>\n  <tbody>\n    <tr>\n      <th>0</th>\n      <td>2e7a8482f6fb09756ca50c10d7bfc047</td>\n      <td>08c5351a6aca1c1589a38f244edeee9d</td>\n      <td>shipped</td>\n      <td>2016-09-04</td>\n      <td>2016-10-07</td>\n      <td>2016-10-18</td>\n      <td>2016-11-09</td>\n      <td>2016-10-20</td>\n      <td>21:15:19</td>\n      <td>13:14:51</td>\n      <td>...</td>\n      <td>moveis_decoracao</td>\n      <td>59.0</td>\n      <td>426.0</td>\n      <td>2.0</td>\n      <td>1400.0</td>\n      <td>32.0</td>\n      <td>6.0</td>\n      <td>28.0</td>\n      <td>5.376</td>\n      <td>40.0</td>\n    </tr>\n    <tr>\n      <th>1</th>\n      <td>35d3a51724a47ef1d0b89911e39cc4ff</td>\n      <td>27ab53f26192510ff85872aeb3759dcc</td>\n      <td>delivered</td>\n      <td>2016-10-04</td>\n      <td>2016-10-05</td>\n      <td>2016-10-14</td>\n      <td>2016-10-26</td>\n      <td>2016-12-20</td>\n      <td>14:23:50</td>\n      <td>02:44:30</td>\n      <td>...</td>\n      <td>moveis_decoracao</td>\n      <td>59.0</td>\n      <td>426.0</td>\n      <td>2.0</td>\n      <td>1400.0</td>\n      <td>32.0</td>\n      <td>6.0</td>\n      <td>28.0</td>\n      <td>5.376</td>\n      <td>40.0</td>\n    </tr>\n    <tr>\n      <th>2</th>\n      <td>c4f710df20f7d1500da1aef81a993f65</td>\n      <td>4b671f05b6eb9dc1d2c1bae9c8c78536</td>\n      <td>delivered</td>\n      <td>2016-10-10</td>\n      <td>2016-10-10</td>\n      <td>2016-10-18</td>\n      <td>2016-10-26</td>\n      <td>2016-12-14</td>\n      <td>15:50:01</td>\n      <td>15:53:51</td>\n      <td>...</td>\n      <td>moveis_decoracao</td>\n      <td>59.0</td>\n      <td>426.0</td>\n      <td>2.0</td>\n      <td>1400.0</td>\n      <td>32.0</td>\n      <td>6.0</td>\n      <td>28.0</td>\n      <td>5.376</td>\n      <td>40.0</td>\n    </tr>\n    <tr>\n      <th>3</th>\n      <td>81e5043198a44ddeb226002ff55d8ad4</td>\n      <td>ddd15ef77c83eea8c534d2896173a927</td>\n      <td>delivered</td>\n      <td>2017-01-09</td>\n      <td>2017-01-09</td>\n      <td>2017-01-09</td>\n      <td>2017-02-24</td>\n      <td>2017-02-24</td>\n      <td>00:37:18</td>\n      <td>09:10:53</td>\n      <td>...</td>\n      <td>moveis_decoracao</td>\n      <td>59.0</td>\n      <td>426.0</td>\n      <td>2.0</td>\n      <td>1400.0</td>\n      <td>32.0</td>\n      <td>6.0</td>\n      <td>28.0</td>\n      <td>10.752</td>\n      <td>40.0</td>\n    </tr>\n    <tr>\n      <th>4</th>\n      <td>03b218d39c422c250f389120c531b61f</td>\n      <td>db857a86c685a6a3a02a705961ec1ff1</td>\n      <td>delivered</td>\n      <td>2017-01-14</td>\n      <td>2017-01-14</td>\n      <td>2017-01-16</td>\n      <td>2017-01-18</td>\n      <td>2017-03-01</td>\n      <td>14:20:01</td>\n      <td>09:23:45</td>\n      <td>...</td>\n      <td>moveis_decoracao</td>\n      <td>59.0</td>\n      <td>426.0</td>\n      <td>2.0</td>\n      <td>1400.0</td>\n      <td>32.0</td>\n      <td>6.0</td>\n      <td>28.0</td>\n      <td>5.376</td>\n      <td>40.0</td>\n    </tr>\n  </tbody>\n</table>\n<p>5 rows × 30 columns</p>\n</div>",
      "text/plain": "                           order_id                       customer_id  \\\n0  2e7a8482f6fb09756ca50c10d7bfc047  08c5351a6aca1c1589a38f244edeee9d   \n1  35d3a51724a47ef1d0b89911e39cc4ff  27ab53f26192510ff85872aeb3759dcc   \n2  c4f710df20f7d1500da1aef81a993f65  4b671f05b6eb9dc1d2c1bae9c8c78536   \n3  81e5043198a44ddeb226002ff55d8ad4  ddd15ef77c83eea8c534d2896173a927   \n4  03b218d39c422c250f389120c531b61f  db857a86c685a6a3a02a705961ec1ff1   \n\n  order_status order_purchase_timestamp order_approved_at  \\\n0      shipped               2016-09-04        2016-10-07   \n1    delivered               2016-10-04        2016-10-05   \n2    delivered               2016-10-10        2016-10-10   \n3    delivered               2017-01-09        2017-01-09   \n4    delivered               2017-01-14        2017-01-14   \n\n  order_delivered_carrier_date order_delivered_customer_date  \\\n0                   2016-10-18                    2016-11-09   \n1                   2016-10-14                    2016-10-26   \n2                   2016-10-18                    2016-10-26   \n3                   2017-01-09                    2017-02-24   \n4                   2017-01-16                    2017-01-18   \n\n  order_estimated_delivery_date order_time delivery_time  ...  \\\n0                    2016-10-20   21:15:19      13:14:51  ...   \n1                    2016-12-20   14:23:50      02:44:30  ...   \n2                    2016-12-14   15:50:01      15:53:51  ...   \n3                    2017-02-24   00:37:18      09:10:53  ...   \n4                    2017-03-01   14:20:01      09:23:45  ...   \n\n   product_category_name  product_name_lenght  product_description_lenght  \\\n0       moveis_decoracao                 59.0                       426.0   \n1       moveis_decoracao                 59.0                       426.0   \n2       moveis_decoracao                 59.0                       426.0   \n3       moveis_decoracao                 59.0                       426.0   \n4       moveis_decoracao                 59.0                       426.0   \n\n   product_photos_qty product_weight_g  product_length_cm product_height_cm  \\\n0                 2.0           1400.0               32.0               6.0   \n1                 2.0           1400.0               32.0               6.0   \n2                 2.0           1400.0               32.0               6.0   \n3                 2.0           1400.0               32.0               6.0   \n4                 2.0           1400.0               32.0               6.0   \n\n  product_width_cm  order_line_cube_in_ltr  price_round  \n0             28.0                   5.376         40.0  \n1             28.0                   5.376         40.0  \n2             28.0                   5.376         40.0  \n3             28.0                  10.752         40.0  \n4             28.0                   5.376         40.0  \n\n[5 rows x 30 columns]"
     },
     "execution_count": 30,
     "metadata": {},
     "output_type": "execute_result"
    }
   ],
   "source": [
    "df_orders.head()"
   ]
  },
  {
   "cell_type": "code",
   "execution_count": 34,
   "metadata": {},
   "outputs": [],
   "source": [
    "df_customer_dly = df_orders.groupby(\r\n",
    "    'customer_id',\r\n",
    "    as_index=False).agg({\r\n",
    "        'order_purchase_timestamp': 'min'\r\n",
    "        })"
   ]
  },
  {
   "cell_type": "code",
   "execution_count": 35,
   "metadata": {},
   "outputs": [
    {
     "data": {
      "image/png": "[encoded data removed]",
      "text/plain": "<Figure size 1080x360 with 1 Axes>"
     },
     "metadata": {
      "needs_background": "light"
     },
     "output_type": "display_data"
    }
   ],
   "source": [
    "\r\n",
    "df_customer_dly.groupby('order_purchase_timestamp').count().cumsum().plot(figsize=(15,5))\r\n",
    "plt.title('Customers cumulative')\r\n",
    "plt.xlabel('Timeline')\r\n",
    "plt.ylabel('Customer count cumulative');"
   ]
  },
  {
   "cell_type": "code",
   "execution_count": 36,
   "metadata": {},
   "outputs": [
    {
     "data": {
      "image/png": "[encoded data removed]",
      "text/plain": "<Figure size 1080x360 with 1 Axes>"
     },
     "metadata": {
      "needs_background": "light"
     },
     "output_type": "display_data"
    }
   ],
   "source": [
    "\r\n",
    "# New customers count by day\r\n",
    "ax = df_customer_dly.groupby('order_purchase_timestamp').count().plot(kind='bar', figsize=(15,5))\r\n",
    "# set monthly locator\r\n",
    "ax.xaxis.set_major_locator(mdates.MonthLocator(interval=1))\r\n",
    "# set font and rotation for date tick labels\r\n",
    "plt.gcf().autofmt_xdate()\r\n",
    "plt.title('Customers cumulative')\r\n",
    "plt.xlabel('Timeline')\r\n",
    "plt.ylabel('Customer count');"
   ]
  },
  {
   "cell_type": "markdown",
   "metadata": {},
   "source": [
    "## Conclusion\r\n",
    "\r\n",
    "- Customer come from 4119 cities and 27 states\r\n",
    "- Most of the customers live in Sao Paulo by a factor of 2 to the second ranked city, Rio de Janeiro\r\n",
    "- Many new cutomers appeared on Black Friday. It is interesting to see that the impact is not very pronounced when looking at the cumulative customer count for the total time span.\r\n",
    "- Overall, the increase of customers has an upward trend. The trendline is slightly exponential, which means that the growth is accelerating slowly."
   ]
  },
  {
   "cell_type": "markdown",
   "metadata": {},
   "source": [
    "# III. Customer Segmentation\r\n",
    "\r\n",
    "The segmentation will classify customers based on their bying frequency, amount of purchases and money spent.\r\n",
    "\r\n",
    "Question to answer:\r\n",
    "\r\n",
    "How are customers segmented according time of purchase, purchase amount and number of orders?"
   ]
  },
  {
   "cell_type": "code",
   "execution_count": 38,
   "metadata": {},
   "outputs": [],
   "source": [
    "# Create a work copy\r\n",
    "df = df_orders[[\r\n",
    "    'customer_id',\r\n",
    "    'order_id',\r\n",
    "    'order_status',\r\n",
    "    'order_purchase_timestamp',\r\n",
    "    'product_id',\r\n",
    "    'qty',\r\n",
    "    'price',\r\n",
    "    'product_category_name'\r\n",
    "    ]].copy()"
   ]
  },
  {
   "cell_type": "markdown",
   "metadata": {},
   "source": [
    "We only are interested in customers which completed the interaction (order_status = \"delivered\")"
   ]
  },
  {
   "cell_type": "code",
   "execution_count": 39,
   "metadata": {},
   "outputs": [
    {
     "data": {
      "text/plain": "delivered      100196\nshipped          1127\ncanceled          465\ninvoiced          322\nprocessing        306\nunavailable         7\napproved            2\nName: order_status, dtype: int64"
     },
     "execution_count": 39,
     "metadata": {},
     "output_type": "execute_result"
    }
   ],
   "source": [
    "df['order_status'].value_counts()"
   ]
  },
  {
   "cell_type": "code",
   "execution_count": 40,
   "metadata": {},
   "outputs": [],
   "source": [
    "df = df[df['order_status']=='delivered']"
   ]
  },
  {
   "cell_type": "markdown",
   "metadata": {},
   "source": [
    "We will pretend that the last day in the dataset represents the current day. Based on this, we calculate the number of days between the purchase and \"Today\""
   ]
  },
  {
   "cell_type": "code",
   "execution_count": 41,
   "metadata": {},
   "outputs": [],
   "source": [
    "# Setting reference day\r\n",
    "df['today'] = df['order_purchase_timestamp'].max()\r\n",
    "# Date deltas\r\n",
    "df['recency'] = df['today'] - df['order_purchase_timestamp']\r\n",
    "\r\n",
    "# Need to get the total price for an order line\r\n",
    "df['total_price'] = df['qty'] * df['price']"
   ]
  },
  {
   "cell_type": "code",
   "execution_count": 43,
   "metadata": {},
   "outputs": [],
   "source": [
    "# Grouping by customer and order (same order_id = same day); This will be the data frame which contains all valid costomers and how they are segmented\r\n",
    "df_segmented_customers = df.groupby([\r\n",
    "    'customer_id',\r\n",
    "    'order_id'\r\n",
    "    ], as_index=False).agg({\r\n",
    "        'order_purchase_timestamp': 'first',\r\n",
    "        'qty': 'sum',\r\n",
    "        'total_price': 'sum',\r\n",
    "        'today': 'first',\r\n",
    "        'recency': 'first'\r\n",
    "        })"
   ]
  },
  {
   "cell_type": "code",
   "execution_count": 44,
   "metadata": {},
   "outputs": [],
   "source": [
    "df_segmented_customers['recency']\\\r\n",
    "    = df_segmented_customers['recency'].astype(str)\r\n",
    "df_segmented_customers['recency']\\\r\n",
    "    = df_segmented_customers['recency'].str.replace(r'\\s+days.*', '', regex=True)\r\n",
    "df_segmented_customers['recency']\\\r\n",
    "    = df_segmented_customers['recency'].astype(int)"
   ]
  },
  {
   "cell_type": "code",
   "execution_count": 46,
   "metadata": {},
   "outputs": [],
   "source": [
    "df_segmented_customers = df_segmented_customers\\\r\n",
    "    .groupby('customer_id', as_index=False)\\\r\n",
    "    .agg({\r\n",
    "        'recency': ['min', 'max', 'count'],\r\n",
    "        'total_price': ['sum', 'mean']\r\n",
    "        })"
   ]
  },
  {
   "cell_type": "code",
   "execution_count": 47,
   "metadata": {},
   "outputs": [],
   "source": [
    "# Simplifying columns\r\n",
    "df_segmented_customers.columns = [' '.join(col).strip() for col in df_segmented_customers.columns.values]"
   ]
  },
  {
   "cell_type": "code",
   "execution_count": 48,
   "metadata": {},
   "outputs": [],
   "source": [
    "# Renaming columns\r\n",
    "df_segmented_customers.rename(columns={\r\n",
    "    'recency max': 'days_since_first_order',\r\n",
    "    'recency min': 'recency',\r\n",
    "    'recency count': 'frequency',\r\n",
    "    'total_price sum': 'total_payment',\r\n",
    "    'total_price mean': 'avg_payment'\r\n",
    "    }, inplace=True)"
   ]
  },
  {
   "cell_type": "code",
   "execution_count": 49,
   "metadata": {},
   "outputs": [
    {
     "data": {
      "text/plain": "'713 days, 0:00:00'"
     },
     "execution_count": 49,
     "metadata": {},
     "output_type": "execute_result"
    }
   ],
   "source": [
    "# Defining time range conditions for classifying customers\r\n",
    "total_time_range = str(df[\"order_purchase_timestamp\"].max() - df[\"order_purchase_timestamp\"].min())\r\n",
    "total_time_range"
   ]
  },
  {
   "cell_type": "code",
   "execution_count": 50,
   "metadata": {},
   "outputs": [],
   "source": [
    "# Splitting total time range in 4 time periods\r\n",
    "period = int(re.sub(r'\\s+days.*', '', total_time_range))/4"
   ]
  },
  {
   "cell_type": "markdown",
   "metadata": {},
   "source": [
    "# Assigning activity clasifications"
   ]
  },
  {
   "cell_type": "code",
   "execution_count": 51,
   "metadata": {},
   "outputs": [],
   "source": [
    "# activity classes\r\n",
    "class_inactive = df_segmented_customers['recency'] > period * 3\r\n",
    "class_cold = (df_segmented_customers['recency'] > period * 2)\\\r\n",
    "    & (df_segmented_customers['recency'] <= period * 3)\r\n",
    "class_hot = (df_segmented_customers['recency'] > period)\\\r\n",
    "    & (df_segmented_customers['recency'] <= period * 2)\r\n",
    "class_active = df_segmented_customers['recency'] <= period"
   ]
  },
  {
   "cell_type": "code",
   "execution_count": 52,
   "metadata": {},
   "outputs": [],
   "source": [
    "# Adding activity classes to dataframe\r\n",
    "df_segmented_customers.loc[class_inactive, \"segment\"] = \"inactive\"\r\n",
    "df_segmented_customers.loc[class_cold, \"segment\"] = \"cold\"\r\n",
    "df_segmented_customers.loc[class_hot, \"segment\"] = \"hot\"\r\n",
    "df_segmented_customers.loc[class_active, \"segment\"] = \"active\""
   ]
  },
  {
   "cell_type": "code",
   "execution_count": 53,
   "metadata": {},
   "outputs": [],
   "source": [
    "# Defining payment range conditions for classifying customers\r\n",
    "median_payment = df_segmented_customers['avg_payment'].median()"
   ]
  },
  {
   "cell_type": "code",
   "execution_count": 54,
   "metadata": {},
   "outputs": [],
   "source": [
    "# Sub classes\r\n",
    "class_inactive_low = df_segmented_customers['segment'] == 'inactive'\r\n",
    "class_cold_low = (df_segmented_customers['segment'] == 'cold')\\\r\n",
    "    & (df_segmented_customers['avg_payment'] < median_payment)\r\n",
    "class_cold_high = (df_segmented_customers['segment'] == 'cold')\\\r\n",
    "    & (df_segmented_customers['avg_payment'] >= median_payment)\r\n",
    "class_hot_low = (df_segmented_customers['segment'] == 'hot')\\\r\n",
    "    & (df_segmented_customers['avg_payment'] < median_payment)\r\n",
    "class_hot_high = (df_segmented_customers['segment'] == 'hot')\\\r\n",
    "    & (df_segmented_customers['avg_payment'] >= median_payment)\r\n",
    "class_active_low = (df_segmented_customers['segment'] == 'active')\\\r\n",
    "    & (df_segmented_customers['avg_payment'] < median_payment)\r\n",
    "class_active_high = (df_segmented_customers['segment'] == 'active')\\\r\n",
    "    & (df_segmented_customers['avg_payment'] >= median_payment)"
   ]
  },
  {
   "cell_type": "code",
   "execution_count": 55,
   "metadata": {},
   "outputs": [],
   "source": [
    "# Adding sub classes to dataframe\r\n",
    "df_segmented_customers.loc[class_inactive_low, \"sub_segment\"] = \"inactive\"\r\n",
    "df_segmented_customers.loc[class_cold_low, \"sub_segment\"] = \"cold_low\"\r\n",
    "df_segmented_customers.loc[class_cold_high, \"sub_segment\"] = \"cold_high\"\r\n",
    "df_segmented_customers.loc[class_hot_low, \"sub_segment\"] = \"hot_low\"\r\n",
    "df_segmented_customers.loc[class_hot_high, \"sub_segment\"] = \"hot_high\"\r\n",
    "df_segmented_customers.loc[class_active_low, \"sub_segment\"] = \"active_low\"\r\n",
    "df_segmented_customers.loc[class_active_high, \"sub_segment\"] = \"active_high\""
   ]
  },
  {
   "cell_type": "code",
   "execution_count": 56,
   "metadata": {},
   "outputs": [],
   "source": [
    "# We can use this color scheme for various visualizations\r\n",
    "dict_colors = {\r\n",
    "    'inactive': 'midnightblue',\r\n",
    "    'cold_low': 'blue',\r\n",
    "    'cold_high': 'mediumslateblue',\r\n",
    "    'hot_low': 'darkorchid',\r\n",
    "    'hot_high': 'magenta',\r\n",
    "    'active_low': 'deeppink', \r\n",
    "    'active_high': 'red'\r\n",
    "    }"
   ]
  },
  {
   "cell_type": "code",
   "execution_count": 58,
   "metadata": {},
   "outputs": [
    {
     "name": "stdout",
     "output_type": "stream",
     "text": [
      "Collecting pywaffle\n",
      "  Downloading pywaffle-0.6.3-py2.py3-none-any.whl (526 kB)\n",
      "Requirement already satisfied: matplotlib in c:\\users\\demhumm\\anaconda3\\lib\\site-packages (from pywaffle) (3.1.3)\n",
      "Requirement already satisfied: pyparsing!=2.0.4,!=2.1.2,!=2.1.6,>=2.0.1 in c:\\users\\demhumm\\anaconda3\\lib\\site-packages (from matplotlib->pywaffle) (2.4.6)\n",
      "Requirement already satisfied: python-dateutil>=2.1 in c:\\users\\demhumm\\anaconda3\\lib\\site-packages (from matplotlib->pywaffle) (2.8.1)\n",
      "Requirement already satisfied: numpy>=1.11 in c:\\users\\demhumm\\anaconda3\\lib\\site-packages (from matplotlib->pywaffle) (1.18.1)\n",
      "Requirement already satisfied: kiwisolver>=1.0.1 in c:\\users\\demhumm\\anaconda3\\lib\\site-packages (from matplotlib->pywaffle) (1.1.0)\n",
      "Requirement already satisfied: cycler>=0.10 in c:\\users\\demhumm\\anaconda3\\lib\\site-packages (from matplotlib->pywaffle) (0.10.0)\n",
      "Requirement already satisfied: six>=1.5 in c:\\users\\demhumm\\anaconda3\\lib\\site-packages (from python-dateutil>=2.1->matplotlib->pywaffle) (1.14.0)\n",
      "Requirement already satisfied: setuptools in c:\\users\\demhumm\\anaconda3\\lib\\site-packages (from kiwisolver>=1.0.1->matplotlib->pywaffle) (45.2.0.post20200210)\n",
      "Installing collected packages: pywaffle\n",
      "Successfully installed pywaffle-0.6.3\n",
      "Note: you may need to restart the kernel to use updated packages.\n"
     ]
    }
   ],
   "source": [
    "pip install pywaffle"
   ]
  },
  {
   "cell_type": "code",
   "execution_count": 59,
   "metadata": {},
   "outputs": [],
   "source": [
    "import matplotlib.pyplot as plt\r\n",
    "from pywaffle import Waffle"
   ]
  },
  {
   "cell_type": "code",
   "execution_count": 61,
   "metadata": {},
   "outputs": [
    {
     "data": {
      "image/png": "[encoded data removed]",
      "text/plain": "<Waffle size 576x360 with 1 Axes>"
     },
     "metadata": {
      "needs_background": "light"
     },
     "output_type": "display_data"
    }
   ],
   "source": [
    "# Total revenue by sub-segment\r\n",
    "Olist_analysis.plot_waffle_chart(df_segmented_customers, 'total_payment', 'sum', 'Revenue by Sub-Segment')"
   ]
  },
  {
   "cell_type": "code",
   "execution_count": 63,
   "metadata": {},
   "outputs": [
    {
     "data": {
      "image/png": "[encoded data removed]",
      "text/plain": "<Waffle size 576x360 with 1 Axes>"
     },
     "metadata": {
      "needs_background": "light"
     },
     "output_type": "display_data"
    }
   ],
   "source": [
    "# Total orders placed by sub-segment\r\n",
    "Olist_analysis.plot_waffle_chart(df_segmented_customers, 'frequency', 'sum', 'Orders by Sub-Segment')"
   ]
  },
  {
   "cell_type": "code",
   "execution_count": 65,
   "metadata": {},
   "outputs": [
    {
     "data": {
      "image/png": "[encoded data removed]",
      "text/plain": "<Waffle size 576x360 with 1 Axes>"
     },
     "metadata": {
      "needs_background": "light"
     },
     "output_type": "display_data"
    }
   ],
   "source": [
    "# Number of customers per sub-segment\r\n",
    "Olist_analysis.plot_waffle_chart(df_segmented_customers,'customer_id', 'count', 'Number of customers by Sub-Segment')"
   ]
  },
  {
   "cell_type": "markdown",
   "metadata": {},
   "source": [
    "# Conclusion\r\n",
    "Geographic relationship in view of customer characteristics\r\n",
    "\r\n",
    "- The strongest class of the 7 generated sub-segments is active customers with high spending, followed by \"hot\" customers which high spending, which is a good sign for the business.\r\n",
    "- Active customers with high and low spending placed the most orders, followed by \"hot\" customers.\r\n",
    "- Active customers are also the biggest groups in terms of head count.\r\n",
    "- Inactive customers represent in each chart the smallest proportion.\r\n",
    "\r\n",
    "This segmentation provides a base to develop a strategy how and if to target customers."
   ]
  },
  {
   "cell_type": "markdown",
   "metadata": {},
   "source": [
    "# IV. Geodemographic Segmentation\r\n",
    "\r\n",
    "In this classification the customers are geographically visualized based on quantitive comparison of multiple characteristics.\r\n",
    "\r\n",
    "Question to answer:\r\n",
    "\r\n",
    "Is there a geolographical correlation to specific characteristics?"
   ]
  },
  {
   "cell_type": "code",
   "execution_count": 69,
   "metadata": {},
   "outputs": [],
   "source": [
    "# Making dictionaries to mapp zip code prefix and coordinates to the customers\r\n",
    "dict_cust_zip = df_customer.set_index('customer_id').to_dict()['customer_zip_code_prefix']\r\n",
    "dict_lat = df_geolocation.set_index('geolocation_zip_code_prefix').to_dict()['geolocation_lat']\r\n",
    "dict_lng = df_geolocation.set_index('geolocation_zip_code_prefix').to_dict()['geolocation_lng']"
   ]
  },
  {
   "cell_type": "code",
   "execution_count": 70,
   "metadata": {},
   "outputs": [],
   "source": [
    "# Adding zip code to df\r\n",
    "df_segmented_customers['geolocation_zip_code_prefix']\\\r\n",
    "    = df_segmented_customers['customer_id'].map(dict_cust_zip)"
   ]
  },
  {
   "cell_type": "code",
   "execution_count": 71,
   "metadata": {},
   "outputs": [],
   "source": [
    "# Adding coordinates and color code to the dataframe\r\n",
    "df_segmented_customers['geolocation_lat']\\\r\n",
    "    = df_segmented_customers['geolocation_zip_code_prefix'].map(dict_lat)\r\n",
    "df_segmented_customers['geolocation_lng']\\\r\n",
    "    = df_segmented_customers['geolocation_zip_code_prefix'].map(dict_lng)\r\n",
    "df_segmented_customers['color']\\\r\n",
    "    = df_segmented_customers['sub_segment'].map(dict_colors)"
   ]
  },
  {
   "cell_type": "markdown",
   "metadata": {},
   "source": [
    "# Geodemographic map of sub-segments\r\n",
    "\r\n",
    "Evaluation how our customer segmentation is located on the map. Because the zip code prefix is not individually assigned to a specific customer and is not the detailed zip code I need to work with: 1) coordinates which are ageraged for a specific neighborhooe and 2) aggregate all metrics for the coordinates (a coordinate can have many customers with different values)."
   ]
  },
  {
   "cell_type": "code",
   "execution_count": 72,
   "metadata": {},
   "outputs": [],
   "source": [
    "# Because the coordinates of the customers are not unique (explanation in the data import) I need to extract the most common cutomer call (color)\r\n",
    "# Sample size set to reduce file size; can be removed to see full picture\r\n",
    "sample_subsegments = df_segmented_customers.groupby(\r\n",
    "    'geolocation_zip_code_prefix',\r\n",
    "    as_index=False\r\n",
    "    ).agg({\r\n",
    "        'geolocation_lat': 'first',\r\n",
    "        'geolocation_lng': 'first',\r\n",
    "        'color': lambda x:x.value_counts().index[0]\r\n",
    "        }).sample(n=200)"
   ]
  },
  {
   "cell_type": "code",
   "execution_count": 73,
   "metadata": {},
   "outputs": [
    {
     "data": {
      "application/vnd.plotly.v1+json": {
       "config": {
        "linkText": "Export to plot.ly",
        "plotlyServerURL": "https://plot.ly",
        "showLink": false
       },
       "data": [
        {
         "lat": [
          -5.262067087777787,
          -22.896422928688487,
          -22.45953985567546,
          -11.842602875215812,
          -22.766431839587074,
          -23.02894230537728,
          -20.80008612693289,
          -23.59896280045007,
          -29.149039605211197,
          -20.357424676632192,
          -20.66219880471286,
          -12.267754029455604,
          -18.079295377683657,
          -23.593020978852767,
          -23.49352673189448,
          -23.5866806194818,
          -22.749640927835888,
          -23.557702463500515,
          -23.446182694477333,
          -19.375227507440453,
          -22.17948545663744,
          -29.17210576397943,
          -23.54789889702238,
          -23.555755445467106,
          -22.99707174894662,
          -1.459373524525609,
          -28.226368696429805,
          -23.305618197225012,
          -25.60094219071655,
          -23.534826589791635,
          -23.627097313636035,
          -22.890684656673788,
          -23.193075237030374,
          -22.701281953646728,
          -12.676734631407086,
          -26.050914975507627,
          -30.055514543424398,
          -22.707410124912013,
          -3.7473552198050304,
          -22.746325272344713,
          -16.766684570403232,
          -23.42595255690373,
          -21.166436147282873,
          -3.7808843067556803,
          -6.238402063494261,
          -22.911267595969587,
          -24.595973466757112,
          -7.215384775225957,
          -13.017855003693033,
          -22.581289445467096,
          -22.79278343956468,
          -23.569673579192106,
          -21.803861399388317,
          -7.244204223095366,
          -30.160672032374986,
          -22.30589983151721,
          -23.556781844018698,
          -20.330055385336408,
          -20.695955535104442,
          -27.754563268169605,
          -30.10424445045876,
          -23.77388173986249,
          -23.559373844390635,
          -7.203291712405533,
          -20.147159644864512,
          -22.116215621818963,
          -30.019349242022038,
          -23.532949204830047,
          -8.080752478215679,
          -25.53924764556529,
          -23.477854578683143,
          -16.14549875505856,
          -23.5500881708192,
          -7.225389639519202,
          -24.03668383542035,
          -23.524372634196983,
          -23.594060137111178,
          -23.66106297162829,
          -23.5070814343586,
          -22.015790906410714,
          -19.767618824381586,
          -25.523036548992977,
          -23.11931951457095,
          -31.74175279259144,
          -21.72275034002205,
          -23.568725880662427,
          -21.78837109019567,
          -22.21138177259648,
          -23.554133985636888,
          -22.350416929722705,
          -18.44707069590357,
          -16.83384069665507,
          -8.026451355971966,
          -22.213067217170742,
          -23.55537948903573,
          -28.944447879980487,
          -22.012159827724513,
          -23.475562755472755,
          -23.65779861329983,
          -1.2600867321542824,
          -25.57054986172577,
          -22.41113883184926,
          -11.800589429708795,
          -23.416104450821802,
          -22.84500951067581,
          -23.993346892756357,
          -15.941160316564979,
          -23.47667561508698,
          -23.14006126465255,
          -7.237326090658696,
          -16.680762540249265,
          -23.49760619455827,
          -19.279003968582483,
          -22.81687789357901,
          -29.92132755063776,
          -22.88740254911983,
          -20.344509682215183,
          -15.835248000000002,
          -16.654954499999974,
          -19.776134713755734,
          -22.982784018310394,
          -6.180309360545176,
          -23.666984124771012,
          -23.10188695369161,
          -26.784814830817933,
          -23.616497346932892,
          -23.48543370024241,
          -25.326102510675806,
          -8.193555860690683,
          -19.843546554110397,
          -23.58387748677709,
          -23.479527940928758,
          -22.737772445467105,
          -15.708251010734696,
          -22.71027999999995,
          -23.678044575624714,
          -23.567787000000006,
          -19.945025726775576,
          -23.532553657639433,
          -23.533807760509557,
          -22.916922013330197,
          -22.428431140606413,
          -15.840989999999948,
          -23.61248674132954,
          -10.787005352253745,
          -23.508716406053413,
          -20.472513443793662,
          -22.610089608414196,
          -28.42698860487685,
          -24.669817415234366,
          -23.52059540730433,
          -14.166409572632773,
          -30.01649671357262,
          -23.501587693317518,
          -16.689709329356596,
          -15.90782649926,
          -20.55272307019001,
          -23.537313167638057,
          -23.009197334198642,
          -16.729418999999947,
          -23.62953768720068,
          -22.37808518834912,
          -23.64599200651361,
          -23.70601352677597,
          -28.648399892371163,
          -25.07667654149116,
          -23.48552837246811,
          -23.50463688121069,
          null,
          -15.447901641474054,
          -23.205572075928544,
          -23.56159056667293,
          -23.56751729309249,
          -30.082354170703983,
          -25.54582474649186,
          -15.617123087675106,
          -22.644134598125486,
          -16.628328148605586,
          -22.62819787507637,
          -3.759841749927879,
          -26.25339045777964,
          -22.79854158743289,
          -23.638939847077108,
          -23.457098786571606,
          -23.63958661088346,
          -23.71144898130583,
          -22.88966974187781,
          -23.547778229528557,
          -23.62607856480468,
          -20.330619137017507,
          -19.918216597805067,
          null,
          -23.556484519014354,
          -22.29470578332221,
          -15.658607850716324,
          -19.896205043857087,
          -14.104391154284494,
          -22.410228561705427,
          -10.292176260076207,
          -18.419129695156773
         ],
         "lon": [
          -36.72327071670055,
          -43.09944661592273,
          -44.453051512493474,
          -55.513772251346616,
          -43.50480418386279,
          -45.55070393878933,
          -45.993338059414384,
          -46.70423003067111,
          -56.06378807697249,
          -41.246193241718935,
          -43.79410037282647,
          -38.97947395195404,
          -41.548748706327494,
          -46.58353825376678,
          -46.61754531043338,
          -46.519881166108846,
          -43.32586514639772,
          -46.688927380373954,
          -46.58104716849285,
          -40.075945515153435,
          -47.37319643532264,
          -51.192025732844456,
          -46.56694727338563,
          -46.64885173688614,
          -43.24256341701778,
          -48.4778648083559,
          -55.047450100922795,
          -51.39330167064379,
          -49.39158458837227,
          -46.646355117260114,
          -46.73301030642267,
          -47.07333374617697,
          -45.88304271189917,
          -46.77091899510962,
          -38.54463986844448,
          -53.057286215866135,
          -51.163649832361926,
          -46.03526215592884,
          -38.48965748035047,
          -43.500778820516786,
          -49.344119479408704,
          -46.588800821560966,
          -43.021353822180494,
          -38.65808525110107,
          -42.687620954783604,
          -47.03906794749982,
          -52.27363773337854,
          -39.30202825023628,
          -39.036386101696586,
          -44.976901782820704,
          -43.29476555908865,
          -46.595039447859094,
          -48.17999585844542,
          -39.431566007572926,
          -51.186609425142876,
          -45.37734905142918,
          -46.60012269317328,
          -40.41190131338189,
          -50.04191584470432,
          -50.33156360266553,
          -51.125828312510855,
          -46.69579992022212,
          -46.90757990916236,
          -48.231810472081186,
          -41.2910222676202,
          -43.20814162510536,
          -51.19028538885674,
          -46.71254665958799,
          -34.91552093880199,
          -49.29298340383172,
          -46.68305756717059,
          -40.296356593199576,
          -46.959851850066606,
          -37.2538826449586,
          -46.53243077491483,
          -46.64743213627446,
          -46.558279880518185,
          -46.765594112799036,
          -46.46620316472388,
          -47.417700079105956,
          -47.94342775344885,
          -49.19630468650818,
          -45.6436140925616,
          -52.314388435740824,
          -51.01587189809538,
          -46.651751192625035,
          -43.39061869539496,
          -45.2611307090386,
          -46.63862617682045,
          -47.33857256705371,
          -50.458615499791186,
          -49.288647316996425,
          -34.988670486741555,
          -54.7871902716409,
          -46.63229403136362,
          -49.49440755664878,
          -47.42987992176515,
          -46.35185003408293,
          -46.358265781328754,
          -48.46428187134293,
          -49.40240479056738,
          -44.26434775860981,
          -37.61840229619181,
          -46.820951394066284,
          -43.25925208673323,
          -46.41655297608251,
          -47.988209424362175,
          -46.545004685269426,
          -46.56059354341165,
          -39.39472278754899,
          -49.314155580498536,
          -46.64825109922671,
          -42.0073347077215,
          -43.43156560493424,
          -51.18339971426511,
          -43.597160036607754,
          -40.34655264121971,
          -47.92242824999998,
          -49.18089798099993,
          -43.93204870478879,
          -47.09339053819927,
          -43.78068415356554,
          -46.593442874313,
          -50.37455527947944,
          -50.99690864685797,
          -46.67370931779097,
          -46.6289059196434,
          -49.2678,
          -35.545853195425586,
          -44.03335502531393,
          -46.51934055251708,
          -54.180855374434756,
          -47.31906937898898,
          -47.91179562388467,
          -42.81844836499994,
          -46.60062326118061,
          -46.649099250000006,
          -50.538288180319796,
          -46.91462799846179,
          -46.30793056973898,
          -43.21387331695426,
          -45.456217020171565,
          -47.90959999999996,
          -46.65692008520402,
          -37.0539523136853,
          -46.58366963434123,
          -54.60733250095229,
          -45.18327731338256,
          -53.65323557407945,
          -52.56542809380601,
          -47.13256469635362,
          -40.00725523302213,
          -51.132821045646104,
          -47.45912403191186,
          -49.271916282384694,
          -48.04964503838927,
          -54.60227492005926,
          -46.65604201387845,
          -45.52396976642697,
          -49.22030599999997,
          -46.62239843672454,
          -48.38229448830654,
          -46.67182552433081,
          -46.58666615251885,
          -49.19172827915632,
          -50.162731888712514,
          -46.63409161656762,
          -46.70929730322004,
          null,
          -58.73853109134205,
          -47.29234077366382,
          -46.63012809671422,
          -46.689846841797,
          -51.02473391179535,
          -48.541626695688116,
          -47.641977513453575,
          -50.39573483583742,
          -49.307499962048595,
          -42.00749695323001,
          -38.52999446350049,
          -49.40005196489569,
          -45.19098501865813,
          -46.54746915736627,
          -46.694141586589005,
          -46.688874313203364,
          -46.5297041565464,
          -43.289203358041384,
          -46.51209801526343,
          -46.72252979669914,
          -40.36931025213571,
          -44.12165085475941,
          null,
          -46.5276256552888,
          -48.55730830171036,
          -56.16893281899871,
          -43.92831104385708,
          -46.63967126172475,
          -54.438737850861514,
          -36.3073057873191,
          -46.41544229316163
         ],
         "marker": {
          "color": [
           "mediumslateblue",
           "red",
           "red",
           "magenta",
           "deeppink",
           "deeppink",
           "midnightblue",
           "deeppink",
           "deeppink",
           "deeppink",
           "darkorchid",
           "darkorchid",
           "midnightblue",
           "magenta",
           "magenta",
           "darkorchid",
           "blue",
           "deeppink",
           "magenta",
           "blue",
           "darkorchid",
           "red",
           "blue",
           "deeppink",
           "blue",
           "darkorchid",
           "midnightblue",
           "mediumslateblue",
           "blue",
           "deeppink",
           "magenta",
           "deeppink",
           "deeppink",
           "deeppink",
           "deeppink",
           "red",
           "deeppink",
           "deeppink",
           "red",
           "darkorchid",
           "deeppink",
           "red",
           "midnightblue",
           "midnightblue",
           "red",
           "darkorchid",
           "darkorchid",
           "magenta",
           "red",
           "red",
           "blue",
           "blue",
           "magenta",
           "mediumslateblue",
           "magenta",
           "red",
           "red",
           "deeppink",
           "deeppink",
           "red",
           "red",
           "red",
           "blue",
           "red",
           "magenta",
           "darkorchid",
           "mediumslateblue",
           "red",
           "red",
           "deeppink",
           "magenta",
           "darkorchid",
           "magenta",
           "blue",
           "red",
           "midnightblue",
           "magenta",
           "magenta",
           "red",
           "deeppink",
           "mediumslateblue",
           "darkorchid",
           "red",
           "deeppink",
           "blue",
           "darkorchid",
           "blue",
           "deeppink",
           "deeppink",
           "mediumslateblue",
           "magenta",
           "mediumslateblue",
           "blue",
           "darkorchid",
           "deeppink",
           "red",
           "magenta",
           "deeppink",
           "deeppink",
           "red",
           "red",
           "magenta",
           "deeppink",
           "darkorchid",
           "magenta",
           "deeppink",
           "deeppink",
           "deeppink",
           "deeppink",
           "darkorchid",
           "red",
           "red",
           "red",
           "deeppink",
           "deeppink",
           "red",
           "deeppink",
           "red",
           "blue",
           "darkorchid",
           "darkorchid",
           "blue",
           "red",
           "red",
           "darkorchid",
           "deeppink",
           "magenta",
           "red",
           "deeppink",
           "magenta",
           "magenta",
           "deeppink",
           "magenta",
           "darkorchid",
           "red",
           "deeppink",
           "red",
           "darkorchid",
           "red",
           "red",
           "darkorchid",
           "magenta",
           "deeppink",
           "red",
           "darkorchid",
           "blue",
           "red",
           "darkorchid",
           "midnightblue",
           "darkorchid",
           "red",
           "blue",
           "magenta",
           "darkorchid",
           "deeppink",
           "darkorchid",
           "midnightblue",
           "darkorchid",
           "red",
           "midnightblue",
           "deeppink",
           "darkorchid",
           "deeppink",
           "deeppink",
           "red",
           "red",
           "deeppink",
           "deeppink",
           "blue",
           "blue",
           "deeppink",
           "deeppink",
           "red",
           "darkorchid",
           "magenta",
           "red",
           "red",
           "darkorchid",
           "red",
           "red",
           "mediumslateblue",
           "red",
           "red",
           "deeppink",
           "magenta",
           "deeppink",
           "red",
           "red",
           "red",
           "red",
           "red",
           "darkorchid",
           "red",
           "mediumslateblue",
           "darkorchid",
           "blue",
           "red",
           "mediumslateblue",
           "red",
           "red"
          ],
          "size": 2
         },
         "type": "scattermapbox"
        }
       ],
       "layout": {
        "mapbox": {
         "accesstoken": "pk.eyJ1IjoiaG9vbmtlbmc5MyIsImEiOiJjam43cGhpNng2ZmpxM3JxY3Z4ODl2NWo3In0.SGRvJlToMtgRxw9ZWzPFrA",
         "bearing": 10,
         "center": {
          "lat": -23.5,
          "lon": -46.6
         },
         "pitch": 0,
         "zoom": 2
        },
        "showlegend": false,
        "title": "Geological distribution of customer sub-segments"
       }
      },
      "text/html": "<div>                            <div id=\"c734f71b-cc80-4dc8-8cca-775e238e301d\" class=\"plotly-graph-div\" style=\"height:525px; width:100%;\"></div>            <script type=\"text/javascript\">                require([\"plotly\"], function(Plotly) {                    window.PLOTLYENV=window.PLOTLYENV || {};                                    if (document.getElementById(\"c734f71b-cc80-4dc8-8cca-775e238e301d\")) {                    Plotly.newPlot(                        \"c734f71b-cc80-4dc8-8cca-775e238e301d\",                        [{\"lat\": [-5.262067087777787, -22.896422928688487, -22.45953985567546, -11.842602875215812, -22.766431839587074, -23.02894230537728, -20.80008612693289, -23.59896280045007, -29.149039605211197, -20.357424676632192, -20.66219880471286, -12.267754029455604, -18.079295377683657, -23.593020978852767, -23.49352673189448, -23.5866806194818, -22.749640927835888, -23.557702463500515, -23.446182694477333, -19.375227507440453, -22.17948545663744, -29.17210576397943, -23.54789889702238, -23.555755445467106, -22.99707174894662, -1.459373524525609, -28.226368696429805, -23.305618197225012, -25.60094219071655, -23.534826589791635, -23.627097313636035, -22.890684656673788, -23.193075237030374, -22.701281953646728, -12.676734631407086, -26.050914975507627, -30.055514543424398, -22.707410124912013, -3.7473552198050304, -22.746325272344713, -16.766684570403232, -23.42595255690373, -21.166436147282873, -3.7808843067556803, -6.238402063494261, -22.911267595969587, -24.595973466757112, -7.215384775225957, -13.017855003693033, -22.581289445467096, -22.79278343956468, -23.569673579192106, -21.803861399388317, -7.244204223095366, -30.160672032374986, -22.30589983151721, -23.556781844018698, -20.330055385336408, -20.695955535104442, -27.754563268169605, -30.10424445045876, -23.77388173986249, -23.559373844390635, -7.203291712405533, -20.147159644864512, -22.116215621818963, -30.019349242022038, -23.532949204830047, -8.080752478215679, -25.53924764556529, -23.477854578683143, -16.14549875505856, -23.5500881708192, -7.225389639519202, -24.03668383542035, -23.524372634196983, -23.594060137111178, -23.66106297162829, -23.5070814343586, -22.015790906410714, -19.767618824381586, -25.523036548992977, -23.11931951457095, -31.74175279259144, -21.72275034002205, -23.568725880662427, -21.78837109019567, -22.21138177259648, -23.554133985636888, -22.350416929722705, -18.44707069590357, -16.83384069665507, -8.026451355971966, -22.213067217170742, -23.55537948903573, -28.944447879980487, -22.012159827724513, -23.475562755472755, -23.65779861329983, -1.2600867321542824, -25.57054986172577, -22.41113883184926, -11.800589429708795, -23.416104450821802, -22.84500951067581, -23.993346892756357, -15.941160316564979, -23.47667561508698, -23.14006126465255, -7.237326090658696, -16.680762540249265, -23.49760619455827, -19.279003968582483, -22.81687789357901, -29.92132755063776, -22.88740254911983, -20.344509682215183, -15.835248000000002, -16.654954499999974, -19.776134713755734, -22.982784018310394, -6.180309360545176, -23.666984124771012, -23.10188695369161, -26.784814830817933, -23.616497346932892, -23.48543370024241, -25.326102510675806, -8.193555860690683, -19.843546554110397, -23.58387748677709, -23.479527940928758, -22.737772445467105, -15.708251010734696, -22.71027999999995, -23.678044575624714, -23.567787000000006, -19.945025726775576, -23.532553657639433, -23.533807760509557, -22.916922013330197, -22.428431140606413, -15.840989999999948, -23.61248674132954, -10.787005352253745, -23.508716406053413, -20.472513443793662, -22.610089608414196, -28.42698860487685, -24.669817415234366, -23.52059540730433, -14.166409572632773, -30.01649671357262, -23.501587693317518, -16.689709329356596, -15.90782649926, -20.55272307019001, -23.537313167638057, -23.009197334198642, -16.729418999999947, -23.62953768720068, -22.37808518834912, -23.64599200651361, -23.70601352677597, -28.648399892371163, -25.07667654149116, -23.48552837246811, -23.50463688121069, null, -15.447901641474054, -23.205572075928544, -23.56159056667293, -23.56751729309249, -30.082354170703983, -25.54582474649186, -15.617123087675106, -22.644134598125486, -16.628328148605586, -22.62819787507637, -3.759841749927879, -26.25339045777964, -22.79854158743289, -23.638939847077108, -23.457098786571606, -23.63958661088346, -23.71144898130583, -22.88966974187781, -23.547778229528557, -23.62607856480468, -20.330619137017507, -19.918216597805067, null, -23.556484519014354, -22.29470578332221, -15.658607850716324, -19.896205043857087, -14.104391154284494, -22.410228561705427, -10.292176260076207, -18.419129695156773], \"lon\": [-36.72327071670055, -43.09944661592273, -44.453051512493474, -55.513772251346616, -43.50480418386279, -45.55070393878933, -45.993338059414384, -46.70423003067111, -56.06378807697249, -41.246193241718935, -43.79410037282647, -38.97947395195404, -41.548748706327494, -46.58353825376678, -46.61754531043338, -46.519881166108846, -43.32586514639772, -46.688927380373954, -46.58104716849285, -40.075945515153435, -47.37319643532264, -51.192025732844456, -46.56694727338563, -46.64885173688614, -43.24256341701778, -48.4778648083559, -55.047450100922795, -51.39330167064379, -49.39158458837227, -46.646355117260114, -46.73301030642267, -47.07333374617697, -45.88304271189917, -46.77091899510962, -38.54463986844448, -53.057286215866135, -51.163649832361926, -46.03526215592884, -38.48965748035047, -43.500778820516786, -49.344119479408704, -46.588800821560966, -43.021353822180494, -38.65808525110107, -42.687620954783604, -47.03906794749982, -52.27363773337854, -39.30202825023628, -39.036386101696586, -44.976901782820704, -43.29476555908865, -46.595039447859094, -48.17999585844542, -39.431566007572926, -51.186609425142876, -45.37734905142918, -46.60012269317328, -40.41190131338189, -50.04191584470432, -50.33156360266553, -51.125828312510855, -46.69579992022212, -46.90757990916236, -48.231810472081186, -41.2910222676202, -43.20814162510536, -51.19028538885674, -46.71254665958799, -34.91552093880199, -49.29298340383172, -46.68305756717059, -40.296356593199576, -46.959851850066606, -37.2538826449586, -46.53243077491483, -46.64743213627446, -46.558279880518185, -46.765594112799036, -46.46620316472388, -47.417700079105956, -47.94342775344885, -49.19630468650818, -45.6436140925616, -52.314388435740824, -51.01587189809538, -46.651751192625035, -43.39061869539496, -45.2611307090386, -46.63862617682045, -47.33857256705371, -50.458615499791186, -49.288647316996425, -34.988670486741555, -54.7871902716409, -46.63229403136362, -49.49440755664878, -47.42987992176515, -46.35185003408293, -46.358265781328754, -48.46428187134293, -49.40240479056738, -44.26434775860981, -37.61840229619181, -46.820951394066284, -43.25925208673323, -46.41655297608251, -47.988209424362175, -46.545004685269426, -46.56059354341165, -39.39472278754899, -49.314155580498536, -46.64825109922671, -42.0073347077215, -43.43156560493424, -51.18339971426511, -43.597160036607754, -40.34655264121971, -47.92242824999998, -49.18089798099993, -43.93204870478879, -47.09339053819927, -43.78068415356554, -46.593442874313, -50.37455527947944, -50.99690864685797, -46.67370931779097, -46.6289059196434, -49.2678, -35.545853195425586, -44.03335502531393, -46.51934055251708, -54.180855374434756, -47.31906937898898, -47.91179562388467, -42.81844836499994, -46.60062326118061, -46.649099250000006, -50.538288180319796, -46.91462799846179, -46.30793056973898, -43.21387331695426, -45.456217020171565, -47.90959999999996, -46.65692008520402, -37.0539523136853, -46.58366963434123, -54.60733250095229, -45.18327731338256, -53.65323557407945, -52.56542809380601, -47.13256469635362, -40.00725523302213, -51.132821045646104, -47.45912403191186, -49.271916282384694, -48.04964503838927, -54.60227492005926, -46.65604201387845, -45.52396976642697, -49.22030599999997, -46.62239843672454, -48.38229448830654, -46.67182552433081, -46.58666615251885, -49.19172827915632, -50.162731888712514, -46.63409161656762, -46.70929730322004, null, -58.73853109134205, -47.29234077366382, -46.63012809671422, -46.689846841797, -51.02473391179535, -48.541626695688116, -47.641977513453575, -50.39573483583742, -49.307499962048595, -42.00749695323001, -38.52999446350049, -49.40005196489569, -45.19098501865813, -46.54746915736627, -46.694141586589005, -46.688874313203364, -46.5297041565464, -43.289203358041384, -46.51209801526343, -46.72252979669914, -40.36931025213571, -44.12165085475941, null, -46.5276256552888, -48.55730830171036, -56.16893281899871, -43.92831104385708, -46.63967126172475, -54.438737850861514, -36.3073057873191, -46.41544229316163], \"marker\": {\"color\": [\"mediumslateblue\", \"red\", \"red\", \"magenta\", \"deeppink\", \"deeppink\", \"midnightblue\", \"deeppink\", \"deeppink\", \"deeppink\", \"darkorchid\", \"darkorchid\", \"midnightblue\", \"magenta\", \"magenta\", \"darkorchid\", \"blue\", \"deeppink\", \"magenta\", \"blue\", \"darkorchid\", \"red\", \"blue\", \"deeppink\", \"blue\", \"darkorchid\", \"midnightblue\", \"mediumslateblue\", \"blue\", \"deeppink\", \"magenta\", \"deeppink\", \"deeppink\", \"deeppink\", \"deeppink\", \"red\", \"deeppink\", \"deeppink\", \"red\", \"darkorchid\", \"deeppink\", \"red\", \"midnightblue\", \"midnightblue\", \"red\", \"darkorchid\", \"darkorchid\", \"magenta\", \"red\", \"red\", \"blue\", \"blue\", \"magenta\", \"mediumslateblue\", \"magenta\", \"red\", \"red\", \"deeppink\", \"deeppink\", \"red\", \"red\", \"red\", \"blue\", \"red\", \"magenta\", \"darkorchid\", \"mediumslateblue\", \"red\", \"red\", \"deeppink\", \"magenta\", \"darkorchid\", \"magenta\", \"blue\", \"red\", \"midnightblue\", \"magenta\", \"magenta\", \"red\", \"deeppink\", \"mediumslateblue\", \"darkorchid\", \"red\", \"deeppink\", \"blue\", \"darkorchid\", \"blue\", \"deeppink\", \"deeppink\", \"mediumslateblue\", \"magenta\", \"mediumslateblue\", \"blue\", \"darkorchid\", \"deeppink\", \"red\", \"magenta\", \"deeppink\", \"deeppink\", \"red\", \"red\", \"magenta\", \"deeppink\", \"darkorchid\", \"magenta\", \"deeppink\", \"deeppink\", \"deeppink\", \"deeppink\", \"darkorchid\", \"red\", \"red\", \"red\", \"deeppink\", \"deeppink\", \"red\", \"deeppink\", \"red\", \"blue\", \"darkorchid\", \"darkorchid\", \"blue\", \"red\", \"red\", \"darkorchid\", \"deeppink\", \"magenta\", \"red\", \"deeppink\", \"magenta\", \"magenta\", \"deeppink\", \"magenta\", \"darkorchid\", \"red\", \"deeppink\", \"red\", \"darkorchid\", \"red\", \"red\", \"darkorchid\", \"magenta\", \"deeppink\", \"red\", \"darkorchid\", \"blue\", \"red\", \"darkorchid\", \"midnightblue\", \"darkorchid\", \"red\", \"blue\", \"magenta\", \"darkorchid\", \"deeppink\", \"darkorchid\", \"midnightblue\", \"darkorchid\", \"red\", \"midnightblue\", \"deeppink\", \"darkorchid\", \"deeppink\", \"deeppink\", \"red\", \"red\", \"deeppink\", \"deeppink\", \"blue\", \"blue\", \"deeppink\", \"deeppink\", \"red\", \"darkorchid\", \"magenta\", \"red\", \"red\", \"darkorchid\", \"red\", \"red\", \"mediumslateblue\", \"red\", \"red\", \"deeppink\", \"magenta\", \"deeppink\", \"red\", \"red\", \"red\", \"red\", \"red\", \"darkorchid\", \"red\", \"mediumslateblue\", \"darkorchid\", \"blue\", \"red\", \"mediumslateblue\", \"red\", \"red\"], \"size\": 2}, \"type\": \"scattermapbox\"}],                        {\"mapbox\": {\"accesstoken\": \"pk.eyJ1IjoiaG9vbmtlbmc5MyIsImEiOiJjam43cGhpNng2ZmpxM3JxY3Z4ODl2NWo3In0.SGRvJlToMtgRxw9ZWzPFrA\", \"bearing\": 10, \"center\": {\"lat\": -23.5, \"lon\": -46.6}, \"pitch\": 0, \"zoom\": 2}, \"showlegend\": false, \"title\": \"Geological distribution of customer sub-segments\"},                        {\"responsive\": true}                    ).then(function(){\n                            \nvar gd = document.getElementById('c734f71b-cc80-4dc8-8cca-775e238e301d');\nvar x = new MutationObserver(function (mutations, observer) {{\n        var display = window.getComputedStyle(gd).display;\n        if (!display || display === 'none') {{\n            console.log([gd, 'removed!']);\n            Plotly.purge(gd);\n            observer.disconnect();\n        }}\n}});\n\n// Listen for the removal of the full notebook cells\nvar notebookContainer = gd.closest('#notebook-container');\nif (notebookContainer) {{\n    x.observe(notebookContainer, {childList: true});\n}}\n\n// Listen for the clearing of the current output cell\nvar outputEl = gd.closest('.output');\nif (outputEl) {{\n    x.observe(outputEl, {childList: true});\n}}\n\n                        })                };                });            </script>        </div>"
     },
     "metadata": {},
     "output_type": "display_data"
    }
   ],
   "source": [
    "Olist_analysis.plot_map(sample_subsegments, 'Geological distribution of customer sub-segments',0, 0, 'n', 2, True)"
   ]
  },
  {
   "cell_type": "markdown",
   "metadata": {},
   "source": [
    "As expected, the customers are concentrated around the big cities in the east of the country. On the first view, there is not a clear concentration of sub-segments in specific areas.\r\n",
    "\r\n",
    "# Areas by cumulative revenue"
   ]
  },
  {
   "cell_type": "code",
   "execution_count": 74,
   "metadata": {},
   "outputs": [],
   "source": [
    "sample_renenue = df_segmented_customers.groupby(\r\n",
    "    'geolocation_zip_code_prefix',\r\n",
    "    as_index=False\r\n",
    "    ).agg({\r\n",
    "        'total_payment': 'sum',\r\n",
    "        'geolocation_lat': 'first',\r\n",
    "        'geolocation_lng': 'first'\r\n",
    "        }).sample(n=200)"
   ]
  },
  {
   "cell_type": "code",
   "execution_count": 75,
   "metadata": {},
   "outputs": [
    {
     "data": {
      "image/png": "[encoded data removed]",
      "text/plain": "<Figure size 864x360 with 1 Axes>"
     },
     "metadata": {
      "needs_background": "light"
     },
     "output_type": "display_data"
    }
   ],
   "source": [
    "# Distribution of total revenue\r\n",
    "plt.figure(figsize=(12, 5))\r\n",
    "sns.distplot(sample_renenue['total_payment'], bins=300);\r\n",
    "plt.title('Distribution total revenue per zip code prefix')\r\n",
    "plt.xlabel('Total revenue');"
   ]
  },
  {
   "cell_type": "markdown",
   "metadata": {},
   "source": [
    "A big majority of neighborhoods is on the low end of the distribution when looking at the summarized revenue. This can have different reasons: 1) Small group size, 2) Low purchase values, 3) a combination of 1 and 2"
   ]
  },
  {
   "cell_type": "code",
   "execution_count": 76,
   "metadata": {},
   "outputs": [
    {
     "data": {
      "application/vnd.plotly.v1+json": {
       "config": {
        "linkText": "Export to plot.ly",
        "plotlyServerURL": "https://plot.ly",
        "showLink": false
       },
       "data": [
        {
         "lat": [
          -11.889052755435287,
          -22.05835094462375,
          -22.12909332792686,
          -26.478513860378662,
          -25.541843919239387,
          -22.879863251457092,
          -16.666663196999934,
          -1.2977289117375712,
          -23.01958058338634,
          -21.210947959396147,
          -14.839949790980462,
          -22.869045238683423,
          -8.456719499999995,
          -22.44927698621422,
          -23.348381670584,
          -23.443235916729225,
          -23.578333607611977,
          -8.246243967809106,
          -16.060878632909873,
          -20.605973067551414,
          -13.494083841041132,
          -26.922225453062673,
          -29.92132755063776,
          -9.946639927837722,
          -3.2132263696359384,
          -23.605824845951943,
          -30.011537158605265,
          -20.575712514570952,
          -18.96804255142553,
          -23.736214414651762,
          -19.76726925320108,
          -8.086187843021479,
          -19.934949647548226,
          -12.987924875996914,
          -23.69364132361936,
          -22.93929182584237,
          -23.597426126839395,
          -23.46930257655191,
          -26.226068387623513,
          -21.929833622479467,
          -9.245358441780713,
          -25.659959734219342,
          -23.55793262629253,
          -22.312738251136132,
          -5.973661229262477,
          -22.85334950181767,
          -15.59084396725364,
          -23.5265852828207,
          -29.086770290434675,
          -5.064544762664774,
          -20.87227653454905,
          -22.774673553038053,
          -7.029562264171232,
          -24.73530738190189,
          -23.609275218708515,
          -7.215384775225957,
          -22.803813500281233,
          -23.590957547319537,
          -23.48376080274701,
          -20.689140957101,
          -16.716265976201502,
          -23.455850605603338,
          -9.362301362458028,
          -19.966989332283205,
          -21.51379391352356,
          2.858597532256614,
          -22.400805952581145,
          -26.781657403258844,
          -23.76162763835192,
          -10.436876668697163,
          -19.541288342033294,
          -8.132040000000002,
          -21.438072000000005,
          -23.948560791563267,
          -23.562307445467106,
          -23.494971542039412,
          -8.03614354119822,
          -26.722693910574574,
          -14.134056926032944,
          -23.926815022397708,
          -22.983773489324182,
          -16.69234771386301,
          -22.651823142736458,
          -13.259795045510971,
          -23.07420796710509,
          -23.66592366028048,
          -23.522637333850337,
          -15.898626473231205,
          -15.784049999999949,
          -7.126863047473283,
          -23.36513677425964,
          -26.249416603484807,
          -19.996714686652414,
          -27.26833170719223,
          -7.693965772724622,
          -15.816459398432848,
          -21.380796398932468,
          -25.436305373015763,
          -16.69756008604854,
          -10.167973707651717,
          -23.65609871613328,
          -23.630339608661767,
          -29.134094971018392,
          -23.538157187344904,
          -29.1579614531996,
          -23.60064149486411,
          -28.67263888907329,
          -20.168738999999995,
          -19.001442589595648,
          -21.55158331160897,
          -23.75499219146331,
          -23.56059470107913,
          -26.79389997816152,
          -22.91808963235841,
          -15.660456834216854,
          -23.543762752697848,
          -7.775948519281004,
          -4.8664612561889955,
          -20.318727623665406,
          -5.8838522217526075,
          -23.641030288649073,
          -16.00603218075351,
          -23.2407173389252,
          -23.579437536499487,
          -23.1106912178718,
          -22.137652948733507,
          -23.54779462858564,
          -23.54472059810152,
          -23.314285739107838,
          -22.969443945680595,
          -16.69186436760148,
          -24.092809900080802,
          -0.05726833849765435,
          -26.265109103266486,
          -23.545643360562266,
          -20.650526044185415,
          -28.11340340711402,
          -6.074809833966992,
          -23.625772673685912,
          -25.496639512814564,
          -21.132181718478893,
          -23.51677547628342,
          -23.631686234808672,
          -20.10414347135316,
          -15.888067913404713,
          -26.067346700139066,
          -23.700873317203225,
          -21.416475143889446,
          -23.287171179583286,
          -25.38170558761763,
          -5.539862192941488,
          -23.588617846366557,
          -23.55921888481736,
          -29.507664860246802,
          -18.89759300894349,
          -23.444606598389978,
          -8.660403178131915,
          -15.355766652700913,
          -23.60752272300768,
          -23.671955669565392,
          -23.592114649460424,
          -11.753139849460096,
          -23.684890316406,
          -19.784458860869684,
          -23.701190510964263,
          -3.668154370316322,
          -23.544352288100818,
          -23.63854972214724,
          -22.54178723084897,
          -22.781212636657443,
          -23.582713232586972,
          -7.058226765149446,
          -18.831928260999973,
          -20.904945115824205,
          -27.39059463170797,
          -22.91817215404805,
          -19.82362001359,
          -23.289962899244088,
          -23.49930611518263,
          -19.993357105190466,
          -23.47932047821569,
          -9.400086916194251,
          -23.608485639188647,
          -22.853127687489128,
          -5.643356211079867,
          -22.66829573550117,
          -23.591590125165954,
          -22.732669998622885,
          -24.33868845099121,
          -23.5532475,
          -23.49029923175025,
          -12.286721336453994,
          -23.107125101304174,
          -10.73043098581268,
          -18.9400438185715,
          -29.924972873751372,
          -23.616809050711893,
          -12.972285687386568,
          -23.671085688874122,
          -17.82649952697736
         ],
         "lon": [
          -55.50500478445037,
          -45.04076283088891,
          -43.15390863372981,
          -49.07124915681803,
          -49.195585111835754,
          -43.25544330544172,
          -49.483027221999976,
          -48.48169610834464,
          -43.46749403427779,
          -50.426992133003644,
          -40.84113090967659,
          -43.29915700890088,
          -35.94287924999999,
          -44.396129090410156,
          -47.85554077484058,
          -46.72827406953653,
          -46.64469356993039,
          -34.979884739927556,
          -46.2545899347025,
          -41.202080288838204,
          -60.54387983147828,
          -48.651863822448824,
          -51.18339971426511,
          -67.87854100582838,
          -52.23925519419043,
          -46.7018385874257,
          -51.15942231593331,
          -48.544379916180965,
          -43.25435472559752,
          -46.716451118933534,
          -47.98156306868477,
          -37.64337910055032,
          -43.90910927638319,
          -38.46698758564443,
          -46.70857296003804,
          -45.47822983196407,
          -46.63495279239997,
          -46.575504869341046,
          -52.67199766445587,
          -50.513509940176036,
          -35.491638770567384,
          -49.296857500516516,
          -46.28994919906515,
          -48.58017075629698,
          -36.07584560487809,
          -43.381184993334905,
          -56.13152326011155,
          -46.509571932973614,
          -52.58520852502857,
          -42.75982211077224,
          -41.125194056980725,
          -43.53997700294755,
          -37.27919786468525,
          -53.75054135696947,
          -46.55420189009747,
          -39.30202825023628,
          -45.20964690756092,
          -46.52831353719199,
          -46.56272962492604,
          -48.41520342824836,
          -49.25516196840869,
          -46.59595915598129,
          -40.54883039123136,
          -44.01375087348717,
          -42.476477882353905,
          -60.66896914396475,
          -42.97773552370585,
          -50.993957814215726,
          -46.70025987316061,
          -39.33210168635785,
          -40.64361984203328,
          -34.96351270093489,
          -43.96540504455317,
          -46.330481054388656,
          -46.68985674730215,
          -46.67916193505108,
          -36.2792107956891,
          -49.06563913381275,
          -47.51516614013588,
          -46.41673534337277,
          -43.21397325437127,
          -49.26761452428946,
          -43.61283023808183,
          -39.57076956730194,
          -47.975925175101565,
          -46.641949003750895,
          -46.524738162167814,
          -47.96204116061274,
          -47.91689999999997,
          -34.93234856482459,
          -47.79675740864742,
          -49.51894766489225,
          -44.13538676325807,
          -49.71632020231945,
          -37.082525591166636,
          -47.975884199971354,
          -42.690281148988014,
          -49.350607961129185,
          -49.25528357715706,
          -48.309746606596434,
          -46.66047619667487,
          -46.74919405689882,
          -49.71361408877171,
          -46.70460176019967,
          -51.53128555361767,
          -46.51700748335158,
          -49.370307870358,
          -44.9397225,
          -57.64632942068984,
          -45.423106001655,
          -53.325134453778546,
          -46.636081836805346,
          -50.983953747474345,
          -45.443448045665356,
          -56.138293410423834,
          -46.658558012205006,
          -43.1355050705736,
          -43.36026173552128,
          -40.329342732731206,
          -35.20989521406617,
          -46.50032291286274,
          -47.995649189050766,
          -47.0615969462141,
          -46.61429131210683,
          -47.224893352761256,
          -47.44992027186614,
          -46.630237915500864,
          -46.640515568959614,
          -45.98111608881067,
          -44.30345795750833,
          -49.23501808492539,
          -46.61771698098566,
          -51.161766457128145,
          -52.78097675371193,
          -47.191173265588176,
          -50.35751823121745,
          -52.91173448935214,
          -35.235187531835855,
          -46.610893417637996,
          -49.547367485116155,
          -47.799342733891194,
          -46.33880685770057,
          -46.70327712545443,
          -44.875985263740034,
          -48.01842415326663,
          -53.05490753789092,
          -46.85349455130803,
          -45.95892648808625,
          -51.2747073388828,
          -51.44972284699726,
          -40.77498716979036,
          -46.72329516397398,
          -46.49543405453291,
          -51.176692409535505,
          -41.980826752936395,
          -46.92889473619365,
          -35.150785056757705,
          -43.6707685419961,
          -46.701681244243716,
          -46.55918083644225,
          -46.57147700805007,
          -44.91150040561368,
          -46.74896289078997,
          -43.98220329426096,
          -46.62935891035257,
          -39.240968728407246,
          -46.76962425535224,
          -46.746043391592906,
          -43.211537035293475,
          -42.52228530072781,
          -46.735634949073784,
          -35.31192083705801,
          -41.966199999999965,
          -45.12696935890207,
          -52.569643230573256,
          -43.24846764570953,
          -44.00873819816494,
          -45.96541122398862,
          -46.636382985573256,
          -44.11317224333398,
          -46.592742158895476,
          -36.14331428332059,
          -46.641619712880114,
          -43.457084581453095,
          -37.25815696663714,
          -45.00990227852153,
          -46.48646294073522,
          -43.320685248904574,
          -50.625647136017285,
          -46.38643875,
          -46.60742045129548,
          -55.298711221182,
          -48.9029979394945,
          -41.32262712484393,
          -48.34139014058442,
          -51.15166288737514,
          -46.78359824799634,
          -38.51324248620823,
          -46.77780079239999,
          -53.28352843585198
         ],
         "marker": {
          "cmax": 3000,
          "cmin": 100,
          "color": [
           1024.1799999999998,
           309.94000000000005,
           54.9,
           485.98,
           2212.5200000000004,
           2979.1599999999994,
           279.99,
           275.19,
           8942.539999999994,
           234.89000000000001,
           24.99,
           74.99,
           1989,
           114.9,
           1392.48,
           1201.47,
           2547.91,
           629,
           17.9,
           1600.8000000000002,
           149.9,
           3123.99,
           3614.230000000001,
           599,
           847.99,
           2045.62,
           2505.9,
           1564.0800000000004,
           149,
           146.07999999999998,
           1236.69,
           584.88,
           31.9,
           194.99,
           547.8,
           1362.39,
           3056.809999999999,
           53.769999999999996,
           3908.330000000001,
           380.68,
           41.98,
           900.67,
           683.48,
           351.78999999999996,
           27.99,
           969.79,
           536.47,
           76.5,
           729,
           1413.88,
           685.9,
           176.86,
           816,
           1395.26,
           138.95,
           114.15,
           282.39,
           52.99,
           341.7,
           126.28999999999999,
           254,
           116.94,
           142,
           174,
           264.98,
           792.78,
           305.8,
           449.9,
           164.38,
           23.21,
           24.99,
           49,
           162.5,
           8575.539999999995,
           1995.4900000000005,
           109.9,
           114.94,
           29.99,
           1367.3400000000001,
           1400.8,
           7201.8099999999995,
           391.30000000000007,
           229.99,
           499.99,
           54.99,
           401.6,
           1269.49,
           597.99,
           2443.92,
           143.64,
           531.78,
           1121.19,
           185.8,
           204.87,
           54.9,
           5384.0199999999995,
           1590.5500000000002,
           2960.73,
           530.86,
           1878.2000000000003,
           60.01,
           408.4599999999999,
           199,
           763.58,
           372.8,
           55.5,
           1601.2500000000002,
           480.99,
           19.9,
           199.85,
           652.05,
           1918.4700000000003,
           129,
           956.5899999999999,
           467.88,
           1477.7900000000002,
           24.9,
           602.99,
           659.09,
           579.88,
           2507.9999999999995,
           309.8,
           720.6,
           1440.81,
           1162.4499999999998,
           408.9,
           173,
           887.44,
           1673.2099999999998,
           771.1800000000001,
           431.96,
           5212.529999999999,
           199.95000000000002,
           49,
           2772.12,
           493.59000000000003,
           49.9,
           821.69,
           209,
           79,
           673.56,
           715.5699999999999,
           1240.8200000000002,
           2470.8999999999996,
           579.97,
           106.5,
           99.9,
           866.76,
           50,
           413.5,
           231.98,
           576.8,
           129.99,
           16.99,
           1297.59,
           406.65,
           215.6,
           683.49,
           367.77,
           793.28,
           24.5,
           206.89000000000001,
           85.99000000000001,
           274.48,
           1362.5200000000002,
           173.9,
           533.3,
           115.80000000000001,
           586.79,
           1399.99,
           299.99,
           264.55,
           174,
           1685.7900000000002,
           395.9,
           5146.809999999999,
           131.5,
           2169.9100000000003,
           1041.4599999999998,
           322.98,
           46.9,
           99.9,
           466.96,
           406.99,
           1343.6000000000001,
           3291.9999999999995,
           461.99,
           484.63,
           253.77,
           42.9,
           1426.89,
           262.79,
           525.6,
           99.9,
           3130.3700000000003,
           153.87,
           1460.6699999999998,
           807.99,
           777.7,
           750.88
          ],
          "colorscale": [
           [
            0,
            "blue"
           ],
           [
            1,
            "red"
           ]
          ],
          "showscale": true,
          "size": 2
         },
         "type": "scattermapbox"
        }
       ],
       "layout": {
        "mapbox": {
         "accesstoken": "pk.eyJ1IjoiaG9vbmtlbmc5MyIsImEiOiJjam43cGhpNng2ZmpxM3JxY3Z4ODl2NWo3In0.SGRvJlToMtgRxw9ZWzPFrA",
         "bearing": 10,
         "center": {
          "lat": -23.5,
          "lon": -46.6
         },
         "pitch": 0,
         "zoom": 2
        },
        "showlegend": false,
        "title": "Cumulative revenue"
       }
      },
      "text/html": "<div>                            <div id=\"fec0c794-b7a8-422a-af5c-142582a74c02\" class=\"plotly-graph-div\" style=\"height:525px; width:100%;\"></div>            <script type=\"text/javascript\">                require([\"plotly\"], function(Plotly) {                    window.PLOTLYENV=window.PLOTLYENV || {};                                    if (document.getElementById(\"fec0c794-b7a8-422a-af5c-142582a74c02\")) {                    Plotly.newPlot(                        \"fec0c794-b7a8-422a-af5c-142582a74c02\",                        [{\"lat\": [-11.889052755435287, -22.05835094462375, -22.12909332792686, -26.478513860378662, -25.541843919239387, -22.879863251457092, -16.666663196999934, -1.2977289117375712, -23.01958058338634, -21.210947959396147, -14.839949790980462, -22.869045238683423, -8.456719499999995, -22.44927698621422, -23.348381670584, -23.443235916729225, -23.578333607611977, -8.246243967809106, -16.060878632909873, -20.605973067551414, -13.494083841041132, -26.922225453062673, -29.92132755063776, -9.946639927837722, -3.2132263696359384, -23.605824845951943, -30.011537158605265, -20.575712514570952, -18.96804255142553, -23.736214414651762, -19.76726925320108, -8.086187843021479, -19.934949647548226, -12.987924875996914, -23.69364132361936, -22.93929182584237, -23.597426126839395, -23.46930257655191, -26.226068387623513, -21.929833622479467, -9.245358441780713, -25.659959734219342, -23.55793262629253, -22.312738251136132, -5.973661229262477, -22.85334950181767, -15.59084396725364, -23.5265852828207, -29.086770290434675, -5.064544762664774, -20.87227653454905, -22.774673553038053, -7.029562264171232, -24.73530738190189, -23.609275218708515, -7.215384775225957, -22.803813500281233, -23.590957547319537, -23.48376080274701, -20.689140957101, -16.716265976201502, -23.455850605603338, -9.362301362458028, -19.966989332283205, -21.51379391352356, 2.858597532256614, -22.400805952581145, -26.781657403258844, -23.76162763835192, -10.436876668697163, -19.541288342033294, -8.132040000000002, -21.438072000000005, -23.948560791563267, -23.562307445467106, -23.494971542039412, -8.03614354119822, -26.722693910574574, -14.134056926032944, -23.926815022397708, -22.983773489324182, -16.69234771386301, -22.651823142736458, -13.259795045510971, -23.07420796710509, -23.66592366028048, -23.522637333850337, -15.898626473231205, -15.784049999999949, -7.126863047473283, -23.36513677425964, -26.249416603484807, -19.996714686652414, -27.26833170719223, -7.693965772724622, -15.816459398432848, -21.380796398932468, -25.436305373015763, -16.69756008604854, -10.167973707651717, -23.65609871613328, -23.630339608661767, -29.134094971018392, -23.538157187344904, -29.1579614531996, -23.60064149486411, -28.67263888907329, -20.168738999999995, -19.001442589595648, -21.55158331160897, -23.75499219146331, -23.56059470107913, -26.79389997816152, -22.91808963235841, -15.660456834216854, -23.543762752697848, -7.775948519281004, -4.8664612561889955, -20.318727623665406, -5.8838522217526075, -23.641030288649073, -16.00603218075351, -23.2407173389252, -23.579437536499487, -23.1106912178718, -22.137652948733507, -23.54779462858564, -23.54472059810152, -23.314285739107838, -22.969443945680595, -16.69186436760148, -24.092809900080802, -0.05726833849765435, -26.265109103266486, -23.545643360562266, -20.650526044185415, -28.11340340711402, -6.074809833966992, -23.625772673685912, -25.496639512814564, -21.132181718478893, -23.51677547628342, -23.631686234808672, -20.10414347135316, -15.888067913404713, -26.067346700139066, -23.700873317203225, -21.416475143889446, -23.287171179583286, -25.38170558761763, -5.539862192941488, -23.588617846366557, -23.55921888481736, -29.507664860246802, -18.89759300894349, -23.444606598389978, -8.660403178131915, -15.355766652700913, -23.60752272300768, -23.671955669565392, -23.592114649460424, -11.753139849460096, -23.684890316406, -19.784458860869684, -23.701190510964263, -3.668154370316322, -23.544352288100818, -23.63854972214724, -22.54178723084897, -22.781212636657443, -23.582713232586972, -7.058226765149446, -18.831928260999973, -20.904945115824205, -27.39059463170797, -22.91817215404805, -19.82362001359, -23.289962899244088, -23.49930611518263, -19.993357105190466, -23.47932047821569, -9.400086916194251, -23.608485639188647, -22.853127687489128, -5.643356211079867, -22.66829573550117, -23.591590125165954, -22.732669998622885, -24.33868845099121, -23.5532475, -23.49029923175025, -12.286721336453994, -23.107125101304174, -10.73043098581268, -18.9400438185715, -29.924972873751372, -23.616809050711893, -12.972285687386568, -23.671085688874122, -17.82649952697736], \"lon\": [-55.50500478445037, -45.04076283088891, -43.15390863372981, -49.07124915681803, -49.195585111835754, -43.25544330544172, -49.483027221999976, -48.48169610834464, -43.46749403427779, -50.426992133003644, -40.84113090967659, -43.29915700890088, -35.94287924999999, -44.396129090410156, -47.85554077484058, -46.72827406953653, -46.64469356993039, -34.979884739927556, -46.2545899347025, -41.202080288838204, -60.54387983147828, -48.651863822448824, -51.18339971426511, -67.87854100582838, -52.23925519419043, -46.7018385874257, -51.15942231593331, -48.544379916180965, -43.25435472559752, -46.716451118933534, -47.98156306868477, -37.64337910055032, -43.90910927638319, -38.46698758564443, -46.70857296003804, -45.47822983196407, -46.63495279239997, -46.575504869341046, -52.67199766445587, -50.513509940176036, -35.491638770567384, -49.296857500516516, -46.28994919906515, -48.58017075629698, -36.07584560487809, -43.381184993334905, -56.13152326011155, -46.509571932973614, -52.58520852502857, -42.75982211077224, -41.125194056980725, -43.53997700294755, -37.27919786468525, -53.75054135696947, -46.55420189009747, -39.30202825023628, -45.20964690756092, -46.52831353719199, -46.56272962492604, -48.41520342824836, -49.25516196840869, -46.59595915598129, -40.54883039123136, -44.01375087348717, -42.476477882353905, -60.66896914396475, -42.97773552370585, -50.993957814215726, -46.70025987316061, -39.33210168635785, -40.64361984203328, -34.96351270093489, -43.96540504455317, -46.330481054388656, -46.68985674730215, -46.67916193505108, -36.2792107956891, -49.06563913381275, -47.51516614013588, -46.41673534337277, -43.21397325437127, -49.26761452428946, -43.61283023808183, -39.57076956730194, -47.975925175101565, -46.641949003750895, -46.524738162167814, -47.96204116061274, -47.91689999999997, -34.93234856482459, -47.79675740864742, -49.51894766489225, -44.13538676325807, -49.71632020231945, -37.082525591166636, -47.975884199971354, -42.690281148988014, -49.350607961129185, -49.25528357715706, -48.309746606596434, -46.66047619667487, -46.74919405689882, -49.71361408877171, -46.70460176019967, -51.53128555361767, -46.51700748335158, -49.370307870358, -44.9397225, -57.64632942068984, -45.423106001655, -53.325134453778546, -46.636081836805346, -50.983953747474345, -45.443448045665356, -56.138293410423834, -46.658558012205006, -43.1355050705736, -43.36026173552128, -40.329342732731206, -35.20989521406617, -46.50032291286274, -47.995649189050766, -47.0615969462141, -46.61429131210683, -47.224893352761256, -47.44992027186614, -46.630237915500864, -46.640515568959614, -45.98111608881067, -44.30345795750833, -49.23501808492539, -46.61771698098566, -51.161766457128145, -52.78097675371193, -47.191173265588176, -50.35751823121745, -52.91173448935214, -35.235187531835855, -46.610893417637996, -49.547367485116155, -47.799342733891194, -46.33880685770057, -46.70327712545443, -44.875985263740034, -48.01842415326663, -53.05490753789092, -46.85349455130803, -45.95892648808625, -51.2747073388828, -51.44972284699726, -40.77498716979036, -46.72329516397398, -46.49543405453291, -51.176692409535505, -41.980826752936395, -46.92889473619365, -35.150785056757705, -43.6707685419961, -46.701681244243716, -46.55918083644225, -46.57147700805007, -44.91150040561368, -46.74896289078997, -43.98220329426096, -46.62935891035257, -39.240968728407246, -46.76962425535224, -46.746043391592906, -43.211537035293475, -42.52228530072781, -46.735634949073784, -35.31192083705801, -41.966199999999965, -45.12696935890207, -52.569643230573256, -43.24846764570953, -44.00873819816494, -45.96541122398862, -46.636382985573256, -44.11317224333398, -46.592742158895476, -36.14331428332059, -46.641619712880114, -43.457084581453095, -37.25815696663714, -45.00990227852153, -46.48646294073522, -43.320685248904574, -50.625647136017285, -46.38643875, -46.60742045129548, -55.298711221182, -48.9029979394945, -41.32262712484393, -48.34139014058442, -51.15166288737514, -46.78359824799634, -38.51324248620823, -46.77780079239999, -53.28352843585198], \"marker\": {\"cmax\": 3000, \"cmin\": 100, \"color\": [1024.1799999999998, 309.94000000000005, 54.9, 485.98, 2212.5200000000004, 2979.1599999999994, 279.99, 275.19, 8942.539999999994, 234.89000000000001, 24.99, 74.99, 1989.0, 114.9, 1392.48, 1201.47, 2547.91, 629.0, 17.9, 1600.8000000000002, 149.9, 3123.99, 3614.230000000001, 599.0, 847.99, 2045.62, 2505.9, 1564.0800000000004, 149.0, 146.07999999999998, 1236.69, 584.88, 31.9, 194.99, 547.8, 1362.39, 3056.809999999999, 53.769999999999996, 3908.330000000001, 380.68, 41.98, 900.67, 683.48, 351.78999999999996, 27.99, 969.79, 536.47, 76.5, 729.0, 1413.88, 685.9, 176.86, 816.0, 1395.26, 138.95, 114.15, 282.39, 52.99, 341.7, 126.28999999999999, 254.0, 116.94, 142.0, 174.0, 264.98, 792.78, 305.8, 449.9, 164.38, 23.21, 24.99, 49.0, 162.5, 8575.539999999995, 1995.4900000000005, 109.9, 114.94, 29.99, 1367.3400000000001, 1400.8, 7201.8099999999995, 391.30000000000007, 229.99, 499.99, 54.99, 401.6, 1269.49, 597.99, 2443.92, 143.64, 531.78, 1121.19, 185.8, 204.87, 54.9, 5384.0199999999995, 1590.5500000000002, 2960.73, 530.86, 1878.2000000000003, 60.01, 408.4599999999999, 199.0, 763.58, 372.8, 55.5, 1601.2500000000002, 480.99, 19.9, 199.85, 652.05, 1918.4700000000003, 129.0, 956.5899999999999, 467.88, 1477.7900000000002, 24.9, 602.99, 659.09, 579.88, 2507.9999999999995, 309.8, 720.6, 1440.81, 1162.4499999999998, 408.9, 173.0, 887.44, 1673.2099999999998, 771.1800000000001, 431.96, 5212.529999999999, 199.95000000000002, 49.0, 2772.12, 493.59000000000003, 49.9, 821.69, 209.0, 79.0, 673.56, 715.5699999999999, 1240.8200000000002, 2470.8999999999996, 579.97, 106.5, 99.9, 866.76, 50.0, 413.5, 231.98, 576.8, 129.99, 16.99, 1297.59, 406.65, 215.6, 683.49, 367.77, 793.28, 24.5, 206.89000000000001, 85.99000000000001, 274.48, 1362.5200000000002, 173.9, 533.3, 115.80000000000001, 586.79, 1399.99, 299.99, 264.55, 174.0, 1685.7900000000002, 395.9, 5146.809999999999, 131.5, 2169.9100000000003, 1041.4599999999998, 322.98, 46.9, 99.9, 466.96, 406.99, 1343.6000000000001, 3291.9999999999995, 461.99, 484.63, 253.77, 42.9, 1426.89, 262.79, 525.6, 99.9, 3130.3700000000003, 153.87, 1460.6699999999998, 807.99, 777.7, 750.88], \"colorscale\": [[0, \"blue\"], [1, \"red\"]], \"showscale\": true, \"size\": 2}, \"type\": \"scattermapbox\"}],                        {\"mapbox\": {\"accesstoken\": \"pk.eyJ1IjoiaG9vbmtlbmc5MyIsImEiOiJjam43cGhpNng2ZmpxM3JxY3Z4ODl2NWo3In0.SGRvJlToMtgRxw9ZWzPFrA\", \"bearing\": 10, \"center\": {\"lat\": -23.5, \"lon\": -46.6}, \"pitch\": 0, \"zoom\": 2}, \"showlegend\": false, \"title\": \"Cumulative revenue\"},                        {\"responsive\": true}                    ).then(function(){\n                            \nvar gd = document.getElementById('fec0c794-b7a8-422a-af5c-142582a74c02');\nvar x = new MutationObserver(function (mutations, observer) {{\n        var display = window.getComputedStyle(gd).display;\n        if (!display || display === 'none') {{\n            console.log([gd, 'removed!']);\n            Plotly.purge(gd);\n            observer.disconnect();\n        }}\n}});\n\n// Listen for the removal of the full notebook cells\nvar notebookContainer = gd.closest('#notebook-container');\nif (notebookContainer) {{\n    x.observe(notebookContainer, {childList: true});\n}}\n\n// Listen for the clearing of the current output cell\nvar outputEl = gd.closest('.output');\nif (outputEl) {{\n    x.observe(outputEl, {childList: true});\n}}\n\n                        })                };                });            </script>        </div>"
     },
     "metadata": {},
     "output_type": "display_data"
    }
   ],
   "source": [
    "Olist_analysis.plot_map(sample_renenue, 'Cumulative revenue',100 , 3000, 'total_payment', 2, False)"
   ]
  },
  {
   "cell_type": "markdown",
   "metadata": {},
   "source": [
    "The chart shows that there is some clustering between higher revenue and lower revenue areas, especially if setting the lower bound threshold higher. In neighborhoods of \"Campinas\" mostly higher total values while in the suburbs \"Vila Amelia\", \"Brasilandia\" and \"Limao District\" mostly lower values dominate. Rio de Janeiro, especially around the waterfront is mostly blue, while the north-western suburbs are mainly red.\r\n",
    "\r\n",
    "We need to be careful with the interpretation here:\r\n",
    "\r\n",
    "- As seen in the EDA section, some zip codes have more customers assigned, so a high total value can be an effect of a big group size\r\n",
    "\r\n",
    "As a refresher, a box chart to display the statistical distribution of the group sizes:"
   ]
  },
  {
   "cell_type": "code",
   "execution_count": 77,
   "metadata": {},
   "outputs": [
    {
     "data": {
      "image/png": "[encoded data removed]",
      "text/plain": "<Figure size 1080x144 with 1 Axes>"
     },
     "metadata": {
      "needs_background": "light"
     },
     "output_type": "display_data"
    }
   ],
   "source": [
    "plt.figure(figsize=(15, 2))\r\n",
    "sns.boxplot(data=df_segmented_customers.groupby('geolocation_zip_code_prefix').agg({'total_payment': 'count'}), orient='h')\r\n",
    "\r\n",
    "plt.xlabel('Group size')\r\n",
    "plt.title('Zip code group sizes');"
   ]
  },
  {
   "cell_type": "code",
   "execution_count": null,
   "metadata": {},
   "outputs": [],
   "source": []
  }
 ],
 "metadata": {
  "kernelspec": {
   "display_name": "Python 3.7.6 64-bit ('base': conda)",
   "name": "python376jvsc74a57bd0030847d411e36e540a334fb57dfac4e8fa9ee3ff53a789bd52207a333d67df0a"
  },
  "language_info": {
   "codemirror_mode": {
    "name": "ipython",
    "version": 3
   },
   "file_extension": ".py",
   "mimetype": "text/x-python",
   "name": "python",
   "nbconvert_exporter": "python",
   "pygments_lexer": "ipython3",
   "version": "3.7.6"
  },
  "orig_nbformat": 2
 },
 "nbformat": 4,
 "nbformat_minor": 2
}