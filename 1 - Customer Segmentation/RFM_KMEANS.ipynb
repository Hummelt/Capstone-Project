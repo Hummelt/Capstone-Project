{
 "cells": [
  {
   "cell_type": "markdown",
   "metadata": {},
   "source": [
    "# RFM Analysis & K-Means Clustering\r\n",
    "\r\n",
    "## Questions to answer\r\n",
    "\r\n",
    "1. Strategy to target specific customer segments\r\n",
    "2. Evaluation of RFM analysis: Can we see segmentation from a different angle?\r\n",
    "\r\n",
    "\r\n",
    "## Table of Contents\r\n",
    "- Data Import and Wrangling\r\n",
    "- Exploratory Analysis\r\n",
    "- RFM Analysis\r\n",
    "- K Means Clustering"
   ]
  },
  {
   "cell_type": "markdown",
   "metadata": {},
   "source": [
    "# I. Data Import and Wrangling\r\n",
    "\r\n",
    "1. Libraries"
   ]
  },
  {
   "cell_type": "code",
   "execution_count": 27,
   "metadata": {},
   "outputs": [
    {
     "ename": "SyntaxError",
     "evalue": "invalid syntax (<ipython-input-27-5b3dc1d56089>, line 15)",
     "output_type": "error",
     "traceback": [
      "\u001b[1;36m  File \u001b[1;32m\"<ipython-input-27-5b3dc1d56089>\"\u001b[1;36m, line \u001b[1;32m15\u001b[0m\n\u001b[1;33m    pip install pywaffle\u001b[0m\n\u001b[1;37m              ^\u001b[0m\n\u001b[1;31mSyntaxError\u001b[0m\u001b[1;31m:\u001b[0m invalid syntax\n"
     ]
    }
   ],
   "source": [
    "import pandas as pd\r\n",
    "import numpy as np\r\n",
    "\r\n",
    "import matplotlib.pyplot as plt\r\n",
    "import seaborn as sns\r\n",
    "\r\n",
    "from sklearn.preprocessing import StandardScaler\r\n",
    "from sklearn.cluster import KMeans\r\n",
    "\r\n",
    "import plotly as py\r\n",
    "import plotly.offline as offline\r\n",
    "import plotly.graph_objs as go\r\n",
    "from plotly.offline import download_plotlyjs, init_notebook_mode, plot, iplot\r\n",
    "\r\n",
    "import matplotlib.pyplot as plt\r\n",
    "from pywaffle import Waffle\r\n",
    "\r\n",
    "init_notebook_mode(connected=True)\r\n",
    "%matplotlib inline"
   ]
  },
  {
   "cell_type": "code",
   "execution_count": 29,
   "metadata": {},
   "outputs": [],
   "source": []
  },
  {
   "cell_type": "markdown",
   "metadata": {},
   "source": [
    "## Olist Classes Function"
   ]
  },
  {
   "cell_type": "code",
   "execution_count": 3,
   "metadata": {},
   "outputs": [],
   "source": [
    "class Olist_analysis():\r\n",
    "\r\n",
    "    def __init__(self):\r\n",
    "\r\n",
    "        print('Olist analysis class initialized')\r\n",
    "\r\n",
    "    def convert_to_dt(dat, cols):\r\n",
    "        '''\r\n",
    "        Function takes in a dataframe name and date\r\n",
    "        columns for conversion into datetime format\r\n",
    "        Input:\r\n",
    "        - Dataframe\r\n",
    "        Output:\r\n",
    "        - None (Converts the format of the column into datetime)\r\n",
    "        '''\r\n",
    "        for col in cols:\r\n",
    "            dat[col] = pd.to_datetime(dat[col]).dt.date\r\n",
    "\r\n",
    "    def plot_waffle_chart(dat, metric, agg, title_txt, group='sub_segment'):\r\n",
    "        '''\r\n",
    "        Funtion to create a waffle chart. The visualization shows how the\r\n",
    "        customer sub-segments are distributed according defined metrics.\r\n",
    "        Input:\r\n",
    "        - dat - dataframe\r\n",
    "        - metric - feature/ kpi metric to visualize\r\n",
    "        - agg - method to aggregate\r\n",
    "        - title_txt - text to display as chart title\r\n",
    "        Outout:\r\n",
    "        - waffle chart\r\n",
    "        '''\r\n",
    "        data_revenue = dict(round(\r\n",
    "            dat.groupby(group).agg({metric: agg}))[metric])\r\n",
    "\r\n",
    "        plt.figure(\r\n",
    "            FigureClass=Waffle,\r\n",
    "            rows=5,\r\n",
    "            columns=10,\r\n",
    "            values=data_revenue,\r\n",
    "            labels=[f\"{k, v}\" for k, v in data_revenue.items()],\r\n",
    "            legend={'loc': 'lower left', 'bbox_to_anchor': (1, 0)},\r\n",
    "            figsize=(8, 5)\r\n",
    "            )\r\n",
    "\r\n",
    "        plt.title(title_txt)\r\n",
    "\r\n",
    "    def plot_map(\r\n",
    "                df,\r\n",
    "                title,\r\n",
    "                lower_bound,\r\n",
    "                upper_bound,\r\n",
    "                metric,\r\n",
    "                maker_size=3,\r\n",
    "                sub_segment_y_n=False\r\n",
    "                ):\r\n",
    "        '''\r\n",
    "        Funtion for geographic data visualization of demographic metrics.\r\n",
    "        Input:\r\n",
    "        - df - dataframe with target feature\r\n",
    "            (metric; color-code field needed if sub_segment to visualize\r\n",
    "        - title - text to display as chart title\r\n",
    "        - lower_bound - lower threshold for color scale\r\n",
    "        - upper_bound - upper threshold for color scale\r\n",
    "        - metric - feature/ kpi metric to visualize\r\n",
    "        - sub_sement_y_n - boolean,\r\n",
    "            if \"True\": sub-segment will be visualized with color-code,\r\n",
    "            if no, color acording value\r\n",
    "        - marker_size - size of the marker\r\n",
    "        Outout:\r\n",
    "        - geographic data visualization\r\n",
    "        '''\r\n",
    "\r\n",
    "        if sub_segment_y_n is True:\r\n",
    "            dict_marker = dict(\r\n",
    "                size=maker_size,\r\n",
    "                color=df.color,\r\n",
    "                )\r\n",
    "        else:\r\n",
    "            dict_marker = dict(\r\n",
    "                size=maker_size,\r\n",
    "                color=df[metric],\r\n",
    "                showscale=True,\r\n",
    "                colorscale=[[0, 'blue'],\r\n",
    "                            [1, 'red']],\r\n",
    "                cmin=lower_bound,\r\n",
    "                cmax=upper_bound\r\n",
    "                )\r\n",
    "\r\n",
    "        data_geo = [go.Scattermapbox(\r\n",
    "            lon=df['geolocation_lng'],\r\n",
    "            lat=df['geolocation_lat'],\r\n",
    "            marker=dict_marker\r\n",
    "            )]\r\n",
    "\r\n",
    "        layout = dict(\r\n",
    "                title=title,\r\n",
    "                showlegend=False,\r\n",
    "                mapbox=dict(\r\n",
    "                    accesstoken='pk.eyJ1IjoiaG9vbmtlbmc5MyIsImEiOiJjam43cGhpNng2ZmpxM3JxY3Z4ODl2NWo3In0.SGRvJlToMtgRxw9ZWzPFrA',\r\n",
    "                    center=dict(lat=-23.5, lon=-46.6),\r\n",
    "                    bearing=10,\r\n",
    "                    pitch=0,\r\n",
    "                    zoom=2,\r\n",
    "                )\r\n",
    "            )\r\n",
    "        fig = dict(data=data_geo, layout=layout)\r\n",
    "        iplot(fig, validate=False)"
   ]
  },
  {
   "cell_type": "markdown",
   "metadata": {},
   "source": [
    "## 2. Data Import"
   ]
  },
  {
   "cell_type": "code",
   "execution_count": 5,
   "metadata": {},
   "outputs": [],
   "source": [
    "# Import data table from \"Customer Segmentation\" analysis\r\n",
    "df_segmented_customers = pd.read_csv('../0 - Data/segmented_customers.csv')"
   ]
  },
  {
   "cell_type": "code",
   "execution_count": 6,
   "metadata": {},
   "outputs": [
    {
     "data": {
      "text/html": "<div>\n<style scoped>\n    .dataframe tbody tr th:only-of-type {\n        vertical-align: middle;\n    }\n\n    .dataframe tbody tr th {\n        vertical-align: top;\n    }\n\n    .dataframe thead th {\n        text-align: right;\n    }\n</style>\n<table border=\"1\" class=\"dataframe\">\n  <thead>\n    <tr style=\"text-align: right;\">\n      <th></th>\n      <th>customer_id</th>\n      <th>recency</th>\n      <th>days_since_first_order</th>\n      <th>frequency</th>\n      <th>total_payment</th>\n      <th>avg_payment</th>\n      <th>segment</th>\n      <th>sub_segment</th>\n      <th>geolocation_zip_code_prefix</th>\n      <th>geolocation_lat</th>\n      <th>geolocation_lng</th>\n      <th>color</th>\n    </tr>\n  </thead>\n  <tbody>\n    <tr>\n      <th>0</th>\n      <td>00012a2ce6f8dcda20d059ce98491703</td>\n      <td>288</td>\n      <td>288</td>\n      <td>1</td>\n      <td>89.80</td>\n      <td>89.80</td>\n      <td>hot</td>\n      <td>hot_high</td>\n      <td>6273</td>\n      <td>-23.494625</td>\n      <td>-46.766730</td>\n      <td>magenta</td>\n    </tr>\n    <tr>\n      <th>1</th>\n      <td>000161a058600d5901f007fab4c27140</td>\n      <td>409</td>\n      <td>409</td>\n      <td>1</td>\n      <td>54.90</td>\n      <td>54.90</td>\n      <td>cold</td>\n      <td>cold_low</td>\n      <td>35550</td>\n      <td>-20.472648</td>\n      <td>-45.117984</td>\n      <td>blue</td>\n    </tr>\n    <tr>\n      <th>2</th>\n      <td>0001fd6190edaaf884bcaf3d49edf079</td>\n      <td>547</td>\n      <td>547</td>\n      <td>1</td>\n      <td>179.99</td>\n      <td>179.99</td>\n      <td>inactive</td>\n      <td>inactive</td>\n      <td>29830</td>\n      <td>-18.702490</td>\n      <td>-40.390020</td>\n      <td>midnightblue</td>\n    </tr>\n    <tr>\n      <th>3</th>\n      <td>0002414f95344307404f0ace7a26f1d5</td>\n      <td>378</td>\n      <td>378</td>\n      <td>1</td>\n      <td>149.90</td>\n      <td>149.90</td>\n      <td>cold</td>\n      <td>cold_high</td>\n      <td>39664</td>\n      <td>-21.770599</td>\n      <td>-43.355230</td>\n      <td>mediumslateblue</td>\n    </tr>\n    <tr>\n      <th>4</th>\n      <td>000379cdec625522490c315e70c7a9fb</td>\n      <td>149</td>\n      <td>149</td>\n      <td>1</td>\n      <td>93.00</td>\n      <td>93.00</td>\n      <td>active</td>\n      <td>active_high</td>\n      <td>4841</td>\n      <td>-23.737135</td>\n      <td>-46.689007</td>\n      <td>red</td>\n    </tr>\n  </tbody>\n</table>\n</div>",
      "text/plain": "                        customer_id  recency  days_since_first_order  \\\n0  00012a2ce6f8dcda20d059ce98491703      288                     288   \n1  000161a058600d5901f007fab4c27140      409                     409   \n2  0001fd6190edaaf884bcaf3d49edf079      547                     547   \n3  0002414f95344307404f0ace7a26f1d5      378                     378   \n4  000379cdec625522490c315e70c7a9fb      149                     149   \n\n   frequency  total_payment  avg_payment   segment  sub_segment  \\\n0          1          89.80        89.80       hot     hot_high   \n1          1          54.90        54.90      cold     cold_low   \n2          1         179.99       179.99  inactive     inactive   \n3          1         149.90       149.90      cold    cold_high   \n4          1          93.00        93.00    active  active_high   \n\n   geolocation_zip_code_prefix  geolocation_lat  geolocation_lng  \\\n0                         6273       -23.494625       -46.766730   \n1                        35550       -20.472648       -45.117984   \n2                        29830       -18.702490       -40.390020   \n3                        39664       -21.770599       -43.355230   \n4                         4841       -23.737135       -46.689007   \n\n             color  \n0          magenta  \n1             blue  \n2     midnightblue  \n3  mediumslateblue  \n4              red  "
     },
     "execution_count": 6,
     "metadata": {},
     "output_type": "execute_result"
    }
   ],
   "source": [
    "df_segmented_customers.drop('Unnamed: 0', axis=1, inplace=True)\r\n",
    "df_segmented_customers.head()"
   ]
  },
  {
   "cell_type": "code",
   "execution_count": 7,
   "metadata": {},
   "outputs": [
    {
     "name": "stdout",
     "output_type": "stream",
     "text": [
      "<class 'pandas.core.frame.DataFrame'>\n",
      "RangeIndex: 96478 entries, 0 to 96477\n",
      "Data columns (total 12 columns):\n",
      " #   Column                       Non-Null Count  Dtype  \n",
      "---  ------                       --------------  -----  \n",
      " 0   customer_id                  96478 non-null  object \n",
      " 1   recency                      96478 non-null  int64  \n",
      " 2   days_since_first_order       96478 non-null  int64  \n",
      " 3   frequency                    96478 non-null  int64  \n",
      " 4   total_payment                96478 non-null  float64\n",
      " 5   avg_payment                  96478 non-null  float64\n",
      " 6   segment                      96478 non-null  object \n",
      " 7   sub_segment                  96478 non-null  object \n",
      " 8   geolocation_zip_code_prefix  96478 non-null  int64  \n",
      " 9   geolocation_lat              96214 non-null  float64\n",
      " 10  geolocation_lng              96214 non-null  float64\n",
      " 11  color                        96478 non-null  object \n",
      "dtypes: float64(4), int64(4), object(4)\n",
      "memory usage: 8.8+ MB\n"
     ]
    }
   ],
   "source": [
    "df_segmented_customers.info()"
   ]
  },
  {
   "cell_type": "code",
   "execution_count": 9,
   "metadata": {},
   "outputs": [],
   "source": [
    "# Create work copy\r\n",
    "df_rfm = df_segmented_customers[[\r\n",
    "    'customer_id',\r\n",
    "    'recency',\r\n",
    "    'frequency',\r\n",
    "    'total_payment',\r\n",
    "    'avg_payment',\r\n",
    "    'geolocation_zip_code_prefix',\r\n",
    "    'geolocation_lat',\r\n",
    "    'geolocation_lng'\r\n",
    "    ]].copy()"
   ]
  },
  {
   "cell_type": "markdown",
   "metadata": {},
   "source": [
    "# II. Exploratory Data Analysis\r\n",
    "The focus is on getting an understanding about the customers buying habits and their locations."
   ]
  },
  {
   "cell_type": "code",
   "execution_count": 10,
   "metadata": {},
   "outputs": [],
   "source": [
    "def rfm_iso_scatter(dat, x, y, z):\r\n",
    "\r\n",
    "    '''\r\n",
    "    Function to generate a 3D scatter plot\r\n",
    "\r\n",
    "    Input:\r\n",
    "    - dat - dataframe\r\n",
    "    - x, y, z - 3 features for the three coordinates\r\n",
    "\r\n",
    "    Output:\r\n",
    "    - None (interactive 3D scatter plot)\r\n",
    "    '''\r\n",
    "    x = dat[x]\r\n",
    "    y = dat[dat[y]<5][y]\r\n",
    "    z = dat[dat[z]<4000][z]\r\n",
    "\r\n",
    "\r\n",
    "    fig = go.Figure(data=[go.Scatter3d(\r\n",
    "        x=x,\r\n",
    "        y=y,\r\n",
    "        z=z,\r\n",
    "        mode='markers',\r\n",
    "        marker=dict(\r\n",
    "            size=1,\r\n",
    "            color=y,               \r\n",
    "            colorscale='thermal',\r\n",
    "            opacity=0.8\r\n",
    "        )\r\n",
    "    )])\r\n",
    "\r\n",
    "    fig.update_layout(scene = dict(\r\n",
    "        xaxis_title='Recency',\r\n",
    "        yaxis_title='Frequency',\r\n",
    "        zaxis_title='Monetary'),\r\n",
    "        width=700,\r\n",
    "        margin=dict(r=20, b=10, l=10, t=10))\r\n",
    "\r\n",
    "    fig.update_layout(margin=dict(l=0, r=0, b=0, t=0))\r\n",
    "    fig.show()"
   ]
  },
  {
   "cell_type": "code",
   "execution_count": 11,
   "metadata": {},
   "outputs": [],
   "source": [
    "# Generate 3d scatter of rfm, trying to spot clustering\r\n",
    "# Deactivated for file size reduction (activate for plot)\r\n",
    "\r\n",
    "#rfm_iso_scatter(df_segmented_customers, 'recency', 'frequency', 'total_payment')"
   ]
  },
  {
   "cell_type": "markdown",
   "metadata": {},
   "source": [
    "# Conclusion\r\n",
    "By printing a 3d scatter plot for the three features (Recency, Frequency, Monetary) a clearly visible clustering can not be seen.\r\n",
    "\r\n",
    "# III. RFM Analysis\r\n",
    "The RFM analysis segments customers based on three metrics:\r\n",
    "\r\n",
    "- Recency\r\n",
    "- Frequency\r\n",
    "- Monetary\r\n",
    "\r\n",
    "## Question to answer:\r\n",
    "\r\n",
    "- How does RFM modeling impact the picture?\r\n",
    "- What conclusions can we draw?\r\n",
    "\r\n",
    "# Generating the dataframe\r\n",
    "All the information we need is already existing in the dataframe we prepared for the customer segmentation (df_segmented_customers), so we can skip this step.\r\n",
    "\r\n",
    "# Recency"
   ]
  },
  {
   "cell_type": "code",
   "execution_count": 12,
   "metadata": {},
   "outputs": [
    {
     "data": {
      "image/png": "[encoded data removed]",
      "text/plain": "<Figure size 1080x216 with 1 Axes>"
     },
     "metadata": {
      "needs_background": "light"
     },
     "output_type": "display_data"
    }
   ],
   "source": [
    "plt.figure(figsize=(15, 3))\r\n",
    "sns.distplot(df_rfm['recency'])\r\n",
    "\r\n",
    "plt.xlabel('Days since last order')\r\n",
    "plt.title('Recency');"
   ]
  },
  {
   "cell_type": "markdown",
   "metadata": {},
   "source": [
    "\r\n",
    "This chart makes sense because we see that there is the spike at round about 270 days before the reference day. That falls in the time period of the heavy Black Friday sales event where a lot of customers placed their latest order.\r\n",
    "\r\n",
    "# Frequency"
   ]
  },
  {
   "cell_type": "code",
   "execution_count": 13,
   "metadata": {},
   "outputs": [
    {
     "data": {
      "image/png": "[encoded data removed]",
      "text/plain": "<Figure size 1080x216 with 1 Axes>"
     },
     "metadata": {
      "needs_background": "light"
     },
     "output_type": "display_data"
    }
   ],
   "source": [
    "plt.figure(figsize=(15, 3))\r\n",
    "sns.distplot(df_rfm['frequency'], kde=False);\r\n",
    "\r\n",
    "plt.xlabel('Number of orders')\r\n",
    "plt.title('Frequency');"
   ]
  },
  {
   "cell_type": "markdown",
   "metadata": {},
   "source": [
    "We have seen this chart before. There are many customers which only placed one order. As hinted in the initial \"Olist Business Trend Analysi\", the error which many will likely get trapped is by simply applying count of order_id during grouping by customer_unique_id. Reason why this leads to a wrong result:\r\n",
    "\r\n",
    "- Quantity in the original order table is created by number of rows (order quantity = 4 means 4 rows of data)\r\n",
    "- Two SKUs (products) means two separate rows in the data table\r\n",
    "\r\n",
    "=> If we group by user \"X\" whose order contains procuct \"A\" with quantity 2 and procuct \"B\" with quantity 1, we will get 3 as count for this customer while in reality only one single order was placed.\r\n",
    "\r\n",
    "# Monetary"
   ]
  },
  {
   "cell_type": "code",
   "execution_count": 15,
   "metadata": {},
   "outputs": [
    {
     "data": {
      "image/png": "[encoded data removed]",
      "text/plain": "<Figure size 1080x216 with 1 Axes>"
     },
     "metadata": {
      "needs_background": "light"
     },
     "output_type": "display_data"
    }
   ],
   "source": [
    "plt.figure(figsize=(15, 3))\r\n",
    "sns.distplot(df_rfm['total_payment']);\r\n",
    "\r\n",
    "plt.xlabel('Total purchase value')\r\n",
    "plt.title('Monetary');"
   ]
  },
  {
   "cell_type": "code",
   "execution_count": 16,
   "metadata": {},
   "outputs": [
    {
     "data": {
      "text/plain": "array([1], dtype=int64)"
     },
     "execution_count": 16,
     "metadata": {},
     "output_type": "execute_result"
    }
   ],
   "source": [
    "# Frequencies:\r\n",
    "df_rfm['frequency'].unique()"
   ]
  },
  {
   "cell_type": "code",
   "execution_count": 17,
   "metadata": {},
   "outputs": [],
   "source": [
    "def assign_frequency(x):\r\n",
    "    '''\r\n",
    "    Function to assign frequency score\r\n",
    "\r\n",
    "    Input:\r\n",
    "    - x - order placed, integer\r\n",
    "\r\n",
    "    Output:\r\n",
    "    - F - frequency score\r\n",
    "    '''\r\n",
    "    \r\n",
    "    if x >= 7:\r\n",
    "        return 4\r\n",
    "    elif x >= 4:\r\n",
    "        return 3\r\n",
    "    elif x >= 2:\r\n",
    "        return 2\r\n",
    "    else:\r\n",
    "        return 1"
   ]
  },
  {
   "cell_type": "code",
   "execution_count": 18,
   "metadata": {},
   "outputs": [
    {
     "data": {
      "text/html": "<div>\n<style scoped>\n    .dataframe tbody tr th:only-of-type {\n        vertical-align: middle;\n    }\n\n    .dataframe tbody tr th {\n        vertical-align: top;\n    }\n\n    .dataframe thead th {\n        text-align: right;\n    }\n</style>\n<table border=\"1\" class=\"dataframe\">\n  <thead>\n    <tr style=\"text-align: right;\">\n      <th></th>\n      <th>customer_id</th>\n      <th>recency</th>\n      <th>frequency</th>\n      <th>total_payment</th>\n      <th>avg_payment</th>\n      <th>geolocation_zip_code_prefix</th>\n      <th>geolocation_lat</th>\n      <th>geolocation_lng</th>\n      <th>R</th>\n      <th>F</th>\n      <th>M</th>\n    </tr>\n  </thead>\n  <tbody>\n    <tr>\n      <th>0</th>\n      <td>00012a2ce6f8dcda20d059ce98491703</td>\n      <td>288</td>\n      <td>1</td>\n      <td>89.80</td>\n      <td>89.80</td>\n      <td>6273</td>\n      <td>-23.494625</td>\n      <td>-46.766730</td>\n      <td>2</td>\n      <td>1</td>\n      <td>3</td>\n    </tr>\n    <tr>\n      <th>1</th>\n      <td>000161a058600d5901f007fab4c27140</td>\n      <td>409</td>\n      <td>1</td>\n      <td>54.90</td>\n      <td>54.90</td>\n      <td>35550</td>\n      <td>-20.472648</td>\n      <td>-45.117984</td>\n      <td>1</td>\n      <td>1</td>\n      <td>2</td>\n    </tr>\n    <tr>\n      <th>2</th>\n      <td>0001fd6190edaaf884bcaf3d49edf079</td>\n      <td>547</td>\n      <td>1</td>\n      <td>179.99</td>\n      <td>179.99</td>\n      <td>29830</td>\n      <td>-18.702490</td>\n      <td>-40.390020</td>\n      <td>1</td>\n      <td>1</td>\n      <td>4</td>\n    </tr>\n    <tr>\n      <th>3</th>\n      <td>0002414f95344307404f0ace7a26f1d5</td>\n      <td>378</td>\n      <td>1</td>\n      <td>149.90</td>\n      <td>149.90</td>\n      <td>39664</td>\n      <td>-21.770599</td>\n      <td>-43.355230</td>\n      <td>1</td>\n      <td>1</td>\n      <td>3</td>\n    </tr>\n    <tr>\n      <th>4</th>\n      <td>000379cdec625522490c315e70c7a9fb</td>\n      <td>149</td>\n      <td>1</td>\n      <td>93.00</td>\n      <td>93.00</td>\n      <td>4841</td>\n      <td>-23.737135</td>\n      <td>-46.689007</td>\n      <td>3</td>\n      <td>1</td>\n      <td>3</td>\n    </tr>\n  </tbody>\n</table>\n</div>",
      "text/plain": "                        customer_id  recency  frequency  total_payment  \\\n0  00012a2ce6f8dcda20d059ce98491703      288          1          89.80   \n1  000161a058600d5901f007fab4c27140      409          1          54.90   \n2  0001fd6190edaaf884bcaf3d49edf079      547          1         179.99   \n3  0002414f95344307404f0ace7a26f1d5      378          1         149.90   \n4  000379cdec625522490c315e70c7a9fb      149          1          93.00   \n\n   avg_payment  geolocation_zip_code_prefix  geolocation_lat  geolocation_lng  \\\n0        89.80                         6273       -23.494625       -46.766730   \n1        54.90                        35550       -20.472648       -45.117984   \n2       179.99                        29830       -18.702490       -40.390020   \n3       149.90                        39664       -21.770599       -43.355230   \n4        93.00                         4841       -23.737135       -46.689007   \n\n   R  F  M  \n0  2  1  3  \n1  1  1  2  \n2  1  1  4  \n3  1  1  3  \n4  3  1  3  "
     },
     "execution_count": 18,
     "metadata": {},
     "output_type": "execute_result"
    }
   ],
   "source": [
    "# Distribute values to quartiles (for 4 segments) and add to dataframe\r\n",
    "df_rfm['R'] = pd.qcut(df_rfm['recency'], q=4, labels=range(4, 0, -1))\r\n",
    "df_rfm['F'] = df_rfm['frequency'].apply(assign_frequency)\r\n",
    "df_rfm['M'] = pd.qcut(df_segmented_customers['total_payment'], q=4, labels=range(1, 5))\r\n",
    "df_rfm.head()"
   ]
  },
  {
   "cell_type": "markdown",
   "metadata": {},
   "source": [
    "Label the RFM combination and calculate the RFM score."
   ]
  },
  {
   "cell_type": "code",
   "execution_count": 19,
   "metadata": {},
   "outputs": [],
   "source": [
    "# Define- and assign label to dataframe\r\n",
    "df_rfm['segment_RFM'] = df_rfm['R'].astype(str)\\\r\n",
    "    + df_rfm['F'].astype(str)\\\r\n",
    "    + df_rfm['M'].astype(str)\r\n",
    "df_rfm['score_rfm'] = df_rfm[['R','F','M']].sum(axis=1)"
   ]
  },
  {
   "cell_type": "code",
   "execution_count": 20,
   "metadata": {},
   "outputs": [],
   "source": [
    "# These are the customer RFM segments with the appropriate approach suggestion\r\n",
    "dict_rfm_tiers = {'Best customer': 'Personalized communication, offer loyalty program, no promotional offers needed', 'Big Spender': 'Make them feel valued and offer quality products, encourage to stick with brands', 'Loyalist': 'Offer loyalty program', 'Potential Loyalists': 'Recommend products and offer discounts', 'Almost Lost': 'Try to win them with limited sales promotions', 'Hibernating': 'Make great offers with big discounts', 'Lost Customer': 'Do not spent much effort and money to win them'}"
   ]
  },
  {
   "cell_type": "code",
   "execution_count": 21,
   "metadata": {},
   "outputs": [],
   "source": [
    "def rfm_assiner(df):\r\n",
    "    '''\r\n",
    "    Function to assign RFM classes according conditions.\r\n",
    "\r\n",
    "    Input:\r\n",
    "    - df - dataframe containing RFM score and RFM segment key\r\n",
    "\r\n",
    "    Output:\r\n",
    "    - returns a RFM segment class (str)\r\n",
    "    '''\r\n",
    "    if (int(df['segment_RFM']) >= 434) or (df['score_rfm'] >= 9):\r\n",
    "        return 'Best customer'\r\n",
    "    elif (df['score_rfm'] >= 8) and (df['M'] == 4):\r\n",
    "        return 'Big Spender'\r\n",
    "    elif (df['score_rfm'] >= 6) and (df['F'] >= 2):\r\n",
    "        return 'Loyalist'\r\n",
    "    elif (int(df['segment_RFM']) >= 231) or (df['score_rfm'] >= 6):\r\n",
    "        return 'Potential Loyalists'\r\n",
    "    elif ((int(df['segment_RFM']) >= 121) and (df['R'] == 1)) or df['score_rfm'] == 5:\r\n",
    "        return 'Almost Lost'\r\n",
    "    elif (df['score_rfm'] >= 4) and (df['R'] == 1):\r\n",
    "        return 'Hibernating'\r\n",
    "    else:\r\n",
    "        return 'Lost Customer'"
   ]
  },
  {
   "cell_type": "code",
   "execution_count": 22,
   "metadata": {},
   "outputs": [],
   "source": [
    "df_rfm['customer_rfm_segment'] = df_rfm.apply(rfm_assiner, axis=1)"
   ]
  },
  {
   "cell_type": "code",
   "execution_count": 23,
   "metadata": {},
   "outputs": [],
   "source": [
    "df_rfm['marketing_approach']\\\r\n",
    "    = df_rfm['customer_rfm_segment'].apply(lambda x: dict_rfm_tiers[x])"
   ]
  },
  {
   "cell_type": "code",
   "execution_count": 30,
   "metadata": {},
   "outputs": [
    {
     "data": {
      "image/png": "[encoded data removed]",
      "text/plain": "<Waffle size 576x360 with 1 Axes>"
     },
     "metadata": {
      "needs_background": "light"
     },
     "output_type": "display_data"
    }
   ],
   "source": [
    "# Vizualize segment sizes with the waffe chart\r\n",
    "Olist_analysis.plot_waffle_chart(df_rfm, 'customer_id', 'count', 'RFM segments', 'customer_rfm_segment')"
   ]
  },
  {
   "cell_type": "code",
   "execution_count": 32,
   "metadata": {},
   "outputs": [
    {
     "data": {
      "text/html": "<div>\n<style scoped>\n    .dataframe tbody tr th:only-of-type {\n        vertical-align: middle;\n    }\n\n    .dataframe tbody tr th {\n        vertical-align: top;\n    }\n\n    .dataframe thead th {\n        text-align: right;\n    }\n</style>\n<table border=\"1\" class=\"dataframe\">\n  <thead>\n    <tr style=\"text-align: right;\">\n      <th></th>\n      <th>Count</th>\n      <th>Recency</th>\n      <th>Frequency</th>\n      <th>Monetary</th>\n      <th>Strategy</th>\n    </tr>\n    <tr>\n      <th>customer_rfm_segment</th>\n      <th></th>\n      <th></th>\n      <th></th>\n      <th></th>\n      <th></th>\n    </tr>\n  </thead>\n  <tbody>\n    <tr>\n      <th>Almost Lost</th>\n      <td>12030</td>\n      <td>365.1</td>\n      <td>1</td>\n      <td>87.9</td>\n      <td>[Try to win them with limited sales promotions]</td>\n    </tr>\n    <tr>\n      <th>Best customer</th>\n      <td>6010</td>\n      <td>59.8</td>\n      <td>1</td>\n      <td>352.0</td>\n      <td>[Personalized communication, offer loyalty pro...</td>\n    </tr>\n    <tr>\n      <th>Big Spender</th>\n      <td>5928</td>\n      <td>167.6</td>\n      <td>1</td>\n      <td>332.6</td>\n      <td>[Make them feel valued and offer quality produ...</td>\n    </tr>\n    <tr>\n      <th>Hibernating</th>\n      <td>6027</td>\n      <td>447.8</td>\n      <td>1</td>\n      <td>63.4</td>\n      <td>[Make great offers with big discounts]</td>\n    </tr>\n    <tr>\n      <th>Lost Customer</th>\n      <td>12091</td>\n      <td>370.9</td>\n      <td>1</td>\n      <td>28.6</td>\n      <td>[Do not spent much effort and money to win them]</td>\n    </tr>\n    <tr>\n      <th>Potential Loyalists</th>\n      <td>54392</td>\n      <td>187.4</td>\n      <td>1</td>\n      <td>135.1</td>\n      <td>[Recommend products and offer discounts]</td>\n    </tr>\n  </tbody>\n</table>\n</div>",
      "text/plain": "                      Count  Recency  Frequency  Monetary  \\\ncustomer_rfm_segment                                        \nAlmost Lost           12030    365.1          1      87.9   \nBest customer          6010     59.8          1     352.0   \nBig Spender            5928    167.6          1     332.6   \nHibernating            6027    447.8          1      63.4   \nLost Customer         12091    370.9          1      28.6   \nPotential Loyalists   54392    187.4          1     135.1   \n\n                                                               Strategy  \ncustomer_rfm_segment                                                     \nAlmost Lost             [Try to win them with limited sales promotions]  \nBest customer         [Personalized communication, offer loyalty pro...  \nBig Spender           [Make them feel valued and offer quality produ...  \nHibernating                      [Make great offers with big discounts]  \nLost Customer          [Do not spent much effort and money to win them]  \nPotential Loyalists            [Recommend products and offer discounts]  "
     },
     "execution_count": 32,
     "metadata": {},
     "output_type": "execute_result"
    }
   ],
   "source": [
    "# Make a clean table for presentation\r\n",
    "df_tbl_rfm = df_rfm.groupby('customer_rfm_segment').agg(\r\n",
    "    Count = ('customer_id', 'count'),\r\n",
    "    Recency = ('recency', 'mean'),\r\n",
    "    Frequency = ('frequency', 'mean'),\r\n",
    "    Monetary = ('total_payment', 'mean'),\r\n",
    "    Strategy = ('marketing_approach', 'unique'),\r\n",
    ").round(1)\r\n",
    "df_tbl_rfm"
   ]
  },
  {
   "cell_type": "markdown",
   "metadata": {},
   "source": [
    "# Conclusion\r\n",
    "- The order frequency and order amounts are concentrated on the lower end. This is what we have repeatedly have seen before.\r\n",
    "- The biggest RFM segment is the group of Potential Loyalists. These are customers that need to be targeted with offers and discounts in order to make the business successful.\r\n",
    "- There is a good base of Best Customers, which is good news for the business.\r\n",
    "- Some effort needs to be spent to target hibernating customers and customers which are almost lost\r\n",
    "\r\n",
    "# VI. K Means Clustering¶\r\n",
    "K-Means Clustering is a method that supports identifying clusters in unlabeled data. I will use the existing dataset and apply sklearns K-means algorithm to find underlying segments that are different from the aribrarily chosen RFM classes.\r\n",
    "\r\n",
    "Step one is to normalize the data to have all features on the same scale. This is to avoid that one feature dominates others.\r\n"
   ]
  },
  {
   "cell_type": "code",
   "execution_count": 33,
   "metadata": {},
   "outputs": [],
   "source": [
    "df_rfm_trans = df_rfm[['recency', 'frequency', 'total_payment']] # dataframe we want to use for clustering\r\n",
    "scaler = StandardScaler() # set up scaler\r\n",
    "scaler.fit(df_rfm_trans) # fit our data to the scaler\r\n",
    "df_rfm_norm = scaler.transform(df_rfm_trans) # trasnform data with scaler\r\n",
    "df_rfm_norm = pd.DataFrame(data=df_rfm_norm, index=df_rfm_trans.index, columns=df_rfm_trans.columns) # convert back to dataframe"
   ]
  },
  {
   "cell_type": "code",
   "execution_count": 34,
   "metadata": {},
   "outputs": [
    {
     "data": {
      "text/html": "<div>\n<style scoped>\n    .dataframe tbody tr th:only-of-type {\n        vertical-align: middle;\n    }\n\n    .dataframe tbody tr th {\n        vertical-align: top;\n    }\n\n    .dataframe thead th {\n        text-align: right;\n    }\n</style>\n<table border=\"1\" class=\"dataframe\">\n  <thead>\n    <tr style=\"text-align: right;\">\n      <th></th>\n      <th>recency</th>\n      <th>frequency</th>\n      <th>total_payment</th>\n    </tr>\n  </thead>\n  <tbody>\n    <tr>\n      <th>0</th>\n      <td>0.316296</td>\n      <td>0.0</td>\n      <td>-0.225989</td>\n    </tr>\n    <tr>\n      <th>1</th>\n      <td>1.107977</td>\n      <td>0.0</td>\n      <td>-0.392939</td>\n    </tr>\n    <tr>\n      <th>2</th>\n      <td>2.010885</td>\n      <td>0.0</td>\n      <td>0.205451</td>\n    </tr>\n    <tr>\n      <th>3</th>\n      <td>0.905149</td>\n      <td>0.0</td>\n      <td>0.061511</td>\n    </tr>\n    <tr>\n      <th>4</th>\n      <td>-0.593156</td>\n      <td>0.0</td>\n      <td>-0.210681</td>\n    </tr>\n  </tbody>\n</table>\n</div>",
      "text/plain": "    recency  frequency  total_payment\n0  0.316296        0.0      -0.225989\n1  1.107977        0.0      -0.392939\n2  2.010885        0.0       0.205451\n3  0.905149        0.0       0.061511\n4 -0.593156        0.0      -0.210681"
     },
     "execution_count": 34,
     "metadata": {},
     "output_type": "execute_result"
    }
   ],
   "source": [
    "# Check\r\n",
    "df_rfm_norm.head()"
   ]
  },
  {
   "cell_type": "code",
   "execution_count": 35,
   "metadata": {},
   "outputs": [
    {
     "data": {
      "text/plain": "KMeans(algorithm='auto', copy_x=True, init='k-means++', max_iter=300,\n       n_clusters=2, n_init=10, n_jobs=None, precompute_distances='auto',\n       random_state=1, tol=0.0001, verbose=0)"
     },
     "execution_count": 35,
     "metadata": {},
     "output_type": "execute_result"
    }
   ],
   "source": [
    "# K-Means: Let's start with 2 clusters\r\n",
    "k_means = KMeans(n_clusters=2, random_state=1)\r\n",
    "k_means.fit(df_rfm_norm)"
   ]
  },
  {
   "cell_type": "code",
   "execution_count": 36,
   "metadata": {},
   "outputs": [
    {
     "data": {
      "text/html": "<div>\n<style scoped>\n    .dataframe tbody tr th:only-of-type {\n        vertical-align: middle;\n    }\n\n    .dataframe tbody tr th {\n        vertical-align: top;\n    }\n\n    .dataframe thead tr th {\n        text-align: left;\n    }\n\n    .dataframe thead tr:last-of-type th {\n        text-align: right;\n    }\n</style>\n<table border=\"1\" class=\"dataframe\">\n  <thead>\n    <tr>\n      <th></th>\n      <th>recency</th>\n      <th>frequency</th>\n      <th colspan=\"2\" halign=\"left\">total_payment</th>\n    </tr>\n    <tr>\n      <th></th>\n      <th>mean</th>\n      <th>mean</th>\n      <th>mean</th>\n      <th>count</th>\n    </tr>\n    <tr>\n      <th>Cluster</th>\n      <th></th>\n      <th></th>\n      <th></th>\n      <th></th>\n    </tr>\n  </thead>\n  <tbody>\n    <tr>\n      <th>0</th>\n      <td>129.2</td>\n      <td>1</td>\n      <td>135.7</td>\n      <td>55364</td>\n    </tr>\n    <tr>\n      <th>1</th>\n      <td>388.5</td>\n      <td>1</td>\n      <td>138.8</td>\n      <td>41114</td>\n    </tr>\n  </tbody>\n</table>\n</div>",
      "text/plain": "        recency frequency total_payment       \n           mean      mean          mean  count\nCluster                                       \n0         129.2         1         135.7  55364\n1         388.5         1         138.8  41114"
     },
     "execution_count": 36,
     "metadata": {},
     "output_type": "execute_result"
    }
   ],
   "source": [
    "# Cretate dataframe to display table\r\n",
    "cluster = k_means.labels_\r\n",
    "df_rfm_2 = df_rfm.assign(Cluster=cluster)\r\n",
    "df_group_2 = df_rfm_2.groupby('Cluster')\r\n",
    "df_group_2.agg({\r\n",
    "    'recency': 'mean',\r\n",
    "    'frequency': 'mean',\r\n",
    "    'total_payment': ['mean', 'count']\r\n",
    "  }).round(1)"
   ]
  },
  {
   "cell_type": "code",
   "execution_count": 37,
   "metadata": {},
   "outputs": [
    {
     "data": {
      "text/plain": "125042.83069343583"
     },
     "execution_count": 37,
     "metadata": {},
     "output_type": "execute_result"
    }
   ],
   "source": [
    "# Calculate standard error\r\n",
    "k_means.inertia_"
   ]
  },
  {
   "cell_type": "markdown",
   "metadata": {},
   "source": [
    "The number of clusters impact the standard error. Higher number of clusters will lower the error, but Let's automate the process.\r\n",
    "\r\n",
    "By plotting the error against the number of clusters we can determin the condition at which the gain of information becomes marginal (\"Ellbow\" method)."
   ]
  },
  {
   "cell_type": "code",
   "execution_count": 38,
   "metadata": {},
   "outputs": [],
   "source": [
    "\r\n",
    "def k_means_func(dat, n_clusters):\r\n",
    "    '''\r\n",
    "    Function to calculate the standard error for a given number of clusters.\r\n",
    "\r\n",
    "    Inputs:\r\n",
    "    - dat - dataframe with normalized data\r\n",
    "    - n_clusters - number of clusters\r\n",
    "\r\n",
    "    Output:\r\n",
    "    - sse - standard error\r\n",
    "    '''\r\n",
    "    k_means = KMeans(n_clusters=n_clusters, random_state=1)\r\n",
    "    k_means.fit(df_rfm_norm)\r\n",
    "    \r\n",
    "    return k_means.inertia_"
   ]
  },
  {
   "cell_type": "code",
   "execution_count": 39,
   "metadata": {},
   "outputs": [],
   "source": [
    "# Generating dictionary with errors\r\n",
    "dict_k_sse = {}\r\n",
    "for i in range(1, 10):\r\n",
    "    dict_k_sse[i] = k_means_func(df_rfm_norm, i)"
   ]
  },
  {
   "cell_type": "code",
   "execution_count": 40,
   "metadata": {},
   "outputs": [
    {
     "data": {
      "text/plain": "{1: 192956.00000000003,\n 2: 125042.83069343583,\n 3: 74793.50363176718,\n 4: 59327.412099432324,\n 5: 44300.40875223275,\n 6: 38084.44047159407,\n 7: 33319.009204961905,\n 8: 28953.855750348957,\n 9: 25615.556358830476}"
     },
     "execution_count": 40,
     "metadata": {},
     "output_type": "execute_result"
    }
   ],
   "source": [
    "dict_k_sse"
   ]
  },
  {
   "cell_type": "code",
   "execution_count": 41,
   "metadata": {},
   "outputs": [
    {
     "data": {
      "text/plain": "Text(0.5, 1.0, 'Elbow Method - Clusters vs. Sum of Squared Errors')"
     },
     "execution_count": 41,
     "metadata": {},
     "output_type": "execute_result"
    },
    {
     "data": {
      "image/png": "[encoded data removed]",
      "text/plain": "<Figure size 1080x360 with 1 Axes>"
     },
     "metadata": {
      "needs_background": "light"
     },
     "output_type": "display_data"
    }
   ],
   "source": [
    "plt.figure(figsize=(15, 5))\r\n",
    "sns.lineplot(x=list(dict_k_sse.keys()), y=list(dict_k_sse.values()))\r\n",
    "\r\n",
    "plt.xlabel('Number of clusters \"K\"')\r\n",
    "plt.ylabel('Sum of Squared Errors')\r\n",
    "plt.title('Elbow Method - Clusters vs. Sum of Squared Errors');\r\n"
   ]
  },
  {
   "cell_type": "markdown",
   "metadata": {},
   "source": [
    "The Ellbow Method revealed that a cluster number of 4 is a suitable value."
   ]
  },
  {
   "cell_type": "code",
   "execution_count": 42,
   "metadata": {},
   "outputs": [
    {
     "data": {
      "text/html": "<div>\n<style scoped>\n    .dataframe tbody tr th:only-of-type {\n        vertical-align: middle;\n    }\n\n    .dataframe tbody tr th {\n        vertical-align: top;\n    }\n\n    .dataframe thead tr th {\n        text-align: left;\n    }\n\n    .dataframe thead tr:last-of-type th {\n        text-align: right;\n    }\n</style>\n<table border=\"1\" class=\"dataframe\">\n  <thead>\n    <tr>\n      <th></th>\n      <th>recency</th>\n      <th>frequency</th>\n      <th colspan=\"2\" halign=\"left\">total_payment</th>\n    </tr>\n    <tr>\n      <th></th>\n      <th>mean</th>\n      <th>mean</th>\n      <th>mean</th>\n      <th>count</th>\n    </tr>\n    <tr>\n      <th>Cluster</th>\n      <th></th>\n      <th></th>\n      <th></th>\n      <th></th>\n    </tr>\n  </thead>\n  <tbody>\n    <tr>\n      <th>0</th>\n      <td>254.6</td>\n      <td>1</td>\n      <td>108.8</td>\n      <td>35651</td>\n    </tr>\n    <tr>\n      <th>1</th>\n      <td>239.5</td>\n      <td>1</td>\n      <td>1046.3</td>\n      <td>2672</td>\n    </tr>\n    <tr>\n      <th>2</th>\n      <td>87.1</td>\n      <td>1</td>\n      <td>113.4</td>\n      <td>35650</td>\n    </tr>\n    <tr>\n      <th>3</th>\n      <td>457.6</td>\n      <td>1</td>\n      <td>111.3</td>\n      <td>22505</td>\n    </tr>\n  </tbody>\n</table>\n</div>",
      "text/plain": "        recency frequency total_payment       \n           mean      mean          mean  count\nCluster                                       \n0         254.6         1         108.8  35651\n1         239.5         1        1046.3   2672\n2          87.1         1         113.4  35650\n3         457.6         1         111.3  22505"
     },
     "execution_count": 42,
     "metadata": {},
     "output_type": "execute_result"
    }
   ],
   "source": [
    "# Let's see how this clustering looks like\r\n",
    "k_means = KMeans(n_clusters=4, random_state=1)\r\n",
    "k_means.fit(df_rfm_norm)\r\n",
    "cluster = k_means.labels_\r\n",
    "df_rfm_4 = df_rfm.assign(Cluster=cluster)\r\n",
    "df_group_4 = df_rfm_4.groupby('Cluster')\r\n",
    "df_group_4.agg({\r\n",
    "    'recency': 'mean',\r\n",
    "    'frequency': 'mean',\r\n",
    "    'total_payment': ['mean', 'count']\r\n",
    "  }).round(1)"
   ]
  },
  {
   "cell_type": "code",
   "execution_count": 43,
   "metadata": {},
   "outputs": [
    {
     "data": {
      "image/png": "[encoded data removed]",
      "text/plain": "<Figure size 720x360 with 1 Axes>"
     },
     "metadata": {},
     "output_type": "display_data"
    }
   ],
   "source": [
    "# Plot mean purchase value per K-Means cluster\r\n",
    "plt.figure(figsize=(10, 5))\r\n",
    "df_group_4.agg({\r\n",
    "    'recency': 'mean',\r\n",
    "    'frequency': 'mean',\r\n",
    "    'total_payment': ['mean', 'count']\r\n",
    "  }).round(1)['total_payment', 'mean'].plot(kind='pie', legend=True)\r\n",
    "  \r\n",
    "plt.title('Average revenue per K-Means cluster');"
   ]
  },
  {
   "cell_type": "code",
   "execution_count": 44,
   "metadata": {},
   "outputs": [
    {
     "data": {
      "image/png": "[encoded data removed]",
      "text/plain": "<Figure size 720x360 with 1 Axes>"
     },
     "metadata": {},
     "output_type": "display_data"
    }
   ],
   "source": [
    "# Plot customers per K-Means cluster\r\n",
    "plt.figure(figsize=(10, 5))\r\n",
    "df_group_4.agg({\r\n",
    "    'recency': 'mean',\r\n",
    "    'frequency': 'mean',\r\n",
    "    'total_payment': ['mean', 'count']\r\n",
    "  }).round(1)['total_payment', 'count'].plot(kind='pie', legend=True)\r\n",
    "\r\n",
    "plt.title('Customers per K-Means cluster');"
   ]
  },
  {
   "cell_type": "code",
   "execution_count": 45,
   "metadata": {},
   "outputs": [
    {
     "data": {
      "image/png": "[encoded data removed]",
      "text/plain": "<Figure size 720x360 with 1 Axes>"
     },
     "metadata": {},
     "output_type": "display_data"
    }
   ],
   "source": [
    "# Plot recency per K-Means cluster\r\n",
    "plt.figure(figsize=(10, 5))\r\n",
    "df_group_4.agg({\r\n",
    "    'recency': 'mean',\r\n",
    "    'frequency': 'mean',\r\n",
    "    'total_payment': ['mean', 'count']\r\n",
    "  }).round(1)['recency', 'mean'].plot(kind='pie', legend=True)\r\n",
    "\r\n",
    "plt.title('Recency per K-Means cluster');"
   ]
  },
  {
   "cell_type": "code",
   "execution_count": 46,
   "metadata": {},
   "outputs": [],
   "source": [
    "#x = df_rfm_4['recency']\r\n",
    "#y = df_rfm_4['frequency']\r\n",
    "#z = df_rfm_4['total_payment']\r\n",
    "\r\n",
    "#fig = go.Figure(data=[go.Scatter3d(\r\n",
    "#    x=x,\r\n",
    "#    y=y,\r\n",
    "#    z=z,\r\n",
    "#    mode='markers',\r\n",
    "#    marker=dict(\r\n",
    "#        size=2,\r\n",
    "#        color=df_rfm_4['Cluster'],               \r\n",
    "#        #colorscale='thermal',\r\n",
    "#        opacity=0.8\r\n",
    "#    )\r\n",
    "#)])\r\n",
    "\r\n",
    "#fig.update_layout(scene = dict(\r\n",
    "#    xaxis_title='Recency',\r\n",
    "#    yaxis_title='Frequency',\r\n",
    "#    zaxis_title='Monetary'),\r\n",
    "#    width=700,\r\n",
    "#    margin=dict(r=20, b=10, l=10, t=10))\r\n",
    "\r\n",
    "#fig.update_layout(margin=dict(l=0, r=0, b=0, t=0))\r\n",
    "#fig.show()"
   ]
  },
  {
   "cell_type": "markdown",
   "metadata": {},
   "source": [
    "The above scatter plot visuzlizes how K-Means clusters the data into four segments.\r\n",
    "\r\n",
    "- Group 0: Early Customers with low purchase value\r\n",
    "- Group 1: Loyal Customers\r\n",
    "- Group 2: Hibernating Customers with low purchase value\r\n",
    "- Group 3: Big Spenders\r\n",
    "\r\n",
    "It would now be interesting if these clusters have some geological correlation."
   ]
  },
  {
   "cell_type": "code",
   "execution_count": 47,
   "metadata": {},
   "outputs": [],
   "source": [
    "dict_color = {\r\n",
    "    0: 'blue',\r\n",
    "    1: 'orange',\r\n",
    "    2: 'green',\r\n",
    "    3: 'red'\r\n",
    "    }"
   ]
  },
  {
   "cell_type": "code",
   "execution_count": 50,
   "metadata": {},
   "outputs": [],
   "source": [
    "df_rfm_4['color'] = df_rfm_4['Cluster'].map(dict_color)"
   ]
  },
  {
   "cell_type": "code",
   "execution_count": 49,
   "metadata": {},
   "outputs": [
    {
     "data": {
      "text/html": "<div>\n<style scoped>\n    .dataframe tbody tr th:only-of-type {\n        vertical-align: middle;\n    }\n\n    .dataframe tbody tr th {\n        vertical-align: top;\n    }\n\n    .dataframe thead th {\n        text-align: right;\n    }\n</style>\n<table border=\"1\" class=\"dataframe\">\n  <thead>\n    <tr style=\"text-align: right;\">\n      <th></th>\n      <th>customer_id</th>\n      <th>recency</th>\n      <th>frequency</th>\n      <th>total_payment</th>\n      <th>avg_payment</th>\n      <th>geolocation_zip_code_prefix</th>\n      <th>geolocation_lat</th>\n      <th>geolocation_lng</th>\n      <th>R</th>\n      <th>F</th>\n      <th>M</th>\n      <th>segment_RFM</th>\n      <th>score_rfm</th>\n      <th>customer_rfm_segment</th>\n      <th>marketing_approach</th>\n      <th>Cluster</th>\n      <th>color</th>\n    </tr>\n  </thead>\n  <tbody>\n    <tr>\n      <th>0</th>\n      <td>00012a2ce6f8dcda20d059ce98491703</td>\n      <td>288</td>\n      <td>1</td>\n      <td>89.80</td>\n      <td>89.80</td>\n      <td>6273</td>\n      <td>-23.494625</td>\n      <td>-46.766730</td>\n      <td>2</td>\n      <td>1</td>\n      <td>3</td>\n      <td>213</td>\n      <td>6.0</td>\n      <td>Potential Loyalists</td>\n      <td>Recommend products and offer discounts</td>\n      <td>0</td>\n      <td>blue</td>\n    </tr>\n    <tr>\n      <th>1</th>\n      <td>000161a058600d5901f007fab4c27140</td>\n      <td>409</td>\n      <td>1</td>\n      <td>54.90</td>\n      <td>54.90</td>\n      <td>35550</td>\n      <td>-20.472648</td>\n      <td>-45.117984</td>\n      <td>1</td>\n      <td>1</td>\n      <td>2</td>\n      <td>112</td>\n      <td>4.0</td>\n      <td>Hibernating</td>\n      <td>Make great offers with big discounts</td>\n      <td>3</td>\n      <td>red</td>\n    </tr>\n    <tr>\n      <th>2</th>\n      <td>0001fd6190edaaf884bcaf3d49edf079</td>\n      <td>547</td>\n      <td>1</td>\n      <td>179.99</td>\n      <td>179.99</td>\n      <td>29830</td>\n      <td>-18.702490</td>\n      <td>-40.390020</td>\n      <td>1</td>\n      <td>1</td>\n      <td>4</td>\n      <td>114</td>\n      <td>6.0</td>\n      <td>Potential Loyalists</td>\n      <td>Recommend products and offer discounts</td>\n      <td>3</td>\n      <td>red</td>\n    </tr>\n    <tr>\n      <th>3</th>\n      <td>0002414f95344307404f0ace7a26f1d5</td>\n      <td>378</td>\n      <td>1</td>\n      <td>149.90</td>\n      <td>149.90</td>\n      <td>39664</td>\n      <td>-21.770599</td>\n      <td>-43.355230</td>\n      <td>1</td>\n      <td>1</td>\n      <td>3</td>\n      <td>113</td>\n      <td>5.0</td>\n      <td>Almost Lost</td>\n      <td>Try to win them with limited sales promotions</td>\n      <td>3</td>\n      <td>red</td>\n    </tr>\n    <tr>\n      <th>4</th>\n      <td>000379cdec625522490c315e70c7a9fb</td>\n      <td>149</td>\n      <td>1</td>\n      <td>93.00</td>\n      <td>93.00</td>\n      <td>4841</td>\n      <td>-23.737135</td>\n      <td>-46.689007</td>\n      <td>3</td>\n      <td>1</td>\n      <td>3</td>\n      <td>313</td>\n      <td>7.0</td>\n      <td>Potential Loyalists</td>\n      <td>Recommend products and offer discounts</td>\n      <td>2</td>\n      <td>green</td>\n    </tr>\n  </tbody>\n</table>\n</div>",
      "text/plain": "                        customer_id  recency  frequency  total_payment  \\\n0  00012a2ce6f8dcda20d059ce98491703      288          1          89.80   \n1  000161a058600d5901f007fab4c27140      409          1          54.90   \n2  0001fd6190edaaf884bcaf3d49edf079      547          1         179.99   \n3  0002414f95344307404f0ace7a26f1d5      378          1         149.90   \n4  000379cdec625522490c315e70c7a9fb      149          1          93.00   \n\n   avg_payment  geolocation_zip_code_prefix  geolocation_lat  geolocation_lng  \\\n0        89.80                         6273       -23.494625       -46.766730   \n1        54.90                        35550       -20.472648       -45.117984   \n2       179.99                        29830       -18.702490       -40.390020   \n3       149.90                        39664       -21.770599       -43.355230   \n4        93.00                         4841       -23.737135       -46.689007   \n\n   R  F  M segment_RFM  score_rfm customer_rfm_segment  \\\n0  2  1  3         213        6.0  Potential Loyalists   \n1  1  1  2         112        4.0          Hibernating   \n2  1  1  4         114        6.0  Potential Loyalists   \n3  1  1  3         113        5.0          Almost Lost   \n4  3  1  3         313        7.0  Potential Loyalists   \n\n                              marketing_approach  Cluster  color  \n0         Recommend products and offer discounts        0   blue  \n1           Make great offers with big discounts        3    red  \n2         Recommend products and offer discounts        3    red  \n3  Try to win them with limited sales promotions        3    red  \n4         Recommend products and offer discounts        2  green  "
     },
     "execution_count": 49,
     "metadata": {},
     "output_type": "execute_result"
    }
   ],
   "source": [
    "df_rfm_4.head()"
   ]
  },
  {
   "cell_type": "code",
   "execution_count": 51,
   "metadata": {},
   "outputs": [],
   "source": [
    "sample_k_means_4 = df_rfm_4.groupby(\r\n",
    "    'geolocation_zip_code_prefix',\r\n",
    "    as_index=False\r\n",
    "    ).agg({\r\n",
    "        'geolocation_lat': 'first',\r\n",
    "        'geolocation_lng': 'first',\r\n",
    "        'color': lambda x:x.value_counts().index[0]\r\n",
    "        }).sample(n=200)"
   ]
  },
  {
   "cell_type": "code",
   "execution_count": 52,
   "metadata": {},
   "outputs": [
    {
     "data": {
      "application/vnd.plotly.v1+json": {
       "config": {
        "linkText": "Export to plot.ly",
        "plotlyServerURL": "https://plot.ly",
        "showLink": false
       },
       "data": [
        {
         "lat": [
          -22.109350838676203,
          -22.52854747513797,
          -23.65286206665893,
          -23.608376057447085,
          -24.747741017557626,
          -2.8854000680493717,
          -23.466439467107183,
          -22.49292307723705,
          -3.0537144608488576,
          -13.00493931502102,
          -29.93652437245234,
          -23.66826282263841,
          -23.506284150855432,
          -28.670125237175668,
          -23.295092214899807,
          -26.924017769084376,
          -11.561221431481266,
          -15.772203965837774,
          -12.928281557181926,
          -6.295391213339041,
          -28.02684139240616,
          -21.76806150362966,
          -23.550832299469114,
          -20.019743595101048,
          -23.56872588066243,
          -19.96837473152749,
          -23.26755902493272,
          -23.56216950043269,
          -22.890052035547203,
          -21.360680054096154,
          -21.233089520908592,
          -23.56571935720467,
          -8.04301076380634,
          -11.719604261128087,
          -12.507728154491227,
          -27.59303417089912,
          -25.3458938551272,
          -23.544284154048057,
          -20.830519999999982,
          -4.490700040153764,
          -19.982508673610667,
          -20.66835048113269,
          -22.780863803043623,
          -9.977844588602151,
          -20.42548664175209,
          -23.498165724392663,
          -22.752837121380328,
          -19.776284738271123,
          -7.26062733166945,
          -23.56437251096427,
          -26.351882120770888,
          -23.55800671357263,
          -16.472026120462758,
          -23.840198413532924,
          -8.754987124247217,
          -23.51743977462639,
          -23.65353820392443,
          -23.502764907537927,
          -23.090603372164697,
          -12.946963682332175,
          -23.477559003606682,
          -23.54962559755325,
          -16.729822424388207,
          null,
          -18.088473948068927,
          -15.72562282431186,
          -25.10604392812619,
          -8.728219693930086,
          -3.5099853385040247,
          -22.851778716020736,
          -23.17640718512321,
          -23.565126464072502,
          -29.884224677051467,
          -23.535453394396647,
          -20.402326209879863,
          -30.89590571140865,
          -15.736831386346571,
          -23.09025660727679,
          -22.81855303992479,
          -27.75889144988634,
          -23.315956213833708,
          -18.47922022748863,
          -23.333630593704854,
          -23.6089313433262,
          -5.7469255217867055,
          -3.779298848378947,
          -23.443235916729225,
          -23.66406691739871,
          -23.935763053292145,
          -23.493413986121546,
          -20.556486927976962,
          -22.847616514792236,
          -19.788379270352454,
          null,
          -14.610833993645256,
          -21.76322981154581,
          -7.872685280989339,
          -26.320481528449413,
          -22.992370722170964,
          -23.666815799814945,
          -23.20360554199665,
          -23.41763985519351,
          -22.733245576794573,
          -1.3951977635577055,
          -23.52351930030584,
          -6.1011053274603295,
          -8.474573524794732,
          -23.205572075928544,
          -24.007116636855912,
          -23.610116410208363,
          -19.457946,
          -23.584361741329538,
          -13.260145399073384,
          -23.42553851096427,
          -23.466401539269448,
          -22.82406110672719,
          -23.686840288649076,
          -23.457337722170962,
          -23.617965143190602,
          -20.849594555981817,
          -22.42652898509231,
          -23.327451668051076,
          -23.09014801228188,
          -15.6458555120437,
          -22.583039048603894,
          -22.503701129901362,
          -4.4196336980745485,
          -15.791400649460426,
          -3.726515191044169,
          -5.462614889990144,
          -23.5897008373536,
          -23.47239108604073,
          -23.491561337497824,
          -25.322413972865693,
          null,
          -21.67782976656155,
          -20.448640663820747,
          -22.979373395792646,
          -25.52856716477007,
          -23.570728798865233,
          -23.418649156321834,
          -25.446912473309197,
          -25.41969275520801,
          -23.06141275686823,
          -22.82927306462625,
          -19.73011140486008,
          -2.5630270620780427,
          -23.62494927921401,
          -3.668154370316322,
          -23.534106977586273,
          -22.49932461226845,
          -8.942353305175724,
          -23.44859809875414,
          -29.15667410837047,
          -21.675194842651376,
          -23.576917369409696,
          -25.408114422024173,
          -23.54416206825512,
          null,
          -18.128439000000004,
          -5.0512300591118455,
          -28.27634466965209,
          -19.954611303364263,
          -22.260061031285442,
          -3.7331099999999537,
          -25.4316782514571,
          -23.666348890385947,
          -18.845336065597973,
          -23.626589699694147,
          -23.483772471550584,
          -25.58439336525475,
          -18.544195577869708,
          -23.542127519129053,
          -15.798334500000005,
          -22.96462232896345,
          -20.042406563110603,
          -23.56353456895962,
          -10.80154460120722,
          -7.1699924445694245,
          -15.812393431104207,
          -22.025105515101828,
          -22.66155612527216,
          -25.3077726131296,
          -19.7308167332817,
          -22.86151277371625,
          -9.40634188589042,
          -7.179513898648592,
          -6.10752907461681,
          -23.58686278645993,
          -20.89255552265781,
          -23.66820318173118,
          -27.64708846378896,
          -7.973358822827603,
          -23.587510278547374,
          -23.59803065667379,
          -19.84728140022504,
          -25.52499946127881,
          -8.411346124379964,
          -21.051442462884992,
          -22.945914278216677
         ],
         "lon": [
          -51.43084378169877,
          -43.18136192559032,
          -46.3267102670844,
          -46.62990769539498,
          -53.71939118195319,
          -40.115716051711004,
          -46.65532867666909,
          -44.11220624605068,
          -59.950260418403204,
          -38.522092956142906,
          -50.99163642973172,
          -46.59794097157923,
          -46.497762338709364,
          -49.107347281231405,
          -46.708279077105104,
          -49.072521244764864,
          -43.27402172839579,
          -47.89486718235325,
          -38.50500977763904,
          -38.15771268020572,
          -54.54412791467418,
          -41.32927800685603,
          -46.675339118385295,
          -44.09724133043692,
          -46.651751192625035,
          -44.17602567163493,
          -45.883441630806104,
          -46.768284419095146,
          -43.52422191520002,
          -43.24763510819232,
          -49.642350778989496,
          -46.684737879825704,
          -34.88965482875525,
          -49.0719886711785,
          -39.00142275144315,
          -48.615313822856685,
          -49.27636202316928,
          -46.57301708742571,
          -43.80577999999997,
          -38.598978212231295,
          -43.99618764570953,
          -42.51923008385249,
          -43.3845271689841,
          -55.17707471150499,
          -42.91293386892556,
          -46.66412298750652,
          -43.297551682139385,
          -44.02563789855161,
          -35.912353279906505,
          -46.556673129609365,
          -53.27984689033267,
          -46.48963913849616,
          -54.61343055926474,
          -46.73608191318674,
          -63.90614049700026,
          -46.67461056535293,
          -46.313949666820115,
          -46.581892636722,
          -52.44956994630389,
          -38.444454911660905,
          -46.58860913128279,
          -46.61126537399732,
          -49.253962871044024,
          null,
          -39.550115957153245,
          -47.8834165320561,
          -50.16460630460501,
          -35.79274135587063,
          -42.19113033850401,
          -51.023467723895074,
          -45.82353101304175,
          -46.543730535927494,
          -50.78131661888588,
          -46.631706291563255,
          -49.96842588763687,
          -55.503034042281726,
          -47.86635321288014,
          -47.193579120318525,
          -47.253621643696526,
          -54.48163145095327,
          -46.716854165704405,
          -47.403665466835115,
          -46.73204679285586,
          -46.72423545920135,
          -39.62695771472346,
          -49.67423965674856,
          -46.72827406953653,
          -46.33574703521018,
          -46.285012309740885,
          -47.47518514946042,
          -44.86794876164007,
          -43.07740761242845,
          -43.96989732025354,
          null,
          -41.13647511153721,
          -48.18288282480332,
          -34.90151901784201,
          -48.81841465084539,
          -43.645047574383966,
          -46.65266956035766,
          -46.15808470854209,
          -46.29011135453042,
          -43.522713149565476,
          -48.41762850933324,
          -46.50809227116394,
          -36.46052244483598,
          -35.544140554609406,
          -47.29234077366382,
          -48.34057593570546,
          -46.70876659172488,
          -43.11351000000001,
          -46.49736196586643,
          -50.141453295069475,
          -46.71403265514457,
          -46.65869529017828,
          -42.980322413863675,
          -46.63903288343237,
          -46.677493822926856,
          -52.085653765324345,
          -41.146343277031825,
          -47.5790872060516,
          -46.73319969038138,
          -52.46957147373936,
          -56.029099878794604,
          -47.39506168414479,
          -43.16913551788042,
          -39.048311767440794,
          -47.84936509587982,
          -38.475919344399145,
          -38.459126845167646,
          -46.71086220330083,
          -46.62708135498298,
          -46.64714813849616,
          -49.14814890452838,
          null,
          -51.38383940176974,
          -54.63337915752978,
          -46.99308402224949,
          -54.58639799739261,
          -46.55225036735811,
          -46.87452388015178,
          -49.52203974005656,
          -51.48512530558594,
          -51.043050259410286,
          -45.188757445517176,
          -47.93987494048565,
          -44.30691703831165,
          -46.62579287760399,
          -39.240968728407246,
          -51.43800904925885,
          -44.125996547319524,
          -35.662136851953136,
          -47.45068994727024,
          -51.519308304573755,
          -45.92139406444914,
          -46.56964340175425,
          -52.41952974038413,
          -46.89602199770889,
          null,
          -40.370634,
          -42.82684480941092,
          -52.44815098706006,
          -43.991336462115534,
          -45.92583719964928,
          -38.57535116699996,
          -49.159041452420645,
          -46.707110694990966,
          -42.291861644791226,
          -46.60004119025911,
          -46.64906303274859,
          -49.629912271616966,
          -44.60319439419738,
          -46.7527721799693,
          -47.93030100000001,
          -47.1630608228951,
          -41.69805439418312,
          -46.7804287142651,
          -52.74201065204392,
          -34.826108495219444,
          -48.08492005713518,
          -48.920062745085275,
          -42.39093551028189,
          -52.53808391172603,
          -47.98835074978382,
          -43.24503317740128,
          -38.229855323932405,
          -48.20729293727968,
          -35.91378340816983,
          -46.72512904829458,
          -42.34430404940598,
          -46.74249923147693,
          -52.23653155536961,
          -34.83302869261996,
          -46.73897032960296,
          -46.62848920552253,
          -43.92839036124404,
          -49.27040624355126,
          -37.06164202161597,
          -50.0544068056725,
          -47.15599451132059
         ],
         "marker": {
          "color": [
           "red",
           "blue",
           "green",
           "green",
           "blue",
           "blue",
           "red",
           "green",
           "red",
           "orange",
           "blue",
           "blue",
           "green",
           "blue",
           "green",
           "green",
           "green",
           "green",
           "blue",
           "green",
           "green",
           "red",
           "green",
           "green",
           "blue",
           "green",
           "green",
           "green",
           "green",
           "green",
           "red",
           "green",
           "blue",
           "green",
           "green",
           "green",
           "red",
           "green",
           "green",
           "blue",
           "green",
           "green",
           "red",
           "red",
           "green",
           "green",
           "red",
           "green",
           "green",
           "blue",
           "green",
           "red",
           "blue",
           "blue",
           "red",
           "green",
           "green",
           "green",
           "green",
           "red",
           "green",
           "blue",
           "green",
           "blue",
           "blue",
           "green",
           "blue",
           "blue",
           "red",
           "green",
           "blue",
           "blue",
           "green",
           "green",
           "green",
           "orange",
           "red",
           "blue",
           "blue",
           "green",
           "green",
           "green",
           "green",
           "red",
           "blue",
           "orange",
           "blue",
           "blue",
           "blue",
           "blue",
           "red",
           "red",
           "blue",
           "green",
           "blue",
           "green",
           "blue",
           "green",
           "green",
           "blue",
           "green",
           "blue",
           "blue",
           "green",
           "green",
           "green",
           "blue",
           "green",
           "blue",
           "blue",
           "green",
           "green",
           "green",
           "blue",
           "blue",
           "blue",
           "red",
           "blue",
           "green",
           "red",
           "green",
           "blue",
           "red",
           "green",
           "green",
           "green",
           "green",
           "green",
           "green",
           "red",
           "blue",
           "green",
           "blue",
           "green",
           "red",
           "green",
           "blue",
           "green",
           "green",
           "blue",
           "red",
           "green",
           "blue",
           "green",
           "red",
           "green",
           "red",
           "green",
           "green",
           "red",
           "green",
           "red",
           "green",
           "red",
           "blue",
           "green",
           "blue",
           "blue",
           "blue",
           "green",
           "blue",
           "red",
           "red",
           "blue",
           "green",
           "green",
           "blue",
           "blue",
           "blue",
           "green",
           "red",
           "red",
           "blue",
           "green",
           "blue",
           "green",
           "green",
           "blue",
           "red",
           "blue",
           "blue",
           "blue",
           "red",
           "blue",
           "red",
           "green",
           "blue",
           "green",
           "orange",
           "red",
           "green",
           "red",
           "blue",
           "green",
           "blue",
           "green",
           "red",
           "blue",
           "blue",
           "red"
          ],
          "size": 2
         },
         "type": "scattermapbox"
        }
       ],
       "layout": {
        "mapbox": {
         "accesstoken": "pk.eyJ1IjoiaG9vbmtlbmc5MyIsImEiOiJjam43cGhpNng2ZmpxM3JxY3Z4ODl2NWo3In0.SGRvJlToMtgRxw9ZWzPFrA",
         "bearing": 10,
         "center": {
          "lat": -23.5,
          "lon": -46.6
         },
         "pitch": 0,
         "zoom": 2
        },
        "showlegend": false,
        "title": "K-Means Cluster Customers"
       }
      },
      "text/html": "<div>                            <div id=\"29fc0ca9-1022-4bc4-a7b7-3104da0964d1\" class=\"plotly-graph-div\" style=\"height:525px; width:100%;\"></div>            <script type=\"text/javascript\">                require([\"plotly\"], function(Plotly) {                    window.PLOTLYENV=window.PLOTLYENV || {};                                    if (document.getElementById(\"29fc0ca9-1022-4bc4-a7b7-3104da0964d1\")) {                    Plotly.newPlot(                        \"29fc0ca9-1022-4bc4-a7b7-3104da0964d1\",                        [{\"lat\": [-22.109350838676203, -22.52854747513797, -23.65286206665893, -23.608376057447085, -24.747741017557626, -2.8854000680493717, -23.466439467107183, -22.49292307723705, -3.0537144608488576, -13.00493931502102, -29.93652437245234, -23.66826282263841, -23.506284150855432, -28.670125237175668, -23.295092214899807, -26.924017769084376, -11.561221431481266, -15.772203965837774, -12.928281557181926, -6.295391213339041, -28.02684139240616, -21.76806150362966, -23.550832299469114, -20.019743595101048, -23.56872588066243, -19.96837473152749, -23.26755902493272, -23.56216950043269, -22.890052035547203, -21.360680054096154, -21.233089520908592, -23.56571935720467, -8.04301076380634, -11.719604261128087, -12.507728154491227, -27.59303417089912, -25.3458938551272, -23.544284154048057, -20.830519999999982, -4.490700040153764, -19.982508673610667, -20.66835048113269, -22.780863803043623, -9.977844588602151, -20.42548664175209, -23.498165724392663, -22.752837121380328, -19.776284738271123, -7.26062733166945, -23.56437251096427, -26.351882120770888, -23.55800671357263, -16.472026120462758, -23.840198413532924, -8.754987124247217, -23.51743977462639, -23.65353820392443, -23.502764907537927, -23.090603372164697, -12.946963682332175, -23.477559003606682, -23.54962559755325, -16.729822424388207, null, -18.088473948068927, -15.72562282431186, -25.10604392812619, -8.728219693930086, -3.5099853385040247, -22.851778716020736, -23.17640718512321, -23.565126464072502, -29.884224677051467, -23.535453394396647, -20.402326209879863, -30.89590571140865, -15.736831386346571, -23.09025660727679, -22.81855303992479, -27.75889144988634, -23.315956213833708, -18.47922022748863, -23.333630593704854, -23.6089313433262, -5.7469255217867055, -3.779298848378947, -23.443235916729225, -23.66406691739871, -23.935763053292145, -23.493413986121546, -20.556486927976962, -22.847616514792236, -19.788379270352454, null, -14.610833993645256, -21.76322981154581, -7.872685280989339, -26.320481528449413, -22.992370722170964, -23.666815799814945, -23.20360554199665, -23.41763985519351, -22.733245576794573, -1.3951977635577055, -23.52351930030584, -6.1011053274603295, -8.474573524794732, -23.205572075928544, -24.007116636855912, -23.610116410208363, -19.457946, -23.584361741329538, -13.260145399073384, -23.42553851096427, -23.466401539269448, -22.82406110672719, -23.686840288649076, -23.457337722170962, -23.617965143190602, -20.849594555981817, -22.42652898509231, -23.327451668051076, -23.09014801228188, -15.6458555120437, -22.583039048603894, -22.503701129901362, -4.4196336980745485, -15.791400649460426, -3.726515191044169, -5.462614889990144, -23.5897008373536, -23.47239108604073, -23.491561337497824, -25.322413972865693, null, -21.67782976656155, -20.448640663820747, -22.979373395792646, -25.52856716477007, -23.570728798865233, -23.418649156321834, -25.446912473309197, -25.41969275520801, -23.06141275686823, -22.82927306462625, -19.73011140486008, -2.5630270620780427, -23.62494927921401, -3.668154370316322, -23.534106977586273, -22.49932461226845, -8.942353305175724, -23.44859809875414, -29.15667410837047, -21.675194842651376, -23.576917369409696, -25.408114422024173, -23.54416206825512, null, -18.128439000000004, -5.0512300591118455, -28.27634466965209, -19.954611303364263, -22.260061031285442, -3.7331099999999537, -25.4316782514571, -23.666348890385947, -18.845336065597973, -23.626589699694147, -23.483772471550584, -25.58439336525475, -18.544195577869708, -23.542127519129053, -15.798334500000005, -22.96462232896345, -20.042406563110603, -23.56353456895962, -10.80154460120722, -7.1699924445694245, -15.812393431104207, -22.025105515101828, -22.66155612527216, -25.3077726131296, -19.7308167332817, -22.86151277371625, -9.40634188589042, -7.179513898648592, -6.10752907461681, -23.58686278645993, -20.89255552265781, -23.66820318173118, -27.64708846378896, -7.973358822827603, -23.587510278547374, -23.59803065667379, -19.84728140022504, -25.52499946127881, -8.411346124379964, -21.051442462884992, -22.945914278216677], \"lon\": [-51.43084378169877, -43.18136192559032, -46.3267102670844, -46.62990769539498, -53.71939118195319, -40.115716051711004, -46.65532867666909, -44.11220624605068, -59.950260418403204, -38.522092956142906, -50.99163642973172, -46.59794097157923, -46.497762338709364, -49.107347281231405, -46.708279077105104, -49.072521244764864, -43.27402172839579, -47.89486718235325, -38.50500977763904, -38.15771268020572, -54.54412791467418, -41.32927800685603, -46.675339118385295, -44.09724133043692, -46.651751192625035, -44.17602567163493, -45.883441630806104, -46.768284419095146, -43.52422191520002, -43.24763510819232, -49.642350778989496, -46.684737879825704, -34.88965482875525, -49.0719886711785, -39.00142275144315, -48.615313822856685, -49.27636202316928, -46.57301708742571, -43.80577999999997, -38.598978212231295, -43.99618764570953, -42.51923008385249, -43.3845271689841, -55.17707471150499, -42.91293386892556, -46.66412298750652, -43.297551682139385, -44.02563789855161, -35.912353279906505, -46.556673129609365, -53.27984689033267, -46.48963913849616, -54.61343055926474, -46.73608191318674, -63.90614049700026, -46.67461056535293, -46.313949666820115, -46.581892636722, -52.44956994630389, -38.444454911660905, -46.58860913128279, -46.61126537399732, -49.253962871044024, null, -39.550115957153245, -47.8834165320561, -50.16460630460501, -35.79274135587063, -42.19113033850401, -51.023467723895074, -45.82353101304175, -46.543730535927494, -50.78131661888588, -46.631706291563255, -49.96842588763687, -55.503034042281726, -47.86635321288014, -47.193579120318525, -47.253621643696526, -54.48163145095327, -46.716854165704405, -47.403665466835115, -46.73204679285586, -46.72423545920135, -39.62695771472346, -49.67423965674856, -46.72827406953653, -46.33574703521018, -46.285012309740885, -47.47518514946042, -44.86794876164007, -43.07740761242845, -43.96989732025354, null, -41.13647511153721, -48.18288282480332, -34.90151901784201, -48.81841465084539, -43.645047574383966, -46.65266956035766, -46.15808470854209, -46.29011135453042, -43.522713149565476, -48.41762850933324, -46.50809227116394, -36.46052244483598, -35.544140554609406, -47.29234077366382, -48.34057593570546, -46.70876659172488, -43.11351000000001, -46.49736196586643, -50.141453295069475, -46.71403265514457, -46.65869529017828, -42.980322413863675, -46.63903288343237, -46.677493822926856, -52.085653765324345, -41.146343277031825, -47.5790872060516, -46.73319969038138, -52.46957147373936, -56.029099878794604, -47.39506168414479, -43.16913551788042, -39.048311767440794, -47.84936509587982, -38.475919344399145, -38.459126845167646, -46.71086220330083, -46.62708135498298, -46.64714813849616, -49.14814890452838, null, -51.38383940176974, -54.63337915752978, -46.99308402224949, -54.58639799739261, -46.55225036735811, -46.87452388015178, -49.52203974005656, -51.48512530558594, -51.043050259410286, -45.188757445517176, -47.93987494048565, -44.30691703831165, -46.62579287760399, -39.240968728407246, -51.43800904925885, -44.125996547319524, -35.662136851953136, -47.45068994727024, -51.519308304573755, -45.92139406444914, -46.56964340175425, -52.41952974038413, -46.89602199770889, null, -40.370634, -42.82684480941092, -52.44815098706006, -43.991336462115534, -45.92583719964928, -38.57535116699996, -49.159041452420645, -46.707110694990966, -42.291861644791226, -46.60004119025911, -46.64906303274859, -49.629912271616966, -44.60319439419738, -46.7527721799693, -47.93030100000001, -47.1630608228951, -41.69805439418312, -46.7804287142651, -52.74201065204392, -34.826108495219444, -48.08492005713518, -48.920062745085275, -42.39093551028189, -52.53808391172603, -47.98835074978382, -43.24503317740128, -38.229855323932405, -48.20729293727968, -35.91378340816983, -46.72512904829458, -42.34430404940598, -46.74249923147693, -52.23653155536961, -34.83302869261996, -46.73897032960296, -46.62848920552253, -43.92839036124404, -49.27040624355126, -37.06164202161597, -50.0544068056725, -47.15599451132059], \"marker\": {\"color\": [\"red\", \"blue\", \"green\", \"green\", \"blue\", \"blue\", \"red\", \"green\", \"red\", \"orange\", \"blue\", \"blue\", \"green\", \"blue\", \"green\", \"green\", \"green\", \"green\", \"blue\", \"green\", \"green\", \"red\", \"green\", \"green\", \"blue\", \"green\", \"green\", \"green\", \"green\", \"green\", \"red\", \"green\", \"blue\", \"green\", \"green\", \"green\", \"red\", \"green\", \"green\", \"blue\", \"green\", \"green\", \"red\", \"red\", \"green\", \"green\", \"red\", \"green\", \"green\", \"blue\", \"green\", \"red\", \"blue\", \"blue\", \"red\", \"green\", \"green\", \"green\", \"green\", \"red\", \"green\", \"blue\", \"green\", \"blue\", \"blue\", \"green\", \"blue\", \"blue\", \"red\", \"green\", \"blue\", \"blue\", \"green\", \"green\", \"green\", \"orange\", \"red\", \"blue\", \"blue\", \"green\", \"green\", \"green\", \"green\", \"red\", \"blue\", \"orange\", \"blue\", \"blue\", \"blue\", \"blue\", \"red\", \"red\", \"blue\", \"green\", \"blue\", \"green\", \"blue\", \"green\", \"green\", \"blue\", \"green\", \"blue\", \"blue\", \"green\", \"green\", \"green\", \"blue\", \"green\", \"blue\", \"blue\", \"green\", \"green\", \"green\", \"blue\", \"blue\", \"blue\", \"red\", \"blue\", \"green\", \"red\", \"green\", \"blue\", \"red\", \"green\", \"green\", \"green\", \"green\", \"green\", \"green\", \"red\", \"blue\", \"green\", \"blue\", \"green\", \"red\", \"green\", \"blue\", \"green\", \"green\", \"blue\", \"red\", \"green\", \"blue\", \"green\", \"red\", \"green\", \"red\", \"green\", \"green\", \"red\", \"green\", \"red\", \"green\", \"red\", \"blue\", \"green\", \"blue\", \"blue\", \"blue\", \"green\", \"blue\", \"red\", \"red\", \"blue\", \"green\", \"green\", \"blue\", \"blue\", \"blue\", \"green\", \"red\", \"red\", \"blue\", \"green\", \"blue\", \"green\", \"green\", \"blue\", \"red\", \"blue\", \"blue\", \"blue\", \"red\", \"blue\", \"red\", \"green\", \"blue\", \"green\", \"orange\", \"red\", \"green\", \"red\", \"blue\", \"green\", \"blue\", \"green\", \"red\", \"blue\", \"blue\", \"red\"], \"size\": 2}, \"type\": \"scattermapbox\"}],                        {\"mapbox\": {\"accesstoken\": \"pk.eyJ1IjoiaG9vbmtlbmc5MyIsImEiOiJjam43cGhpNng2ZmpxM3JxY3Z4ODl2NWo3In0.SGRvJlToMtgRxw9ZWzPFrA\", \"bearing\": 10, \"center\": {\"lat\": -23.5, \"lon\": -46.6}, \"pitch\": 0, \"zoom\": 2}, \"showlegend\": false, \"title\": \"K-Means Cluster Customers\"},                        {\"responsive\": true}                    ).then(function(){\n                            \nvar gd = document.getElementById('29fc0ca9-1022-4bc4-a7b7-3104da0964d1');\nvar x = new MutationObserver(function (mutations, observer) {{\n        var display = window.getComputedStyle(gd).display;\n        if (!display || display === 'none') {{\n            console.log([gd, 'removed!']);\n            Plotly.purge(gd);\n            observer.disconnect();\n        }}\n}});\n\n// Listen for the removal of the full notebook cells\nvar notebookContainer = gd.closest('#notebook-container');\nif (notebookContainer) {{\n    x.observe(notebookContainer, {childList: true});\n}}\n\n// Listen for the clearing of the current output cell\nvar outputEl = gd.closest('.output');\nif (outputEl) {{\n    x.observe(outputEl, {childList: true});\n}}\n\n                        })                };                });            </script>        </div>"
     },
     "metadata": {},
     "output_type": "display_data"
    }
   ],
   "source": [
    "\r\n",
    "Olist_analysis.plot_map(sample_k_means_4, 'K-Means Cluster Customers', 0, 3, 'Cluster', 2, True)"
   ]
  },
  {
   "cell_type": "markdown",
   "metadata": {},
   "source": [
    "# Conclusion\r\n",
    "\r\n",
    "- K-Means clustering reveals that four customer segments generates an effective fit for the data\r\n",
    "- There are two important segments for the business: New Low-Spenders, Big Spenders"
   ]
  }
 ],
 "metadata": {
  "kernelspec": {
   "display_name": "Python 3.7.6 64-bit ('base': conda)",
   "name": "python376jvsc74a57bd0030847d411e36e540a334fb57dfac4e8fa9ee3ff53a789bd52207a333d67df0a"
  },
  "language_info": {
   "codemirror_mode": {
    "name": "ipython",
    "version": 3
   },
   "file_extension": ".py",
   "mimetype": "text/x-python",
   "name": "python",
   "nbconvert_exporter": "python",
   "pygments_lexer": "ipython3",
   "version": "3.7.6"
  },
  "orig_nbformat": 2
 },
 "nbformat": 4,
 "nbformat_minor": 2
}